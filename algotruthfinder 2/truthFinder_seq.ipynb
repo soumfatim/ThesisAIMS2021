{
 "cells": [
  {
   "cell_type": "code",
   "execution_count": 1,
   "id": "12f97479",
   "metadata": {},
   "outputs": [],
   "source": [
    "import pandas as pd\n",
    "import numpy as np\n",
    "import math as m"
   ]
  },
  {
   "cell_type": "code",
   "execution_count": null,
   "id": "35eb3a8a",
   "metadata": {
    "scrolled": true
   },
   "outputs": [],
   "source": []
  },
  {
   "cell_type": "code",
   "execution_count": 2,
   "id": "7f182e0b",
   "metadata": {},
   "outputs": [
    {
     "data": {
      "text/html": [
       "<div>\n",
       "<style scoped>\n",
       "    .dataframe tbody tr th:only-of-type {\n",
       "        vertical-align: middle;\n",
       "    }\n",
       "\n",
       "    .dataframe tbody tr th {\n",
       "        vertical-align: top;\n",
       "    }\n",
       "\n",
       "    .dataframe thead th {\n",
       "        text-align: right;\n",
       "    }\n",
       "</style>\n",
       "<table border=\"1\" class=\"dataframe\">\n",
       "  <thead>\n",
       "    <tr style=\"text-align: right;\">\n",
       "      <th></th>\n",
       "      <th>Object</th>\n",
       "      <th>Property</th>\n",
       "      <th>Value</th>\n",
       "      <th>Source</th>\n",
       "    </tr>\n",
       "  </thead>\n",
       "  <tbody>\n",
       "    <tr>\n",
       "      <th>0</th>\n",
       "      <td>Object1</td>\n",
       "      <td>Property1</td>\n",
       "      <td>179475</td>\n",
       "      <td>Source1</td>\n",
       "    </tr>\n",
       "    <tr>\n",
       "      <th>1</th>\n",
       "      <td>Object1</td>\n",
       "      <td>Property3</td>\n",
       "      <td>371893</td>\n",
       "      <td>Source1</td>\n",
       "    </tr>\n",
       "    <tr>\n",
       "      <th>2</th>\n",
       "      <td>Object2</td>\n",
       "      <td>Property1</td>\n",
       "      <td>422854</td>\n",
       "      <td>Source1</td>\n",
       "    </tr>\n",
       "    <tr>\n",
       "      <th>3</th>\n",
       "      <td>Object2</td>\n",
       "      <td>Property3</td>\n",
       "      <td>324512</td>\n",
       "      <td>Source1</td>\n",
       "    </tr>\n",
       "    <tr>\n",
       "      <th>4</th>\n",
       "      <td>Object3</td>\n",
       "      <td>Property1</td>\n",
       "      <td>489481</td>\n",
       "      <td>Source1</td>\n",
       "    </tr>\n",
       "    <tr>\n",
       "      <th>...</th>\n",
       "      <td>...</td>\n",
       "      <td>...</td>\n",
       "      <td>...</td>\n",
       "      <td>...</td>\n",
       "    </tr>\n",
       "    <tr>\n",
       "      <th>145</th>\n",
       "      <td>Object6</td>\n",
       "      <td>Property2</td>\n",
       "      <td>319997</td>\n",
       "      <td>Source4</td>\n",
       "    </tr>\n",
       "    <tr>\n",
       "      <th>146</th>\n",
       "      <td>Object7</td>\n",
       "      <td>Property2</td>\n",
       "      <td>269456</td>\n",
       "      <td>Source4</td>\n",
       "    </tr>\n",
       "    <tr>\n",
       "      <th>147</th>\n",
       "      <td>Object8</td>\n",
       "      <td>Property2</td>\n",
       "      <td>323152</td>\n",
       "      <td>Source4</td>\n",
       "    </tr>\n",
       "    <tr>\n",
       "      <th>148</th>\n",
       "      <td>Object9</td>\n",
       "      <td>Property2</td>\n",
       "      <td>286530</td>\n",
       "      <td>Source4</td>\n",
       "    </tr>\n",
       "    <tr>\n",
       "      <th>149</th>\n",
       "      <td>Object10</td>\n",
       "      <td>Property2</td>\n",
       "      <td>856218</td>\n",
       "      <td>Source4</td>\n",
       "    </tr>\n",
       "  </tbody>\n",
       "</table>\n",
       "<p>150 rows × 4 columns</p>\n",
       "</div>"
      ],
      "text/plain": [
       "       Object   Property   Value   Source\n",
       "0     Object1  Property1  179475  Source1\n",
       "1     Object1  Property3  371893  Source1\n",
       "2     Object2  Property1  422854  Source1\n",
       "3     Object2  Property3  324512  Source1\n",
       "4     Object3  Property1  489481  Source1\n",
       "..        ...        ...     ...      ...\n",
       "145   Object6  Property2  319997  Source4\n",
       "146   Object7  Property2  269456  Source4\n",
       "147   Object8  Property2  323152  Source4\n",
       "148   Object9  Property2  286530  Source4\n",
       "149  Object10  Property2  856218  Source4\n",
       "\n",
       "[150 rows x 4 columns]"
      ]
     },
     "execution_count": 2,
     "metadata": {},
     "output_type": "execute_result"
    }
   ],
   "source": [
    "data=pd.read_csv('data.csv')\n",
    "data_T=pd.DataFrame(data, columns= ['Object','Property','Value','Source'])\n",
    "data_T"
   ]
  },
  {
   "cell_type": "code",
   "execution_count": 3,
   "id": "ec874dd0",
   "metadata": {
    "scrolled": false
   },
   "outputs": [
    {
     "data": {
      "text/html": [
       "<div>\n",
       "<style scoped>\n",
       "    .dataframe tbody tr th:only-of-type {\n",
       "        vertical-align: middle;\n",
       "    }\n",
       "\n",
       "    .dataframe tbody tr th {\n",
       "        vertical-align: top;\n",
       "    }\n",
       "\n",
       "    .dataframe thead th {\n",
       "        text-align: right;\n",
       "    }\n",
       "</style>\n",
       "<table border=\"1\" class=\"dataframe\">\n",
       "  <thead>\n",
       "    <tr style=\"text-align: right;\">\n",
       "      <th></th>\n",
       "      <th>Object</th>\n",
       "      <th>Property</th>\n",
       "      <th>Value</th>\n",
       "      <th>Source</th>\n",
       "      <th>TSInitial</th>\n",
       "      <th>C_v</th>\n",
       "    </tr>\n",
       "  </thead>\n",
       "  <tbody>\n",
       "    <tr>\n",
       "      <th>0</th>\n",
       "      <td>Object1</td>\n",
       "      <td>Property1</td>\n",
       "      <td>179475</td>\n",
       "      <td>Source1</td>\n",
       "      <td>0.8</td>\n",
       "      <td>0.0</td>\n",
       "    </tr>\n",
       "    <tr>\n",
       "      <th>1</th>\n",
       "      <td>Object1</td>\n",
       "      <td>Property3</td>\n",
       "      <td>371893</td>\n",
       "      <td>Source1</td>\n",
       "      <td>0.8</td>\n",
       "      <td>0.0</td>\n",
       "    </tr>\n",
       "    <tr>\n",
       "      <th>2</th>\n",
       "      <td>Object2</td>\n",
       "      <td>Property1</td>\n",
       "      <td>422854</td>\n",
       "      <td>Source1</td>\n",
       "      <td>0.8</td>\n",
       "      <td>0.0</td>\n",
       "    </tr>\n",
       "    <tr>\n",
       "      <th>3</th>\n",
       "      <td>Object2</td>\n",
       "      <td>Property3</td>\n",
       "      <td>324512</td>\n",
       "      <td>Source1</td>\n",
       "      <td>0.8</td>\n",
       "      <td>0.0</td>\n",
       "    </tr>\n",
       "    <tr>\n",
       "      <th>4</th>\n",
       "      <td>Object3</td>\n",
       "      <td>Property1</td>\n",
       "      <td>489481</td>\n",
       "      <td>Source1</td>\n",
       "      <td>0.8</td>\n",
       "      <td>0.0</td>\n",
       "    </tr>\n",
       "  </tbody>\n",
       "</table>\n",
       "</div>"
      ],
      "text/plain": [
       "    Object   Property   Value   Source  TSInitial  C_v\n",
       "0  Object1  Property1  179475  Source1        0.8  0.0\n",
       "1  Object1  Property3  371893  Source1        0.8  0.0\n",
       "2  Object2  Property1  422854  Source1        0.8  0.0\n",
       "3  Object2  Property3  324512  Source1        0.8  0.0\n",
       "4  Object3  Property1  489481  Source1        0.8  0.0"
      ]
     },
     "execution_count": 3,
     "metadata": {},
     "output_type": "execute_result"
    }
   ],
   "source": [
    "data_T['TSInitial']=0.8\n",
    "data_T['C_v']=0.0\n",
    "data_T.head(5)"
   ]
  },
  {
   "cell_type": "code",
   "execution_count": 4,
   "id": "12183e26",
   "metadata": {},
   "outputs": [],
   "source": [
    "# Definition de la matice de similarite\n",
    "def similarity(dataframe):\n",
    "    dict_sim = {}\n",
    "    for key, df in dataframe.groupby(by=['Object','Property']):\n",
    "        Values = df['Value'].unique()\n",
    "        row = key[0]+key[1]\n",
    "        for  i in range(len(Values)):\n",
    "            w1 = Values[i]\n",
    "            for  u in range(len(Values)):\n",
    "                w2 = Values[u]\n",
    "                sim = 1\n",
    "                if w1!=w2:\n",
    "                    t = abs(w1-w2)\n",
    "                    sim = 1/t\n",
    "                dict_sim[row+str(w1)+str(w2)] = sim\n",
    "                dict_sim[row+str(w2)+str(w1)] = sim\n",
    "    return dict_sim"
   ]
  },
  {
   "cell_type": "code",
   "execution_count": 5,
   "id": "a28fccb3",
   "metadata": {},
   "outputs": [],
   "source": [
    "import math\n",
    "def Ts(df):\n",
    "    ts_list = df['TSInitial'].to_list()\n",
    "    return sum([-math.log(1-ts) for ts in ts_list])\n",
    "def cos_sim(a,b):\n",
    "    return float(np.dot(a, b) / (np.linalg.norm(a) * np.linalg.norm(b)))"
   ]
  },
  {
   "cell_type": "code",
   "execution_count": 6,
   "id": "9ab784c0",
   "metadata": {},
   "outputs": [],
   "source": [
    "import time as t\n",
    "from natsort import index_natsorted, order_by_index\n",
    "def TruthFinder_seq(data_T):\n",
    "    ni=5\n",
    "    trustold = 0.00001\n",
    "    start = t.time()\n",
    "    nb_iter_do = 0\n",
    "    rho=0.7\n",
    "    lam=0.5\n",
    "    dict_sim=similarity(data_T)\n",
    "    for i in range(ni):\n",
    "        df = data_T[['Source', 'TSInitial']].drop_duplicates().reindex(index=order_by_index(data_T[['Source', 'TSInitial']].drop_duplicates().index, index_natsorted(data_T[['Source', 'TSInitial']].drop_duplicates()['Source'], reverse=False)))\n",
    "        ts1=df['TSInitial']\n",
    "        grouped_df = data_T.groupby([\"Object\", \"Property\",\"Value\"])\n",
    "        for key,item in grouped_df:\n",
    "            sum_ = Ts(item)\n",
    "            data_T.loc[((data_T[\"Object\"] == key[0]) & (data_T[\"Property\"]==key[1]) & (data_T[\"Value\"]==key[2])), \"C_v\"]=sum_\n",
    "        grouped_df=data_T.groupby([\"Object\", \"Property\",\"Value\"])\n",
    "        for key ,item in grouped_df:\n",
    "            cv=data_T.loc[((data_T[\"Object\"] == key[0]) & (data_T[\"Property\"]==key[1]) & (data_T[\"Value\"]==key[2])), \"C_v\"].values[0]\n",
    "#             print(cv)\n",
    "\n",
    "            data_d=data_T.loc[((data_T[\"Object\"] == key[0]) & (data_T[\"Property\"]==key[1]) & (data_T[\"Value\"]!=key[2])), [\"Value\",\"C_v\"]]\n",
    "            for row in data_d.values:\n",
    "                Key_sim=key[0]+key[1]+str(key[2])+str(int(row[0]))\n",
    "                cv+=rho*(row[1]*dict_sim[Key_sim])\n",
    "            cv=1/(1+np.exp(-lam*cv))\n",
    "        #     print(cv)\n",
    "            data_T.loc[((data_T[\"Object\"] == key[0]) & (data_T[\"Property\"]==key[1]) & (data_T[\"Value\"]==key[2])), \"C_v\"]=cv\n",
    "        groupe_ts=data_T.groupby(['Source'])\n",
    "        for key,item in groupe_ts:\n",
    "            ts_=item['C_v'].mean()\n",
    "            data_T.loc[((data_T[\"Source\"] == key)), \"TSInitial\"]=ts_\n",
    "        df = data_T[['Source', 'TSInitial']].drop_duplicates().reindex(index=order_by_index(data_T[['Source', 'TSInitial']].drop_duplicates().index, index_natsorted(data_T[['Source', 'TSInitial']].drop_duplicates()['Source'], reverse=False)))\n",
    "        ts2=df['TSInitial']\n",
    "        print('Itération : ',i+1)\n",
    "        print(1-abs(cos_sim(ts1,ts2)))\n",
    "        nb_iter_do = i+1\n",
    "        if 1-abs(cos_sim(ts1,ts2)) < trustold:\n",
    "            break\n",
    "    end = t.time()\n",
    "\n",
    "    return data_T,end-start,nb_iter_do\n",
    "\n"
   ]
  },
  {
   "cell_type": "code",
   "execution_count": 28,
   "id": "29ce84c1",
   "metadata": {},
   "outputs": [
    {
     "name": "stdout",
     "output_type": "stream",
     "text": [
      "Itération :  1\n",
      "6.089191327829369e-07\n"
     ]
    }
   ],
   "source": [
    "result_=TruthFinder_seq(data_T)"
   ]
  },
  {
   "cell_type": "code",
   "execution_count": 29,
   "id": "88b561d4",
   "metadata": {},
   "outputs": [
    {
     "data": {
      "text/plain": [
       "(       Object   Property   Value   Source  TSInitial       C_v\n",
       " 0     Object1  Property1  179475  Source1   0.812253  0.927042\n",
       " 1     Object1  Property3  371893  Source1   0.812253  0.927042\n",
       " 2     Object2  Property1  422854  Source1   0.812253  0.927043\n",
       " 3     Object2  Property3  324512  Source1   0.812253  0.927042\n",
       " 4     Object3  Property1  489481  Source1   0.812253  0.927042\n",
       " ..        ...        ...     ...      ...        ...       ...\n",
       " 145   Object6  Property2  319997  Source4   0.671172  0.753253\n",
       " 146   Object7  Property2  269456  Source4   0.671172  0.753252\n",
       " 147   Object8  Property2  323152  Source4   0.671172  0.753252\n",
       " 148   Object9  Property2  286530  Source4   0.671172  0.753252\n",
       " 149  Object10  Property2  856218  Source4   0.671172  0.635995\n",
       " \n",
       " [150 rows x 6 columns],\n",
       " 0.5012810230255127,\n",
       " 1)"
      ]
     },
     "execution_count": 29,
     "metadata": {},
     "output_type": "execute_result"
    }
   ],
   "source": [
    "result_"
   ]
  },
  {
   "cell_type": "code",
   "execution_count": 9,
   "id": "afa90b14",
   "metadata": {},
   "outputs": [],
   "source": [
    "def res(result):\n",
    "    gr=result.groupby([\"Object\", \"Property\"])\n",
    "    data_out={'Object':[],'Property':[],'Value':[]}\n",
    "    for key,item in gr:\n",
    "#         print(item.values)\n",
    "        cv_max=0\n",
    "        value_pred=None\n",
    "        for line in item.values:\n",
    "#             print(line[5])\n",
    "            if cv_max<line[5]:\n",
    "                cv_max=line[5]\n",
    "                value_pred=line[2]\n",
    "        data_out['Object'].append(key[0])\n",
    "        data_out['Property'].append(key[1])\n",
    "        data_out['Value'].append(value_pred)\n",
    "    return pd.DataFrame(data_out)\n",
    "        \n",
    "        "
   ]
  },
  {
   "cell_type": "code",
   "execution_count": 11,
   "id": "ebf0b10c",
   "metadata": {},
   "outputs": [],
   "source": [
    "res_=res(result_[0])\n",
    "# len(res_)"
   ]
  },
  {
   "cell_type": "code",
   "execution_count": 12,
   "id": "ba44f342",
   "metadata": {},
   "outputs": [],
   "source": [
    "list_ = res_.to_numpy()"
   ]
  },
  {
   "cell_type": "code",
   "execution_count": 13,
   "id": "60971851",
   "metadata": {},
   "outputs": [],
   "source": [
    "data_truth=pd.read_csv('data_truth.csv')\n",
    "data_truth_=pd.DataFrame(data_truth, columns= ['Object','Property','Value'])\n"
   ]
  },
  {
   "cell_type": "code",
   "execution_count": 27,
   "id": "a2eea98b",
   "metadata": {},
   "outputs": [],
   "source": [
    "list__=data_T.to_numpy()\n",
    "# list__"
   ]
  },
  {
   "cell_type": "code",
   "execution_count": 20,
   "id": "2fe935b4",
   "metadata": {},
   "outputs": [],
   "source": [
    "list_1=data_truth_.to_numpy()\n"
   ]
  },
  {
   "cell_type": "code",
   "execution_count": 21,
   "id": "51123377",
   "metadata": {},
   "outputs": [],
   "source": [
    "def function(list_A,list_B):\n",
    "    binary=[]\n",
    "    search_list = [tuple(li[:-3]) for li in list_B]\n",
    "    for ser_item in search_list:\n",
    "        if ser_item in list_A:\n",
    "            binary.append(1)\n",
    "        else:\n",
    "            binary.append(0)\n",
    "    return binary"
   ]
  },
  {
   "cell_type": "code",
   "execution_count": 26,
   "id": "3d2953e4",
   "metadata": {},
   "outputs": [
    {
     "data": {
      "text/plain": [
       "[1,\n",
       " 1,\n",
       " 1,\n",
       " 1,\n",
       " 1,\n",
       " 1,\n",
       " 1,\n",
       " 1,\n",
       " 1,\n",
       " 1,\n",
       " 1,\n",
       " 1,\n",
       " 1,\n",
       " 1,\n",
       " 1,\n",
       " 1,\n",
       " 1,\n",
       " 1,\n",
       " 1,\n",
       " 1,\n",
       " 1,\n",
       " 1,\n",
       " 1,\n",
       " 1,\n",
       " 1,\n",
       " 1,\n",
       " 1,\n",
       " 1,\n",
       " 1,\n",
       " 1,\n",
       " 1,\n",
       " 1,\n",
       " 1,\n",
       " 1,\n",
       " 1,\n",
       " 1,\n",
       " 1,\n",
       " 1,\n",
       " 1,\n",
       " 1,\n",
       " 1,\n",
       " 1,\n",
       " 1,\n",
       " 1,\n",
       " 1,\n",
       " 1,\n",
       " 1,\n",
       " 1,\n",
       " 1,\n",
       " 1,\n",
       " 1,\n",
       " 1,\n",
       " 1,\n",
       " 1,\n",
       " 1,\n",
       " 1,\n",
       " 1,\n",
       " 1,\n",
       " 1,\n",
       " 1,\n",
       " 1,\n",
       " 1,\n",
       " 1,\n",
       " 1,\n",
       " 1,\n",
       " 1,\n",
       " 1,\n",
       " 1,\n",
       " 1,\n",
       " 1,\n",
       " 1,\n",
       " 1,\n",
       " 1,\n",
       " 1,\n",
       " 1,\n",
       " 1,\n",
       " 1,\n",
       " 1,\n",
       " 1,\n",
       " 1,\n",
       " 1,\n",
       " 1,\n",
       " 1,\n",
       " 1,\n",
       " 1,\n",
       " 1,\n",
       " 1,\n",
       " 1,\n",
       " 1,\n",
       " 1,\n",
       " 1,\n",
       " 1,\n",
       " 1,\n",
       " 1,\n",
       " 1,\n",
       " 1,\n",
       " 1,\n",
       " 1,\n",
       " 1,\n",
       " 1,\n",
       " 1,\n",
       " 1,\n",
       " 1,\n",
       " 1,\n",
       " 1,\n",
       " 1,\n",
       " 1,\n",
       " 1,\n",
       " 1,\n",
       " 1,\n",
       " 1,\n",
       " 1,\n",
       " 1,\n",
       " 1,\n",
       " 1,\n",
       " 1,\n",
       " 1,\n",
       " 1,\n",
       " 1,\n",
       " 1,\n",
       " 1,\n",
       " 1,\n",
       " 1,\n",
       " 1,\n",
       " 1,\n",
       " 1,\n",
       " 1,\n",
       " 1,\n",
       " 1,\n",
       " 1,\n",
       " 1,\n",
       " 1,\n",
       " 1,\n",
       " 1,\n",
       " 1,\n",
       " 1,\n",
       " 1,\n",
       " 1,\n",
       " 1,\n",
       " 1,\n",
       " 1,\n",
       " 1,\n",
       " 1,\n",
       " 1,\n",
       " 1,\n",
       " 1,\n",
       " 1,\n",
       " 1,\n",
       " 1,\n",
       " 1]"
      ]
     },
     "execution_count": 26,
     "metadata": {},
     "output_type": "execute_result"
    }
   ],
   "source": [
    "res = function(list_, list__)\n",
    "res_truth=function(list_1, list__)\n",
    "res\n",
    "# res_truth"
   ]
  },
  {
   "cell_type": "code",
   "execution_count": 30,
   "id": "1d83b956",
   "metadata": {},
   "outputs": [
    {
     "name": "stdout",
     "output_type": "stream",
     "text": [
      "Requirement already satisfied: scikit-learn in /Users/admin/miniconda3/lib/python3.9/site-packages (0.24.2)\r\n",
      "Requirement already satisfied: joblib>=0.11 in /Users/admin/miniconda3/lib/python3.9/site-packages (from scikit-learn) (1.0.1)\r\n",
      "Requirement already satisfied: scipy>=0.19.1 in /Users/admin/miniconda3/lib/python3.9/site-packages (from scikit-learn) (1.7.1)\r\n",
      "Requirement already satisfied: numpy>=1.13.3 in /Users/admin/miniconda3/lib/python3.9/site-packages (from scikit-learn) (1.20.3)\r\n",
      "Requirement already satisfied: threadpoolctl>=2.0.0 in /Users/admin/miniconda3/lib/python3.9/site-packages (from scikit-learn) (2.2.0)\r\n"
     ]
    }
   ],
   "source": [
    "!pip install scikit-learn\n",
    "import sklearn"
   ]
  },
  {
   "cell_type": "code",
   "execution_count": 31,
   "id": "511abe5e",
   "metadata": {},
   "outputs": [],
   "source": [
    "from sklearn.metrics import precision_score\n",
    "from sklearn.metrics import accuracy_score\n",
    "from sklearn.metrics import recall_score\n",
    "from sklearn.metrics import f1_score"
   ]
  },
  {
   "cell_type": "code",
   "execution_count": 32,
   "id": "174f1429",
   "metadata": {},
   "outputs": [
    {
     "data": {
      "text/plain": [
       "1.0"
      ]
     },
     "execution_count": 32,
     "metadata": {},
     "output_type": "execute_result"
    }
   ],
   "source": [
    "precision_score(res_truth,res)"
   ]
  },
  {
   "cell_type": "code",
   "execution_count": 33,
   "id": "d6594b3e",
   "metadata": {},
   "outputs": [
    {
     "data": {
      "text/plain": [
       "1.0"
      ]
     },
     "execution_count": 33,
     "metadata": {},
     "output_type": "execute_result"
    }
   ],
   "source": [
    "accuracy_score(res_truth,res)"
   ]
  },
  {
   "cell_type": "code",
   "execution_count": 35,
   "id": "f54d10f5",
   "metadata": {},
   "outputs": [
    {
     "data": {
      "text/plain": [
       "1.0"
      ]
     },
     "execution_count": 35,
     "metadata": {},
     "output_type": "execute_result"
    }
   ],
   "source": [
    "recall_score(res_truth,res)"
   ]
  },
  {
   "cell_type": "code",
   "execution_count": 36,
   "id": "16cab142",
   "metadata": {},
   "outputs": [
    {
     "data": {
      "text/plain": [
       "1.0"
      ]
     },
     "execution_count": 36,
     "metadata": {},
     "output_type": "execute_result"
    }
   ],
   "source": [
    "f1_score(res_truth,res)"
   ]
  },
  {
   "cell_type": "code",
   "execution_count": null,
   "id": "87984fc9",
   "metadata": {},
   "outputs": [],
   "source": []
  }
 ],
 "metadata": {
  "kernelspec": {
   "display_name": "Python 3 (ipykernel)",
   "language": "python",
   "name": "python3"
  },
  "language_info": {
   "codemirror_mode": {
    "name": "ipython",
    "version": 3
   },
   "file_extension": ".py",
   "mimetype": "text/x-python",
   "name": "python",
   "nbconvert_exporter": "python",
   "pygments_lexer": "ipython3",
   "version": "3.9.5"
  }
 },
 "nbformat": 4,
 "nbformat_minor": 5
}

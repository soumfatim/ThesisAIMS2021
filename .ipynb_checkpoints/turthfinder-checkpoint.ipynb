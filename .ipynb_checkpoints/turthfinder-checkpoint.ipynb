{
 "cells": [
  {
   "cell_type": "code",
   "execution_count": 4,
   "id": "a25f90a2",
   "metadata": {},
   "outputs": [
    {
     "name": "stdout",
     "output_type": "stream",
     "text": [
      "Requirement already satisfied: findspark in /Users/admin/miniconda3/lib/python3.9/site-packages (1.4.2)\r\n"
     ]
    }
   ],
   "source": [
    "!pip3 install findspark"
   ]
  },
  {
   "cell_type": "code",
   "execution_count": 81,
   "id": "3fabd083",
   "metadata": {},
   "outputs": [
    {
     "name": "stdout",
     "output_type": "stream",
     "text": [
      "Collecting utils\n",
      "  Downloading utils-1.0.1-py2.py3-none-any.whl (21 kB)\n",
      "Installing collected packages: utils\n",
      "Successfully installed utils-1.0.1\n"
     ]
    }
   ],
   "source": [
    "!pip install utils"
   ]
  },
  {
   "cell_type": "code",
   "execution_count": 216,
   "id": "db7de279",
   "metadata": {},
   "outputs": [],
   "source": [
    "import findspark\n",
    "findspark.init()"
   ]
  },
  {
   "cell_type": "code",
   "execution_count": 217,
   "id": "3698f1f4",
   "metadata": {},
   "outputs": [],
   "source": [
    "import pyspark"
   ]
  },
  {
   "cell_type": "code",
   "execution_count": 218,
   "id": "b41f8c18",
   "metadata": {},
   "outputs": [],
   "source": [
    "from pyspark import SparkContext,SparkConf"
   ]
  },
  {
   "cell_type": "code",
   "execution_count": 219,
   "id": "e0aaeced",
   "metadata": {},
   "outputs": [
    {
     "data": {
      "text/html": [
       "\n",
       "        <div>\n",
       "            <p><b>SparkContext</b></p>\n",
       "\n",
       "            <p><a href=\"http://admins-mbp:4041\">Spark UI</a></p>\n",
       "\n",
       "            <dl>\n",
       "              <dt>Version</dt>\n",
       "                <dd><code>v3.0.3</code></dd>\n",
       "              <dt>Master</dt>\n",
       "                <dd><code>local[*]</code></dd>\n",
       "              <dt>AppName</dt>\n",
       "                <dd><code>pyspark-shell</code></dd>\n",
       "            </dl>\n",
       "        </div>\n",
       "        "
      ],
      "text/plain": [
       "<SparkContext master=local[*] appName=pyspark-shell>"
      ]
     },
     "execution_count": 219,
     "metadata": {},
     "output_type": "execute_result"
    }
   ],
   "source": [
    "sc=SparkContext.getOrCreate()\n",
    "sc"
   ]
  },
  {
   "cell_type": "code",
   "execution_count": 220,
   "id": "837a18cf",
   "metadata": {},
   "outputs": [],
   "source": [
    "import pandas as pd"
   ]
  },
  {
   "cell_type": "code",
   "execution_count": 221,
   "id": "8d4b31e0",
   "metadata": {},
   "outputs": [],
   "source": [
    "data=pd.read_csv('/Users/admin/Downloads/ProjetTD-AC-main/data/DS1/data.csv')"
   ]
  },
  {
   "cell_type": "code",
   "execution_count": 222,
   "id": "bfdaa8d0",
   "metadata": {},
   "outputs": [
    {
     "data": {
      "text/html": [
       "<div>\n",
       "<style scoped>\n",
       "    .dataframe tbody tr th:only-of-type {\n",
       "        vertical-align: middle;\n",
       "    }\n",
       "\n",
       "    .dataframe tbody tr th {\n",
       "        vertical-align: top;\n",
       "    }\n",
       "\n",
       "    .dataframe thead th {\n",
       "        text-align: right;\n",
       "    }\n",
       "</style>\n",
       "<table border=\"1\" class=\"dataframe\">\n",
       "  <thead>\n",
       "    <tr style=\"text-align: right;\">\n",
       "      <th></th>\n",
       "      <th>ID</th>\n",
       "      <th>Object</th>\n",
       "      <th>Property</th>\n",
       "      <th>Value</th>\n",
       "      <th>Source</th>\n",
       "      <th>ObjectProperty</th>\n",
       "      <th>trustworthiness</th>\n",
       "      <th>oldtrustworthiness</th>\n",
       "      <th>Value_confidence</th>\n",
       "    </tr>\n",
       "  </thead>\n",
       "  <tbody>\n",
       "    <tr>\n",
       "      <th>0</th>\n",
       "      <td>0.0</td>\n",
       "      <td>Object1</td>\n",
       "      <td>Property5</td>\n",
       "      <td>234041</td>\n",
       "      <td>Source1</td>\n",
       "      <td>Object1Property5</td>\n",
       "      <td>0.8</td>\n",
       "      <td>0.8</td>\n",
       "      <td>1.0</td>\n",
       "    </tr>\n",
       "    <tr>\n",
       "      <th>1</th>\n",
       "      <td>0.0</td>\n",
       "      <td>Object1</td>\n",
       "      <td>Property3</td>\n",
       "      <td>476627</td>\n",
       "      <td>Source1</td>\n",
       "      <td>Object1Property3</td>\n",
       "      <td>0.8</td>\n",
       "      <td>0.8</td>\n",
       "      <td>1.0</td>\n",
       "    </tr>\n",
       "    <tr>\n",
       "      <th>2</th>\n",
       "      <td>0.0</td>\n",
       "      <td>Object2</td>\n",
       "      <td>Property5</td>\n",
       "      <td>360789</td>\n",
       "      <td>Source1</td>\n",
       "      <td>Object2Property5</td>\n",
       "      <td>0.8</td>\n",
       "      <td>0.8</td>\n",
       "      <td>1.0</td>\n",
       "    </tr>\n",
       "    <tr>\n",
       "      <th>3</th>\n",
       "      <td>0.0</td>\n",
       "      <td>Object2</td>\n",
       "      <td>Property3</td>\n",
       "      <td>217264</td>\n",
       "      <td>Source1</td>\n",
       "      <td>Object2Property3</td>\n",
       "      <td>0.8</td>\n",
       "      <td>0.8</td>\n",
       "      <td>1.0</td>\n",
       "    </tr>\n",
       "    <tr>\n",
       "      <th>4</th>\n",
       "      <td>0.0</td>\n",
       "      <td>Object3</td>\n",
       "      <td>Property5</td>\n",
       "      <td>274376</td>\n",
       "      <td>Source1</td>\n",
       "      <td>Object3Property5</td>\n",
       "      <td>0.8</td>\n",
       "      <td>0.8</td>\n",
       "      <td>1.0</td>\n",
       "    </tr>\n",
       "    <tr>\n",
       "      <th>...</th>\n",
       "      <td>...</td>\n",
       "      <td>...</td>\n",
       "      <td>...</td>\n",
       "      <td>...</td>\n",
       "      <td>...</td>\n",
       "      <td>...</td>\n",
       "      <td>...</td>\n",
       "      <td>...</td>\n",
       "      <td>...</td>\n",
       "    </tr>\n",
       "    <tr>\n",
       "      <th>59995</th>\n",
       "      <td>0.0</td>\n",
       "      <td>Object996</td>\n",
       "      <td>Property1</td>\n",
       "      <td>978533</td>\n",
       "      <td>Source8</td>\n",
       "      <td>Object996Property1</td>\n",
       "      <td>0.8</td>\n",
       "      <td>0.8</td>\n",
       "      <td>0.0</td>\n",
       "    </tr>\n",
       "    <tr>\n",
       "      <th>59996</th>\n",
       "      <td>0.0</td>\n",
       "      <td>Object997</td>\n",
       "      <td>Property1</td>\n",
       "      <td>591492</td>\n",
       "      <td>Source8</td>\n",
       "      <td>Object997Property1</td>\n",
       "      <td>0.8</td>\n",
       "      <td>0.8</td>\n",
       "      <td>0.0</td>\n",
       "    </tr>\n",
       "    <tr>\n",
       "      <th>59997</th>\n",
       "      <td>0.0</td>\n",
       "      <td>Object998</td>\n",
       "      <td>Property1</td>\n",
       "      <td>542462</td>\n",
       "      <td>Source8</td>\n",
       "      <td>Object998Property1</td>\n",
       "      <td>0.8</td>\n",
       "      <td>0.8</td>\n",
       "      <td>0.0</td>\n",
       "    </tr>\n",
       "    <tr>\n",
       "      <th>59998</th>\n",
       "      <td>0.0</td>\n",
       "      <td>Object999</td>\n",
       "      <td>Property1</td>\n",
       "      <td>983588</td>\n",
       "      <td>Source8</td>\n",
       "      <td>Object999Property1</td>\n",
       "      <td>0.8</td>\n",
       "      <td>0.8</td>\n",
       "      <td>0.0</td>\n",
       "    </tr>\n",
       "    <tr>\n",
       "      <th>59999</th>\n",
       "      <td>0.0</td>\n",
       "      <td>Object1000</td>\n",
       "      <td>Property1</td>\n",
       "      <td>964731</td>\n",
       "      <td>Source8</td>\n",
       "      <td>Object1000Property1</td>\n",
       "      <td>0.8</td>\n",
       "      <td>0.8</td>\n",
       "      <td>0.0</td>\n",
       "    </tr>\n",
       "  </tbody>\n",
       "</table>\n",
       "<p>60000 rows × 9 columns</p>\n",
       "</div>"
      ],
      "text/plain": [
       "        ID      Object   Property   Value   Source       ObjectProperty  \\\n",
       "0      0.0     Object1  Property5  234041  Source1     Object1Property5   \n",
       "1      0.0     Object1  Property3  476627  Source1     Object1Property3   \n",
       "2      0.0     Object2  Property5  360789  Source1     Object2Property5   \n",
       "3      0.0     Object2  Property3  217264  Source1     Object2Property3   \n",
       "4      0.0     Object3  Property5  274376  Source1     Object3Property5   \n",
       "...    ...         ...        ...     ...      ...                  ...   \n",
       "59995  0.0   Object996  Property1  978533  Source8   Object996Property1   \n",
       "59996  0.0   Object997  Property1  591492  Source8   Object997Property1   \n",
       "59997  0.0   Object998  Property1  542462  Source8   Object998Property1   \n",
       "59998  0.0   Object999  Property1  983588  Source8   Object999Property1   \n",
       "59999  0.0  Object1000  Property1  964731  Source8  Object1000Property1   \n",
       "\n",
       "       trustworthiness  oldtrustworthiness  Value_confidence  \n",
       "0                  0.8                 0.8               1.0  \n",
       "1                  0.8                 0.8               1.0  \n",
       "2                  0.8                 0.8               1.0  \n",
       "3                  0.8                 0.8               1.0  \n",
       "4                  0.8                 0.8               1.0  \n",
       "...                ...                 ...               ...  \n",
       "59995              0.8                 0.8               0.0  \n",
       "59996              0.8                 0.8               0.0  \n",
       "59997              0.8                 0.8               0.0  \n",
       "59998              0.8                 0.8               0.0  \n",
       "59999              0.8                 0.8               0.0  \n",
       "\n",
       "[60000 rows x 9 columns]"
      ]
     },
     "execution_count": 222,
     "metadata": {},
     "output_type": "execute_result"
    }
   ],
   "source": [
    "data"
   ]
  },
  {
   "cell_type": "code",
   "execution_count": 223,
   "id": "d03a6979",
   "metadata": {},
   "outputs": [],
   "source": [
    "\n",
    "data_=pd.DataFrame(data, columns= ['Object','Property','Value','Source'])"
   ]
  },
  {
   "cell_type": "code",
   "execution_count": 224,
   "id": "79fb647d",
   "metadata": {
    "scrolled": false
   },
   "outputs": [
    {
     "data": {
      "text/html": [
       "<div>\n",
       "<style scoped>\n",
       "    .dataframe tbody tr th:only-of-type {\n",
       "        vertical-align: middle;\n",
       "    }\n",
       "\n",
       "    .dataframe tbody tr th {\n",
       "        vertical-align: top;\n",
       "    }\n",
       "\n",
       "    .dataframe thead th {\n",
       "        text-align: right;\n",
       "    }\n",
       "</style>\n",
       "<table border=\"1\" class=\"dataframe\">\n",
       "  <thead>\n",
       "    <tr style=\"text-align: right;\">\n",
       "      <th></th>\n",
       "      <th>Object</th>\n",
       "      <th>Property</th>\n",
       "      <th>Value</th>\n",
       "      <th>Source</th>\n",
       "    </tr>\n",
       "  </thead>\n",
       "  <tbody>\n",
       "    <tr>\n",
       "      <th>0</th>\n",
       "      <td>Object1</td>\n",
       "      <td>Property5</td>\n",
       "      <td>234041</td>\n",
       "      <td>Source1</td>\n",
       "    </tr>\n",
       "    <tr>\n",
       "      <th>1</th>\n",
       "      <td>Object1</td>\n",
       "      <td>Property3</td>\n",
       "      <td>476627</td>\n",
       "      <td>Source1</td>\n",
       "    </tr>\n",
       "    <tr>\n",
       "      <th>2</th>\n",
       "      <td>Object2</td>\n",
       "      <td>Property5</td>\n",
       "      <td>360789</td>\n",
       "      <td>Source1</td>\n",
       "    </tr>\n",
       "    <tr>\n",
       "      <th>3</th>\n",
       "      <td>Object2</td>\n",
       "      <td>Property3</td>\n",
       "      <td>217264</td>\n",
       "      <td>Source1</td>\n",
       "    </tr>\n",
       "    <tr>\n",
       "      <th>4</th>\n",
       "      <td>Object3</td>\n",
       "      <td>Property5</td>\n",
       "      <td>274376</td>\n",
       "      <td>Source1</td>\n",
       "    </tr>\n",
       "    <tr>\n",
       "      <th>...</th>\n",
       "      <td>...</td>\n",
       "      <td>...</td>\n",
       "      <td>...</td>\n",
       "      <td>...</td>\n",
       "    </tr>\n",
       "    <tr>\n",
       "      <th>59995</th>\n",
       "      <td>Object996</td>\n",
       "      <td>Property1</td>\n",
       "      <td>978533</td>\n",
       "      <td>Source8</td>\n",
       "    </tr>\n",
       "    <tr>\n",
       "      <th>59996</th>\n",
       "      <td>Object997</td>\n",
       "      <td>Property1</td>\n",
       "      <td>591492</td>\n",
       "      <td>Source8</td>\n",
       "    </tr>\n",
       "    <tr>\n",
       "      <th>59997</th>\n",
       "      <td>Object998</td>\n",
       "      <td>Property1</td>\n",
       "      <td>542462</td>\n",
       "      <td>Source8</td>\n",
       "    </tr>\n",
       "    <tr>\n",
       "      <th>59998</th>\n",
       "      <td>Object999</td>\n",
       "      <td>Property1</td>\n",
       "      <td>983588</td>\n",
       "      <td>Source8</td>\n",
       "    </tr>\n",
       "    <tr>\n",
       "      <th>59999</th>\n",
       "      <td>Object1000</td>\n",
       "      <td>Property1</td>\n",
       "      <td>964731</td>\n",
       "      <td>Source8</td>\n",
       "    </tr>\n",
       "  </tbody>\n",
       "</table>\n",
       "<p>60000 rows × 4 columns</p>\n",
       "</div>"
      ],
      "text/plain": [
       "           Object   Property   Value   Source\n",
       "0         Object1  Property5  234041  Source1\n",
       "1         Object1  Property3  476627  Source1\n",
       "2         Object2  Property5  360789  Source1\n",
       "3         Object2  Property3  217264  Source1\n",
       "4         Object3  Property5  274376  Source1\n",
       "...           ...        ...     ...      ...\n",
       "59995   Object996  Property1  978533  Source8\n",
       "59996   Object997  Property1  591492  Source8\n",
       "59997   Object998  Property1  542462  Source8\n",
       "59998   Object999  Property1  983588  Source8\n",
       "59999  Object1000  Property1  964731  Source8\n",
       "\n",
       "[60000 rows x 4 columns]"
      ]
     },
     "execution_count": 224,
     "metadata": {},
     "output_type": "execute_result"
    }
   ],
   "source": [
    "data_"
   ]
  },
  {
   "cell_type": "code",
   "execution_count": 540,
   "id": "1787fd49",
   "metadata": {},
   "outputs": [],
   "source": [
    "data_.to_csv('/Users/admin/Documents/my thesis/My_data.csv',index=False)"
   ]
  },
  {
   "cell_type": "code",
   "execution_count": 541,
   "id": "df0e1613",
   "metadata": {},
   "outputs": [],
   "source": [
    "My_data=pd.read_csv('My_data.csv')"
   ]
  },
  {
   "cell_type": "code",
   "execution_count": 542,
   "id": "a3fb7c5e",
   "metadata": {},
   "outputs": [
    {
     "data": {
      "text/html": [
       "<div>\n",
       "<style scoped>\n",
       "    .dataframe tbody tr th:only-of-type {\n",
       "        vertical-align: middle;\n",
       "    }\n",
       "\n",
       "    .dataframe tbody tr th {\n",
       "        vertical-align: top;\n",
       "    }\n",
       "\n",
       "    .dataframe thead th {\n",
       "        text-align: right;\n",
       "    }\n",
       "</style>\n",
       "<table border=\"1\" class=\"dataframe\">\n",
       "  <thead>\n",
       "    <tr style=\"text-align: right;\">\n",
       "      <th></th>\n",
       "      <th>Object</th>\n",
       "      <th>Property</th>\n",
       "      <th>Value</th>\n",
       "      <th>Source</th>\n",
       "    </tr>\n",
       "  </thead>\n",
       "  <tbody>\n",
       "    <tr>\n",
       "      <th>0</th>\n",
       "      <td>Object1</td>\n",
       "      <td>Property5</td>\n",
       "      <td>234041</td>\n",
       "      <td>Source1</td>\n",
       "    </tr>\n",
       "    <tr>\n",
       "      <th>1</th>\n",
       "      <td>Object1</td>\n",
       "      <td>Property3</td>\n",
       "      <td>476627</td>\n",
       "      <td>Source1</td>\n",
       "    </tr>\n",
       "    <tr>\n",
       "      <th>2</th>\n",
       "      <td>Object2</td>\n",
       "      <td>Property5</td>\n",
       "      <td>360789</td>\n",
       "      <td>Source1</td>\n",
       "    </tr>\n",
       "    <tr>\n",
       "      <th>3</th>\n",
       "      <td>Object2</td>\n",
       "      <td>Property3</td>\n",
       "      <td>217264</td>\n",
       "      <td>Source1</td>\n",
       "    </tr>\n",
       "    <tr>\n",
       "      <th>4</th>\n",
       "      <td>Object3</td>\n",
       "      <td>Property5</td>\n",
       "      <td>274376</td>\n",
       "      <td>Source1</td>\n",
       "    </tr>\n",
       "    <tr>\n",
       "      <th>...</th>\n",
       "      <td>...</td>\n",
       "      <td>...</td>\n",
       "      <td>...</td>\n",
       "      <td>...</td>\n",
       "    </tr>\n",
       "    <tr>\n",
       "      <th>59995</th>\n",
       "      <td>Object996</td>\n",
       "      <td>Property1</td>\n",
       "      <td>978533</td>\n",
       "      <td>Source8</td>\n",
       "    </tr>\n",
       "    <tr>\n",
       "      <th>59996</th>\n",
       "      <td>Object997</td>\n",
       "      <td>Property1</td>\n",
       "      <td>591492</td>\n",
       "      <td>Source8</td>\n",
       "    </tr>\n",
       "    <tr>\n",
       "      <th>59997</th>\n",
       "      <td>Object998</td>\n",
       "      <td>Property1</td>\n",
       "      <td>542462</td>\n",
       "      <td>Source8</td>\n",
       "    </tr>\n",
       "    <tr>\n",
       "      <th>59998</th>\n",
       "      <td>Object999</td>\n",
       "      <td>Property1</td>\n",
       "      <td>983588</td>\n",
       "      <td>Source8</td>\n",
       "    </tr>\n",
       "    <tr>\n",
       "      <th>59999</th>\n",
       "      <td>Object1000</td>\n",
       "      <td>Property1</td>\n",
       "      <td>964731</td>\n",
       "      <td>Source8</td>\n",
       "    </tr>\n",
       "  </tbody>\n",
       "</table>\n",
       "<p>60000 rows × 4 columns</p>\n",
       "</div>"
      ],
      "text/plain": [
       "           Object   Property   Value   Source\n",
       "0         Object1  Property5  234041  Source1\n",
       "1         Object1  Property3  476627  Source1\n",
       "2         Object2  Property5  360789  Source1\n",
       "3         Object2  Property3  217264  Source1\n",
       "4         Object3  Property5  274376  Source1\n",
       "...           ...        ...     ...      ...\n",
       "59995   Object996  Property1  978533  Source8\n",
       "59996   Object997  Property1  591492  Source8\n",
       "59997   Object998  Property1  542462  Source8\n",
       "59998   Object999  Property1  983588  Source8\n",
       "59999  Object1000  Property1  964731  Source8\n",
       "\n",
       "[60000 rows x 4 columns]"
      ]
     },
     "execution_count": 542,
     "metadata": {},
     "output_type": "execute_result"
    }
   ],
   "source": [
    "My_data"
   ]
  },
  {
   "cell_type": "code",
   "execution_count": 543,
   "id": "c687da21",
   "metadata": {},
   "outputs": [],
   "source": [
    "read_ = sc.textFile(\"My_data.csv\")\n",
    "essai=read_.map(lambda line: line.split(\",\")).map(lambda line:(line[0],line[1],line[2],line[3]))"
   ]
  },
  {
   "cell_type": "code",
   "execution_count": 544,
   "id": "f6d6f5e2",
   "metadata": {},
   "outputs": [
    {
     "data": {
      "text/plain": [
       "[('Object', 'Property', 'Value', 'Source'),\n",
       " ('Object1', 'Property5', '234041', 'Source1'),\n",
       " ('Object1', 'Property3', '476627', 'Source1'),\n",
       " ('Object2', 'Property5', '360789', 'Source1'),\n",
       " ('Object2', 'Property3', '217264', 'Source1'),\n",
       " ('Object3', 'Property5', '274376', 'Source1'),\n",
       " ('Object3', 'Property3', '293465', 'Source1'),\n",
       " ('Object4', 'Property5', '223567', 'Source1'),\n",
       " ('Object4', 'Property3', '278921', 'Source1'),\n",
       " ('Object5', 'Property5', '382661', 'Source1')]"
      ]
     },
     "execution_count": 544,
     "metadata": {},
     "output_type": "execute_result"
    }
   ],
   "source": [
    "essai.take(10)"
   ]
  },
  {
   "cell_type": "code",
   "execution_count": 534,
   "id": "a9cd3711",
   "metadata": {},
   "outputs": [],
   "source": [
    "# essai.collect()"
   ]
  },
  {
   "cell_type": "code",
   "execution_count": null,
   "id": "63191843",
   "metadata": {},
   "outputs": [],
   "source": []
  },
  {
   "cell_type": "code",
   "execution_count": null,
   "id": "56f955d6",
   "metadata": {},
   "outputs": [],
   "source": []
  },
  {
   "cell_type": "code",
   "execution_count": 598,
   "id": "221fbb48",
   "metadata": {},
   "outputs": [],
   "source": [
    "def mapfonction(x):\n",
    "    return ((x[0],x[1],x[2]),-ln(1-x[4]))"
   ]
  },
  {
   "cell_type": "code",
   "execution_count": 599,
   "id": "734ea5ee",
   "metadata": {},
   "outputs": [],
   "source": [
    "def reduceFonction(x,y):\n",
    "    return x+y"
   ]
  },
  {
   "cell_type": "code",
   "execution_count": 600,
   "id": "9175bb99",
   "metadata": {},
   "outputs": [],
   "source": [
    "result=essai.map(mapfonction).reduceByKey(reduceFonction)"
   ]
  },
  {
   "cell_type": "code",
   "execution_count": 539,
   "id": "68532d20",
   "metadata": {},
   "outputs": [],
   "source": [
    "# result.saveAsTextFile(\"data_Res.csv/\")"
   ]
  },
  {
   "cell_type": "code",
   "execution_count": 37,
   "id": "64db9f10",
   "metadata": {},
   "outputs": [],
   "source": [
    "# parallelisation de truthfinder "
   ]
  },
  {
   "cell_type": "code",
   "execution_count": 38,
   "id": "d30d0eb3",
   "metadata": {},
   "outputs": [],
   "source": [
    "# parallelisation de la fonction de confidence d'une valeur "
   ]
  },
  {
   "cell_type": "code",
   "execution_count": 545,
   "id": "31ea4b45",
   "metadata": {},
   "outputs": [],
   "source": [
    "# constitution de dataframe pour le travail\n",
    "My_data['TSInitial']=0.8\n",
    "My_data['C_v']=0.0"
   ]
  },
  {
   "cell_type": "code",
   "execution_count": 549,
   "id": "80fef140",
   "metadata": {
    "scrolled": false
   },
   "outputs": [],
   "source": [
    "My_data.to_csv('/Users/admin/Documents/my thesis/data_T.csv',index=False)"
   ]
  },
  {
   "cell_type": "code",
   "execution_count": 550,
   "id": "77d40bd6",
   "metadata": {},
   "outputs": [],
   "source": [
    "data_T=pd.read_csv( 'data_T.csv')"
   ]
  },
  {
   "cell_type": "code",
   "execution_count": 551,
   "id": "bc2e9755",
   "metadata": {
    "scrolled": true
   },
   "outputs": [
    {
     "data": {
      "text/html": [
       "<div>\n",
       "<style scoped>\n",
       "    .dataframe tbody tr th:only-of-type {\n",
       "        vertical-align: middle;\n",
       "    }\n",
       "\n",
       "    .dataframe tbody tr th {\n",
       "        vertical-align: top;\n",
       "    }\n",
       "\n",
       "    .dataframe thead th {\n",
       "        text-align: right;\n",
       "    }\n",
       "</style>\n",
       "<table border=\"1\" class=\"dataframe\">\n",
       "  <thead>\n",
       "    <tr style=\"text-align: right;\">\n",
       "      <th></th>\n",
       "      <th>Object</th>\n",
       "      <th>Property</th>\n",
       "      <th>Value</th>\n",
       "      <th>Source</th>\n",
       "      <th>TSInitial</th>\n",
       "      <th>C_v</th>\n",
       "    </tr>\n",
       "  </thead>\n",
       "  <tbody>\n",
       "    <tr>\n",
       "      <th>0</th>\n",
       "      <td>Object1</td>\n",
       "      <td>Property5</td>\n",
       "      <td>234041</td>\n",
       "      <td>Source1</td>\n",
       "      <td>0.8</td>\n",
       "      <td>0.0</td>\n",
       "    </tr>\n",
       "    <tr>\n",
       "      <th>1</th>\n",
       "      <td>Object1</td>\n",
       "      <td>Property3</td>\n",
       "      <td>476627</td>\n",
       "      <td>Source1</td>\n",
       "      <td>0.8</td>\n",
       "      <td>0.0</td>\n",
       "    </tr>\n",
       "    <tr>\n",
       "      <th>2</th>\n",
       "      <td>Object2</td>\n",
       "      <td>Property5</td>\n",
       "      <td>360789</td>\n",
       "      <td>Source1</td>\n",
       "      <td>0.8</td>\n",
       "      <td>0.0</td>\n",
       "    </tr>\n",
       "    <tr>\n",
       "      <th>3</th>\n",
       "      <td>Object2</td>\n",
       "      <td>Property3</td>\n",
       "      <td>217264</td>\n",
       "      <td>Source1</td>\n",
       "      <td>0.8</td>\n",
       "      <td>0.0</td>\n",
       "    </tr>\n",
       "    <tr>\n",
       "      <th>4</th>\n",
       "      <td>Object3</td>\n",
       "      <td>Property5</td>\n",
       "      <td>274376</td>\n",
       "      <td>Source1</td>\n",
       "      <td>0.8</td>\n",
       "      <td>0.0</td>\n",
       "    </tr>\n",
       "    <tr>\n",
       "      <th>...</th>\n",
       "      <td>...</td>\n",
       "      <td>...</td>\n",
       "      <td>...</td>\n",
       "      <td>...</td>\n",
       "      <td>...</td>\n",
       "      <td>...</td>\n",
       "    </tr>\n",
       "    <tr>\n",
       "      <th>59995</th>\n",
       "      <td>Object996</td>\n",
       "      <td>Property1</td>\n",
       "      <td>978533</td>\n",
       "      <td>Source8</td>\n",
       "      <td>0.8</td>\n",
       "      <td>0.0</td>\n",
       "    </tr>\n",
       "    <tr>\n",
       "      <th>59996</th>\n",
       "      <td>Object997</td>\n",
       "      <td>Property1</td>\n",
       "      <td>591492</td>\n",
       "      <td>Source8</td>\n",
       "      <td>0.8</td>\n",
       "      <td>0.0</td>\n",
       "    </tr>\n",
       "    <tr>\n",
       "      <th>59997</th>\n",
       "      <td>Object998</td>\n",
       "      <td>Property1</td>\n",
       "      <td>542462</td>\n",
       "      <td>Source8</td>\n",
       "      <td>0.8</td>\n",
       "      <td>0.0</td>\n",
       "    </tr>\n",
       "    <tr>\n",
       "      <th>59998</th>\n",
       "      <td>Object999</td>\n",
       "      <td>Property1</td>\n",
       "      <td>983588</td>\n",
       "      <td>Source8</td>\n",
       "      <td>0.8</td>\n",
       "      <td>0.0</td>\n",
       "    </tr>\n",
       "    <tr>\n",
       "      <th>59999</th>\n",
       "      <td>Object1000</td>\n",
       "      <td>Property1</td>\n",
       "      <td>964731</td>\n",
       "      <td>Source8</td>\n",
       "      <td>0.8</td>\n",
       "      <td>0.0</td>\n",
       "    </tr>\n",
       "  </tbody>\n",
       "</table>\n",
       "<p>60000 rows × 6 columns</p>\n",
       "</div>"
      ],
      "text/plain": [
       "           Object   Property   Value   Source  TSInitial  C_v\n",
       "0         Object1  Property5  234041  Source1        0.8  0.0\n",
       "1         Object1  Property3  476627  Source1        0.8  0.0\n",
       "2         Object2  Property5  360789  Source1        0.8  0.0\n",
       "3         Object2  Property3  217264  Source1        0.8  0.0\n",
       "4         Object3  Property5  274376  Source1        0.8  0.0\n",
       "...           ...        ...     ...      ...        ...  ...\n",
       "59995   Object996  Property1  978533  Source8        0.8  0.0\n",
       "59996   Object997  Property1  591492  Source8        0.8  0.0\n",
       "59997   Object998  Property1  542462  Source8        0.8  0.0\n",
       "59998   Object999  Property1  983588  Source8        0.8  0.0\n",
       "59999  Object1000  Property1  964731  Source8        0.8  0.0\n",
       "\n",
       "[60000 rows x 6 columns]"
      ]
     },
     "execution_count": 551,
     "metadata": {},
     "output_type": "execute_result"
    }
   ],
   "source": [
    "data_T"
   ]
  },
  {
   "cell_type": "code",
   "execution_count": 588,
   "id": "65d5116b",
   "metadata": {},
   "outputs": [],
   "source": [
    "# data_T['C_v']"
   ]
  },
  {
   "cell_type": "code",
   "execution_count": 758,
   "id": "4f39656b",
   "metadata": {},
   "outputs": [],
   "source": [
    "# Definition de la matice de similarite\n",
    "def similarity(dataframe):\n",
    "    dict_sim = {}\n",
    "    for key, df in dataframe.groupby(by=['Object','Property']):\n",
    "        Values = df['Value'].unique()\n",
    "        row = key[0]+key[1]\n",
    "        for  i in range(len(Values)):\n",
    "            w1 = Values[i]\n",
    "            for  u in range(len(Values)):\n",
    "                w2 = Values[u]\n",
    "                sim = 1\n",
    "                if w1!=w2:\n",
    "                    t = abs(w1-w2)\n",
    "                    sim = 1/t\n",
    "                dict_sim[row+str(w1)+str(w2)] = sim\n",
    "                dict_sim[row+str(w2)+str(w1)] = sim\n",
    "    return dict_sim"
   ]
  },
  {
   "cell_type": "code",
   "execution_count": 757,
   "id": "9875a361",
   "metadata": {},
   "outputs": [],
   "source": [
    "# Definition des fonctions globales de l'algorithme\n",
    "global rho\n",
    "rho=0.7\n",
    "global lam\n",
    "lam=0.5\n",
    "global dict_sim"
   ]
  },
  {
   "cell_type": "markdown",
   "id": "a54d10b8",
   "metadata": {},
   "source": [
    "Fonction de confiance d'une source"
   ]
  },
  {
   "cell_type": "code",
   "execution_count": 578,
   "id": "8b73c91d",
   "metadata": {},
   "outputs": [],
   "source": [
    "# Convertissons notre dataFrame en RDD\n",
    "read_ = sc.textFile(\"data_T.csv\")\n",
    "# Spliter selon les lignes de notre dataFrame\n",
    "read_rdd=read_.map(lambda line: line.split(\",\")).map(lambda line:(line[0],line[1],line[2],line[3],line[4],line[5])).filter(lambda x: x[0]!='Object')"
   ]
  },
  {
   "cell_type": "code",
   "execution_count": 589,
   "id": "c7458a5d",
   "metadata": {},
   "outputs": [
    {
     "data": {
      "text/plain": [
       "[('Object1', 'Property5', '234041', 'Source1', '0.8', '0.0'),\n",
       " ('Object1', 'Property3', '476627', 'Source1', '0.8', '0.0'),\n",
       " ('Object2', 'Property5', '360789', 'Source1', '0.8', '0.0'),\n",
       " ('Object2', 'Property3', '217264', 'Source1', '0.8', '0.0'),\n",
       " ('Object3', 'Property5', '274376', 'Source1', '0.8', '0.0')]"
      ]
     },
     "execution_count": 589,
     "metadata": {},
     "output_type": "execute_result"
    }
   ],
   "source": [
    "# Lecture de notre RDD\n",
    "read_rdd.take(5)"
   ]
  },
  {
   "cell_type": "code",
   "execution_count": 614,
   "id": "723e031f",
   "metadata": {},
   "outputs": [],
   "source": [
    "import numpy as np\n",
    "import math as m"
   ]
  },
  {
   "cell_type": "code",
   "execution_count": 615,
   "id": "b393b6a3",
   "metadata": {},
   "outputs": [],
   "source": [
    "# la fonction Map\n",
    "# (input x est un quatriplet constitutue de (object,property,valeur, TSinitial) et le renvoie \n",
    "# la cle(object,property,valeur) et la valeur sigma_v)\n",
    "def MapFunction(x):\n",
    "    return ((x[0],x[1],x[2]),-m.log(1-float(x[4])))"
   ]
  },
  {
   "cell_type": "code",
   "execution_count": 619,
   "id": "538ce0a2",
   "metadata": {},
   "outputs": [
    {
     "data": {
      "text/plain": [
       "[(('Object1', 'Property5', '234041'), 1.6094379124341005),\n",
       " (('Object1', 'Property3', '476627'), 1.6094379124341005)]"
      ]
     },
     "execution_count": 619,
     "metadata": {},
     "output_type": "execute_result"
    }
   ],
   "source": [
    "# la sortie de la fonction Map\n",
    "retourMap=read_rdd.map(MapFunction)\n",
    "retourMap.take(2)"
   ]
  },
  {
   "cell_type": "code",
   "execution_count": null,
   "id": "8d5502bb",
   "metadata": {},
   "outputs": [],
   "source": [
    "retour=read.map(MapFunction)"
   ]
  },
  {
   "cell_type": "code",
   "execution_count": 617,
   "id": "1cfc51dd",
   "metadata": {},
   "outputs": [],
   "source": [
    "# definition de la fonction reduce\n",
    "# la fonction reduce prend en entree x qui est la cle et Y qui est de valeur dans le output du map\n",
    "def ReduceFunction(x,y):\n",
    "    return x+y"
   ]
  },
  {
   "cell_type": "code",
   "execution_count": 759,
   "id": "bd0f1509",
   "metadata": {},
   "outputs": [
    {
     "name": "stderr",
     "output_type": "stream",
     "text": [
      "/Users/admin/spark-3.0.3/python/lib/pyspark.zip/pyspark/shuffle.py:60: UserWarning: Please install psutil to have better support with spilling\n",
      "/Users/admin/spark-3.0.3/python/lib/pyspark.zip/pyspark/shuffle.py:60: UserWarning: Please install psutil to have better support with spilling\n"
     ]
    },
    {
     "data": {
      "text/plain": [
       "[(('Object1', 'Property3', '476627'), 4.8283137373023015),\n",
       " (('Object2', 'Property3', '217264'), 4.8283137373023015)]"
      ]
     },
     "execution_count": 759,
     "metadata": {},
     "output_type": "execute_result"
    }
   ],
   "source": [
    "retourMap.reduceByKey(ReduceFunction).take(2)"
   ]
  },
  {
   "cell_type": "code",
   "execution_count": 621,
   "id": "a32f094c",
   "metadata": {},
   "outputs": [],
   "source": [
    "# output=read_rdd.map(MapFunction)\n",
    "output=read_rdd.map(MapFunction).reduceByKey(ReduceFunction)"
   ]
  },
  {
   "cell_type": "code",
   "execution_count": 628,
   "id": "2d1bf154",
   "metadata": {
    "scrolled": true
   },
   "outputs": [
    {
     "data": {
      "text/plain": [
       "[(('Object1', 'Property3', '476627'), 4.8283137373023015),\n",
       " (('Object2', 'Property3', '217264'), 4.8283137373023015),\n",
       " (('Object3', 'Property5', '274376'), 4.8283137373023015),\n",
       " (('Object3', 'Property3', '293465'), 4.8283137373023015),\n",
       " (('Object4', 'Property5', '223567'), 4.8283137373023015),\n",
       " (('Object4', 'Property3', '278921'), 4.8283137373023015),\n",
       " (('Object7', 'Property3', '160372'), 4.8283137373023015),\n",
       " (('Object8', 'Property3', '345722'), 4.8283137373023015),\n",
       " (('Object9', 'Property5', '387265'), 4.8283137373023015),\n",
       " (('Object10', 'Property5', '363700'), 4.8283137373023015)]"
      ]
     },
     "execution_count": 628,
     "metadata": {},
     "output_type": "execute_result"
    }
   ],
   "source": [
    "output.take(10)"
   ]
  },
  {
   "cell_type": "code",
   "execution_count": 632,
   "id": "0d24a438",
   "metadata": {},
   "outputs": [],
   "source": [
    "# output.take(100).foreach(println)"
   ]
  },
  {
   "cell_type": "code",
   "execution_count": 815,
   "id": "f455b0f2",
   "metadata": {},
   "outputs": [],
   "source": [
    "# def maps(x):\n",
    "#     X=(x[0][0],x[0][1]),[(x[0][2],x[1])]\n",
    "#     Z=X[0]\n",
    "#     Y=X[1]\n",
    "#     for i in X[0]:\n",
    "#         lis=[]\n",
    "#         for j in X[0]:\n",
    "#             if i==j:\n",
    "                \n",
    "            "
   ]
  },
  {
   "cell_type": "code",
   "execution_count": 814,
   "id": "e7758a3d",
   "metadata": {},
   "outputs": [],
   "source": [
    "# output.map(essai).take(2)"
   ]
  },
  {
   "cell_type": "markdown",
   "id": "d813e201",
   "metadata": {},
   "source": [
    "Debut de la fonction ajustement"
   ]
  },
  {
   "cell_type": "code",
   "execution_count": 830,
   "id": "41b1d1be",
   "metadata": {},
   "outputs": [
    {
     "data": {
      "text/plain": [
       "[(('Object1', 'Property3', '476627'), 4.8283137373023015),\n",
       " (('Object2', 'Property3', '217264'), 4.8283137373023015),\n",
       " (('Object3', 'Property5', '274376'), 4.8283137373023015),\n",
       " (('Object3', 'Property3', '293465'), 4.8283137373023015)]"
      ]
     },
     "execution_count": 830,
     "metadata": {},
     "output_type": "execute_result"
    }
   ],
   "source": [
    "output.take(4)"
   ]
  },
  {
   "cell_type": "code",
   "execution_count": 710,
   "id": "79f41b74",
   "metadata": {},
   "outputs": [],
   "source": [
    "def Mapelement(x):\n",
    "    return (x[0][0],x[0][1]),[(x[0][2],x[1])]  "
   ]
  },
  {
   "cell_type": "code",
   "execution_count": 704,
   "id": "0f1771cd",
   "metadata": {},
   "outputs": [],
   "source": [
    "def ReduceShuffling(x,y):\n",
    "    return x+y"
   ]
  },
  {
   "cell_type": "code",
   "execution_count": 852,
   "id": "358e62fa",
   "metadata": {
    "scrolled": true
   },
   "outputs": [],
   "source": [
    "transf=output.map(Mapelement)#.reduceByKey(ReduceShuffling)"
   ]
  },
  {
   "cell_type": "code",
   "execution_count": 853,
   "id": "a7a9d6d3",
   "metadata": {
    "scrolled": true
   },
   "outputs": [
    {
     "name": "stderr",
     "output_type": "stream",
     "text": [
      "/Users/admin/spark-3.0.3/python/lib/pyspark.zip/pyspark/shuffle.py:60: UserWarning: Please install psutil to have better support with spilling\n"
     ]
    },
    {
     "data": {
      "text/plain": [
       "[(('Object1', 'Property3'), [('476627', 4.8283137373023015)])]"
      ]
     },
     "execution_count": 853,
     "metadata": {},
     "output_type": "execute_result"
    }
   ],
   "source": [
    "transf.take(1)"
   ]
  },
  {
   "cell_type": "code",
   "execution_count": 826,
   "id": "1f48b0fd",
   "metadata": {},
   "outputs": [],
   "source": [
    "def reduceFonction(x):\n",
    "    out=(x[0],[])\n",
    "    for v in x[1]:\n",
    "        c_v=v[1]\n",
    "        l=0\n",
    "        for v_ in x[1]:\n",
    "            if v[0]!=v_[0]:\n",
    "                Key_sim=x[0][0]+x[0][1]+str(v[0])+str(v_[0])\n",
    "                c_v+=rho*(v_[1]*dict_sim[Key_sim])\n",
    "        \n",
    "        CV=1/(1+np.exp(-lam*c_v))\n",
    "        out[1].append((v[0],CV))\n",
    "    return out"
   ]
  },
  {
   "cell_type": "code",
   "execution_count": 849,
   "id": "5a766638",
   "metadata": {},
   "outputs": [
    {
     "name": "stderr",
     "output_type": "stream",
     "text": [
      "/Users/admin/spark-3.0.3/python/lib/pyspark.zip/pyspark/shuffle.py:60: UserWarning: Please install psutil to have better support with spilling\n"
     ]
    },
    {
     "data": {
      "text/plain": [
       "[(('Object1', 'Property3'),\n",
       "  [('476627', 4.8283137373023015),\n",
       "   ('614710', 3.218875824868201),\n",
       "   ('921796', 1.6094379124341005),\n",
       "   ('940859', 1.6094379124341005),\n",
       "   ('568214', 1.6094379124341005),\n",
       "   ('979204', 1.6094379124341005),\n",
       "   ('583144', 1.6094379124341005)])]"
      ]
     },
     "execution_count": 849,
     "metadata": {},
     "output_type": "execute_result"
    }
   ],
   "source": [
    "transf.reduceByKey(reduceFonction).take(1)"
   ]
  },
  {
   "cell_type": "code",
   "execution_count": 855,
   "id": "279c610c",
   "metadata": {
    "scrolled": true
   },
   "outputs": [
    {
     "data": {
      "text/plain": [
       "[(('Object1', 'Property3'),\n",
       "  [('476627', 0.9179004847782343),\n",
       "   ('614710', 0.8333333333333334),\n",
       "   ('921796', 0.6909830056250527),\n",
       "   ('940859', 0.6909830056250527),\n",
       "   ('568214', 0.6909830056250527),\n",
       "   ('979204', 0.6909830056250527),\n",
       "   ('583144', 0.6909830056250527)]),\n",
       " (('Object2', 'Property3'),\n",
       "  [('217264', 0.9179004847782343),\n",
       "   ('503996', 0.8333333333333334),\n",
       "   ('702571', 0.6909830056250527),\n",
       "   ('573432', 0.6909830056250527),\n",
       "   ('738270', 0.6909830056250527),\n",
       "   ('992156', 0.6909830056250527),\n",
       "   ('798250', 0.6909830056250527)]),\n",
       " (('Object3', 'Property5'),\n",
       "  [('274376', 0.9179004847782343),\n",
       "   ('623856', 0.6909830056250527),\n",
       "   ('858686', 0.6909830056250527),\n",
       "   ('862053', 0.8333333333333334),\n",
       "   ('639971', 0.6909830056250527),\n",
       "   ('779628', 0.6909830056250527),\n",
       "   ('958810', 0.6909830056250527)])]"
      ]
     },
     "execution_count": 855,
     "metadata": {},
     "output_type": "execute_result"
    }
   ],
   "source": [
    "output.map(Mapelement).map(reduceFonction).reduceByKey(ReduceShuffling).take(3)"
   ]
  },
  {
   "cell_type": "code",
   "execution_count": 858,
   "id": "e5af711b",
   "metadata": {},
   "outputs": [
    {
     "data": {
      "text/plain": [
       "[(('Object1', 'Property3'),\n",
       "  [('476627', 0.9179022328966988),\n",
       "   ('614710', 0.8333399034562446),\n",
       "   ('921796', 0.6909936995519688),\n",
       "   ('940859', 0.6909946257355961),\n",
       "   ('568214', 0.6910011307820197),\n",
       "   ('979204', 0.6909902118314286),\n",
       "   ('583144', 0.6910030650579354)]),\n",
       " (('Object2', 'Property3'),\n",
       "  [('217264', 0.917901196851986),\n",
       "   ('503996', 0.8333364327146271),\n",
       "   ('702571', 0.6909909336584837),\n",
       "   ('573432', 0.690989966511498),\n",
       "   ('738270', 0.6909913030106378),\n",
       "   ('992156', 0.6909857607265718),\n",
       "   ('798250', 0.6909888619487258)]),\n",
       " (('Object3', 'Property5'),\n",
       "  [('274376', 0.9179010855120032),\n",
       "   ('623856', 0.6909941552053976),\n",
       "   ('858686', 0.6910588490365589),\n",
       "   ('862053', 0.8333594058834171),\n",
       "   ('639971', 0.6909943279603301),\n",
       "   ('779628', 0.6909904643557644),\n",
       "   ('958810', 0.6909886279370928)])]"
      ]
     },
     "execution_count": 858,
     "metadata": {},
     "output_type": "execute_result"
    }
   ],
   "source": [
    "output.map(Mapelement).reduceByKey(ReduceShuffling).map(reduceFonction).take(3)"
   ]
  },
  {
   "cell_type": "code",
   "execution_count": 839,
   "id": "3f5bfaba",
   "metadata": {},
   "outputs": [],
   "source": [
    "dict_sim=similarity(data_T)"
   ]
  },
  {
   "cell_type": "code",
   "execution_count": 1,
   "id": "9998869b",
   "metadata": {},
   "outputs": [],
   "source": [
    "# donnee=output.map(Mapelement).reduceByKey(ReduceShuffling).reduce(reduceFonction)"
   ]
  },
  {
   "cell_type": "code",
   "execution_count": 461,
   "id": "81f7c412",
   "metadata": {
    "scrolled": true
   },
   "outputs": [
    {
     "data": {
      "text/plain": [
       "[(('Object1', 'Property3'),\n",
       "  [('476627', 0.858874901684857),\n",
       "   ('614710', 0.7692370510538484),\n",
       "   ('921796', 0.6461191986885603),\n",
       "   ('940859', 0.6461199406270961),\n",
       "   ('568214', 0.6461251516437867),\n",
       "   ('979204', 0.6461164047826595),\n",
       "   ('583144', 0.6461267011448922)]),\n",
       " (('Object2', 'Property3'),\n",
       "  [('217264', 0.8588736550867768),\n",
       "   ('503996', 0.7692337326001029),\n",
       "   ('702571', 0.6461169830155514),\n",
       "   ('573432', 0.6461162082646716),\n",
       "   ('738270', 0.6461172788920387),\n",
       "   ('992156', 0.6461128391499741),\n",
       "   ('798250', 0.64611532343505)])]"
      ]
     },
     "execution_count": 461,
     "metadata": {},
     "output_type": "execute_result"
    }
   ],
   "source": [
    "donnee.take(2)"
   ]
  },
  {
   "cell_type": "code",
   "execution_count": 462,
   "id": "0ca3bd82",
   "metadata": {},
   "outputs": [
    {
     "data": {
      "text/plain": [
       "[(('Object2', 'Property3'),\n",
       "  [('217264', 0.8588736550867768),\n",
       "   ('503996', 0.7692337326001029),\n",
       "   ('702571', 0.6461169830155514),\n",
       "   ('573432', 0.6461162082646716),\n",
       "   ('738270', 0.6461172788920387),\n",
       "   ('992156', 0.6461128391499741),\n",
       "   ('798250', 0.64611532343505)])]"
      ]
     },
     "execution_count": 462,
     "metadata": {},
     "output_type": "execute_result"
    }
   ],
   "source": [
    "# def fonc(donnee,objet,propert):\n",
    "#     return donnee.filter(lambda x:x[0]==('Object2','Property3'))\n",
    "list(donnee.filter(lambda x:x[0]==('Object2','Property3')).take(1))"
   ]
  },
  {
   "cell_type": "code",
   "execution_count": 497,
   "id": "97111bcf",
   "metadata": {},
   "outputs": [
    {
     "name": "stderr",
     "output_type": "stream",
     "text": [
      "/Users/admin/spark-3.0.3/python/lib/pyspark.zip/pyspark/shuffle.py:60: UserWarning: Please install psutil to have better support with spilling\n",
      "/Users/admin/spark-3.0.3/python/lib/pyspark.zip/pyspark/shuffle.py:60: UserWarning: Please install psutil to have better support with spilling\n",
      "                                                                                \r"
     ]
    }
   ],
   "source": [
    "global donne\n",
    "donne=dict(list(donnee.collect()))\n",
    "def MapFor(x):\n",
    "    T=donne[(x[0],x[1])]\n",
    "#     T=list(donne.filter(lambda V:V[0]==(x[0],x[1])).take(1))\n",
    "    \n",
    "    Y=T[0][1]\n",
    "    C_v=0\n",
    "    for v in Y:\n",
    "        if v[0]==x[2]:\n",
    "            C_v=v[1]\n",
    "            break\n",
    "            \n",
    "    return x[0],x[1],x[2],x[3],C_v    \n",
    "    \n",
    "    "
   ]
  },
  {
   "cell_type": "code",
   "execution_count": 501,
   "id": "57d4d550",
   "metadata": {},
   "outputs": [],
   "source": [
    "# MapFor(dict(list(donnee.collect())))"
   ]
  },
  {
   "cell_type": "code",
   "execution_count": 502,
   "id": "101d2466",
   "metadata": {},
   "outputs": [],
   "source": [
    "# result.take(1)"
   ]
  },
  {
   "cell_type": "code",
   "execution_count": 483,
   "id": "e9ee0ac3",
   "metadata": {},
   "outputs": [],
   "source": [
    "# re=result.map(lambda x:x)"
   ]
  },
  {
   "cell_type": "code",
   "execution_count": 490,
   "id": "479ad28a",
   "metadata": {},
   "outputs": [],
   "source": [
    "# re.take(1)"
   ]
  },
  {
   "cell_type": "code",
   "execution_count": 491,
   "id": "02566195",
   "metadata": {
    "scrolled": true
   },
   "outputs": [],
   "source": [
    "# MapFor(('Object1', 'Property5', '234041', 'Source1', '0.7'))"
   ]
  },
  {
   "cell_type": "code",
   "execution_count": 478,
   "id": "9dedb569",
   "metadata": {},
   "outputs": [
    {
     "data": {
      "text/plain": [
       "[('Object1', 'Property5', '234041', 'Source1', '0.7')]"
      ]
     },
     "execution_count": 478,
     "metadata": {},
     "output_type": "execute_result"
    }
   ],
   "source": [
    "read_rdd.take(1)"
   ]
  },
  {
   "cell_type": "code",
   "execution_count": 362,
   "id": "3b2ad733",
   "metadata": {},
   "outputs": [],
   "source": [
    "# data_essai.shape"
   ]
  },
  {
   "cell_type": "code",
   "execution_count": 357,
   "id": "40a8d8fc",
   "metadata": {
    "scrolled": false
   },
   "outputs": [],
   "source": [
    "# col(df, 'B')"
   ]
  },
  {
   "cell_type": "code",
   "execution_count": 358,
   "id": "946a2919",
   "metadata": {},
   "outputs": [],
   "source": [
    "# data_essai\n"
   ]
  },
  {
   "cell_type": "code",
   "execution_count": 359,
   "id": "29f2b4c7",
   "metadata": {},
   "outputs": [],
   "source": [
    "# data_fin=data_essai['C-v']=col(df, 'B')"
   ]
  },
  {
   "cell_type": "code",
   "execution_count": 503,
   "id": "e45e8097",
   "metadata": {},
   "outputs": [],
   "source": [
    "# t=donnee.filter(lambda x:x[0]==('Object2','Property3'))\n"
   ]
  },
  {
   "cell_type": "code",
   "execution_count": 421,
   "id": "ff86725a",
   "metadata": {},
   "outputs": [
    {
     "name": "stderr",
     "output_type": "stream",
     "text": [
      "/Users/admin/spark-3.0.3/python/lib/pyspark.zip/pyspark/shuffle.py:60: UserWarning: Please install psutil to have better support with spilling\n"
     ]
    },
    {
     "data": {
      "text/plain": [
       "[(('Object2', 'Property3'),\n",
       "  [('217264', 0.8588736550867768),\n",
       "   ('503996', 0.7692337326001029),\n",
       "   ('702571', 0.6461169830155514),\n",
       "   ('573432', 0.6461162082646716),\n",
       "   ('738270', 0.6461172788920387),\n",
       "   ('992156', 0.6461128391499741),\n",
       "   ('798250', 0.64611532343505)])]"
      ]
     },
     "execution_count": 421,
     "metadata": {},
     "output_type": "execute_result"
    }
   ],
   "source": [
    "t.take(10)"
   ]
  },
  {
   "cell_type": "code",
   "execution_count": null,
   "id": "04ddaca6",
   "metadata": {},
   "outputs": [],
   "source": [
    "key="
   ]
  },
  {
   "cell_type": "code",
   "execution_count": null,
   "id": "89f3b149",
   "metadata": {},
   "outputs": [],
   "source": []
  },
  {
   "cell_type": "code",
   "execution_count": null,
   "id": "0607e64d",
   "metadata": {},
   "outputs": [],
   "source": []
  }
 ],
 "metadata": {
  "kernelspec": {
   "display_name": "Python 3 (ipykernel)",
   "language": "python",
   "name": "python3"
  },
  "language_info": {
   "codemirror_mode": {
    "name": "ipython",
    "version": 3
   },
   "file_extension": ".py",
   "mimetype": "text/x-python",
   "name": "python",
   "nbconvert_exporter": "python",
   "pygments_lexer": "ipython3",
   "version": "3.9.5"
  }
 },
 "nbformat": 4,
 "nbformat_minor": 5
}

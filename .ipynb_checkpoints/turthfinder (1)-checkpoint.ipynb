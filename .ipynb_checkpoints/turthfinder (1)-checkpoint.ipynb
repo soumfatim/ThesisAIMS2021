{
 "cells": [
  {
   "cell_type": "code",
   "execution_count": 13,
   "id": "934d592a",
   "metadata": {},
   "outputs": [
    {
     "name": "stdout",
     "output_type": "stream",
     "text": [
      "Requirement already satisfied: findspark in /Users/admin/miniconda3/lib/python3.9/site-packages (1.4.2)\r\n"
     ]
    }
   ],
   "source": [
    "!pip3 install findspark"
   ]
  },
  {
   "cell_type": "code",
   "execution_count": 1,
   "id": "29d60795",
   "metadata": {
    "scrolled": false
   },
   "outputs": [],
   "source": [
    "import findspark\n",
    "findspark.init()"
   ]
  },
  {
   "cell_type": "code",
   "execution_count": 2,
   "id": "464b8273",
   "metadata": {},
   "outputs": [],
   "source": [
    "import pyspark"
   ]
  },
  {
   "cell_type": "code",
   "execution_count": 3,
   "id": "d4d084e9",
   "metadata": {},
   "outputs": [],
   "source": [
    "from pyspark import SparkContext,SparkConf"
   ]
  },
  {
   "cell_type": "code",
   "execution_count": 6,
   "id": "e8689d61",
   "metadata": {},
   "outputs": [
    {
     "data": {
      "text/html": [
       "\n",
       "        <div>\n",
       "            <p><b>SparkContext</b></p>\n",
       "\n",
       "            <p><a href=\"http://admins-mbp:4046\">Spark UI</a></p>\n",
       "\n",
       "            <dl>\n",
       "              <dt>Version</dt>\n",
       "                <dd><code>v3.0.3</code></dd>\n",
       "              <dt>Master</dt>\n",
       "                <dd><code>local[*]</code></dd>\n",
       "              <dt>AppName</dt>\n",
       "                <dd><code>pyspark-shell</code></dd>\n",
       "            </dl>\n",
       "        </div>\n",
       "        "
      ],
      "text/plain": [
       "<SparkContext master=local[*] appName=pyspark-shell>"
      ]
     },
     "execution_count": 6,
     "metadata": {},
     "output_type": "execute_result"
    }
   ],
   "source": [
    "sc=SparkContext.getOrCreate()\n",
    "sc"
   ]
  },
  {
   "cell_type": "code",
   "execution_count": 7,
   "id": "1f27c832",
   "metadata": {},
   "outputs": [],
   "source": [
    "import pandas as pd"
   ]
  },
  {
   "cell_type": "code",
   "execution_count": 8,
   "id": "06b9171a",
   "metadata": {},
   "outputs": [],
   "source": [
    "data=pd.read_csv('My_data.csv')"
   ]
  },
  {
   "cell_type": "code",
   "execution_count": 9,
   "id": "9b7348d7",
   "metadata": {},
   "outputs": [
    {
     "data": {
      "text/html": [
       "<div>\n",
       "<style scoped>\n",
       "    .dataframe tbody tr th:only-of-type {\n",
       "        vertical-align: middle;\n",
       "    }\n",
       "\n",
       "    .dataframe tbody tr th {\n",
       "        vertical-align: top;\n",
       "    }\n",
       "\n",
       "    .dataframe thead th {\n",
       "        text-align: right;\n",
       "    }\n",
       "</style>\n",
       "<table border=\"1\" class=\"dataframe\">\n",
       "  <thead>\n",
       "    <tr style=\"text-align: right;\">\n",
       "      <th></th>\n",
       "      <th>Object</th>\n",
       "      <th>Property</th>\n",
       "      <th>Value</th>\n",
       "      <th>Source</th>\n",
       "    </tr>\n",
       "  </thead>\n",
       "  <tbody>\n",
       "    <tr>\n",
       "      <th>0</th>\n",
       "      <td>Object1</td>\n",
       "      <td>Property5</td>\n",
       "      <td>234041</td>\n",
       "      <td>Source1</td>\n",
       "    </tr>\n",
       "    <tr>\n",
       "      <th>1</th>\n",
       "      <td>Object1</td>\n",
       "      <td>Property3</td>\n",
       "      <td>476627</td>\n",
       "      <td>Source1</td>\n",
       "    </tr>\n",
       "    <tr>\n",
       "      <th>2</th>\n",
       "      <td>Object2</td>\n",
       "      <td>Property5</td>\n",
       "      <td>360789</td>\n",
       "      <td>Source1</td>\n",
       "    </tr>\n",
       "    <tr>\n",
       "      <th>3</th>\n",
       "      <td>Object2</td>\n",
       "      <td>Property3</td>\n",
       "      <td>217264</td>\n",
       "      <td>Source1</td>\n",
       "    </tr>\n",
       "    <tr>\n",
       "      <th>4</th>\n",
       "      <td>Object3</td>\n",
       "      <td>Property5</td>\n",
       "      <td>274376</td>\n",
       "      <td>Source1</td>\n",
       "    </tr>\n",
       "    <tr>\n",
       "      <th>...</th>\n",
       "      <td>...</td>\n",
       "      <td>...</td>\n",
       "      <td>...</td>\n",
       "      <td>...</td>\n",
       "    </tr>\n",
       "    <tr>\n",
       "      <th>59995</th>\n",
       "      <td>Object996</td>\n",
       "      <td>Property1</td>\n",
       "      <td>978533</td>\n",
       "      <td>Source8</td>\n",
       "    </tr>\n",
       "    <tr>\n",
       "      <th>59996</th>\n",
       "      <td>Object997</td>\n",
       "      <td>Property1</td>\n",
       "      <td>591492</td>\n",
       "      <td>Source8</td>\n",
       "    </tr>\n",
       "    <tr>\n",
       "      <th>59997</th>\n",
       "      <td>Object998</td>\n",
       "      <td>Property1</td>\n",
       "      <td>542462</td>\n",
       "      <td>Source8</td>\n",
       "    </tr>\n",
       "    <tr>\n",
       "      <th>59998</th>\n",
       "      <td>Object999</td>\n",
       "      <td>Property1</td>\n",
       "      <td>983588</td>\n",
       "      <td>Source8</td>\n",
       "    </tr>\n",
       "    <tr>\n",
       "      <th>59999</th>\n",
       "      <td>Object1000</td>\n",
       "      <td>Property1</td>\n",
       "      <td>964731</td>\n",
       "      <td>Source8</td>\n",
       "    </tr>\n",
       "  </tbody>\n",
       "</table>\n",
       "<p>60000 rows × 4 columns</p>\n",
       "</div>"
      ],
      "text/plain": [
       "           Object   Property   Value   Source\n",
       "0         Object1  Property5  234041  Source1\n",
       "1         Object1  Property3  476627  Source1\n",
       "2         Object2  Property5  360789  Source1\n",
       "3         Object2  Property3  217264  Source1\n",
       "4         Object3  Property5  274376  Source1\n",
       "...           ...        ...     ...      ...\n",
       "59995   Object996  Property1  978533  Source8\n",
       "59996   Object997  Property1  591492  Source8\n",
       "59997   Object998  Property1  542462  Source8\n",
       "59998   Object999  Property1  983588  Source8\n",
       "59999  Object1000  Property1  964731  Source8\n",
       "\n",
       "[60000 rows x 4 columns]"
      ]
     },
     "execution_count": 9,
     "metadata": {},
     "output_type": "execute_result"
    }
   ],
   "source": [
    "data"
   ]
  },
  {
   "cell_type": "code",
   "execution_count": 10,
   "id": "ab669c4a",
   "metadata": {},
   "outputs": [],
   "source": [
    "\n",
    "data_=pd.DataFrame(data, columns= ['Object','Property','Value','Source'])"
   ]
  },
  {
   "cell_type": "code",
   "execution_count": 11,
   "id": "2ce117ab",
   "metadata": {
    "scrolled": false
   },
   "outputs": [
    {
     "data": {
      "text/html": [
       "<div>\n",
       "<style scoped>\n",
       "    .dataframe tbody tr th:only-of-type {\n",
       "        vertical-align: middle;\n",
       "    }\n",
       "\n",
       "    .dataframe tbody tr th {\n",
       "        vertical-align: top;\n",
       "    }\n",
       "\n",
       "    .dataframe thead th {\n",
       "        text-align: right;\n",
       "    }\n",
       "</style>\n",
       "<table border=\"1\" class=\"dataframe\">\n",
       "  <thead>\n",
       "    <tr style=\"text-align: right;\">\n",
       "      <th></th>\n",
       "      <th>Object</th>\n",
       "      <th>Property</th>\n",
       "      <th>Value</th>\n",
       "      <th>Source</th>\n",
       "    </tr>\n",
       "  </thead>\n",
       "  <tbody>\n",
       "    <tr>\n",
       "      <th>0</th>\n",
       "      <td>Object1</td>\n",
       "      <td>Property5</td>\n",
       "      <td>234041</td>\n",
       "      <td>Source1</td>\n",
       "    </tr>\n",
       "    <tr>\n",
       "      <th>1</th>\n",
       "      <td>Object1</td>\n",
       "      <td>Property3</td>\n",
       "      <td>476627</td>\n",
       "      <td>Source1</td>\n",
       "    </tr>\n",
       "    <tr>\n",
       "      <th>2</th>\n",
       "      <td>Object2</td>\n",
       "      <td>Property5</td>\n",
       "      <td>360789</td>\n",
       "      <td>Source1</td>\n",
       "    </tr>\n",
       "    <tr>\n",
       "      <th>3</th>\n",
       "      <td>Object2</td>\n",
       "      <td>Property3</td>\n",
       "      <td>217264</td>\n",
       "      <td>Source1</td>\n",
       "    </tr>\n",
       "    <tr>\n",
       "      <th>4</th>\n",
       "      <td>Object3</td>\n",
       "      <td>Property5</td>\n",
       "      <td>274376</td>\n",
       "      <td>Source1</td>\n",
       "    </tr>\n",
       "    <tr>\n",
       "      <th>...</th>\n",
       "      <td>...</td>\n",
       "      <td>...</td>\n",
       "      <td>...</td>\n",
       "      <td>...</td>\n",
       "    </tr>\n",
       "    <tr>\n",
       "      <th>59995</th>\n",
       "      <td>Object996</td>\n",
       "      <td>Property1</td>\n",
       "      <td>978533</td>\n",
       "      <td>Source8</td>\n",
       "    </tr>\n",
       "    <tr>\n",
       "      <th>59996</th>\n",
       "      <td>Object997</td>\n",
       "      <td>Property1</td>\n",
       "      <td>591492</td>\n",
       "      <td>Source8</td>\n",
       "    </tr>\n",
       "    <tr>\n",
       "      <th>59997</th>\n",
       "      <td>Object998</td>\n",
       "      <td>Property1</td>\n",
       "      <td>542462</td>\n",
       "      <td>Source8</td>\n",
       "    </tr>\n",
       "    <tr>\n",
       "      <th>59998</th>\n",
       "      <td>Object999</td>\n",
       "      <td>Property1</td>\n",
       "      <td>983588</td>\n",
       "      <td>Source8</td>\n",
       "    </tr>\n",
       "    <tr>\n",
       "      <th>59999</th>\n",
       "      <td>Object1000</td>\n",
       "      <td>Property1</td>\n",
       "      <td>964731</td>\n",
       "      <td>Source8</td>\n",
       "    </tr>\n",
       "  </tbody>\n",
       "</table>\n",
       "<p>60000 rows × 4 columns</p>\n",
       "</div>"
      ],
      "text/plain": [
       "           Object   Property   Value   Source\n",
       "0         Object1  Property5  234041  Source1\n",
       "1         Object1  Property3  476627  Source1\n",
       "2         Object2  Property5  360789  Source1\n",
       "3         Object2  Property3  217264  Source1\n",
       "4         Object3  Property5  274376  Source1\n",
       "...           ...        ...     ...      ...\n",
       "59995   Object996  Property1  978533  Source8\n",
       "59996   Object997  Property1  591492  Source8\n",
       "59997   Object998  Property1  542462  Source8\n",
       "59998   Object999  Property1  983588  Source8\n",
       "59999  Object1000  Property1  964731  Source8\n",
       "\n",
       "[60000 rows x 4 columns]"
      ]
     },
     "execution_count": 11,
     "metadata": {},
     "output_type": "execute_result"
    }
   ],
   "source": [
    "data_"
   ]
  },
  {
   "cell_type": "code",
   "execution_count": 12,
   "id": "e1f901b7",
   "metadata": {},
   "outputs": [],
   "source": [
    "data_.to_csv('My_data.csv',index=False)"
   ]
  },
  {
   "cell_type": "code",
   "execution_count": 13,
   "id": "ca030bf3",
   "metadata": {},
   "outputs": [],
   "source": [
    "My_data=pd.read_csv('My_data.csv')"
   ]
  },
  {
   "cell_type": "code",
   "execution_count": 14,
   "id": "d40495bf",
   "metadata": {},
   "outputs": [
    {
     "data": {
      "text/html": [
       "<div>\n",
       "<style scoped>\n",
       "    .dataframe tbody tr th:only-of-type {\n",
       "        vertical-align: middle;\n",
       "    }\n",
       "\n",
       "    .dataframe tbody tr th {\n",
       "        vertical-align: top;\n",
       "    }\n",
       "\n",
       "    .dataframe thead th {\n",
       "        text-align: right;\n",
       "    }\n",
       "</style>\n",
       "<table border=\"1\" class=\"dataframe\">\n",
       "  <thead>\n",
       "    <tr style=\"text-align: right;\">\n",
       "      <th></th>\n",
       "      <th>Object</th>\n",
       "      <th>Property</th>\n",
       "      <th>Value</th>\n",
       "      <th>Source</th>\n",
       "    </tr>\n",
       "  </thead>\n",
       "  <tbody>\n",
       "    <tr>\n",
       "      <th>0</th>\n",
       "      <td>Object1</td>\n",
       "      <td>Property5</td>\n",
       "      <td>234041</td>\n",
       "      <td>Source1</td>\n",
       "    </tr>\n",
       "    <tr>\n",
       "      <th>1</th>\n",
       "      <td>Object1</td>\n",
       "      <td>Property3</td>\n",
       "      <td>476627</td>\n",
       "      <td>Source1</td>\n",
       "    </tr>\n",
       "    <tr>\n",
       "      <th>2</th>\n",
       "      <td>Object2</td>\n",
       "      <td>Property5</td>\n",
       "      <td>360789</td>\n",
       "      <td>Source1</td>\n",
       "    </tr>\n",
       "    <tr>\n",
       "      <th>3</th>\n",
       "      <td>Object2</td>\n",
       "      <td>Property3</td>\n",
       "      <td>217264</td>\n",
       "      <td>Source1</td>\n",
       "    </tr>\n",
       "    <tr>\n",
       "      <th>4</th>\n",
       "      <td>Object3</td>\n",
       "      <td>Property5</td>\n",
       "      <td>274376</td>\n",
       "      <td>Source1</td>\n",
       "    </tr>\n",
       "    <tr>\n",
       "      <th>...</th>\n",
       "      <td>...</td>\n",
       "      <td>...</td>\n",
       "      <td>...</td>\n",
       "      <td>...</td>\n",
       "    </tr>\n",
       "    <tr>\n",
       "      <th>59995</th>\n",
       "      <td>Object996</td>\n",
       "      <td>Property1</td>\n",
       "      <td>978533</td>\n",
       "      <td>Source8</td>\n",
       "    </tr>\n",
       "    <tr>\n",
       "      <th>59996</th>\n",
       "      <td>Object997</td>\n",
       "      <td>Property1</td>\n",
       "      <td>591492</td>\n",
       "      <td>Source8</td>\n",
       "    </tr>\n",
       "    <tr>\n",
       "      <th>59997</th>\n",
       "      <td>Object998</td>\n",
       "      <td>Property1</td>\n",
       "      <td>542462</td>\n",
       "      <td>Source8</td>\n",
       "    </tr>\n",
       "    <tr>\n",
       "      <th>59998</th>\n",
       "      <td>Object999</td>\n",
       "      <td>Property1</td>\n",
       "      <td>983588</td>\n",
       "      <td>Source8</td>\n",
       "    </tr>\n",
       "    <tr>\n",
       "      <th>59999</th>\n",
       "      <td>Object1000</td>\n",
       "      <td>Property1</td>\n",
       "      <td>964731</td>\n",
       "      <td>Source8</td>\n",
       "    </tr>\n",
       "  </tbody>\n",
       "</table>\n",
       "<p>60000 rows × 4 columns</p>\n",
       "</div>"
      ],
      "text/plain": [
       "           Object   Property   Value   Source\n",
       "0         Object1  Property5  234041  Source1\n",
       "1         Object1  Property3  476627  Source1\n",
       "2         Object2  Property5  360789  Source1\n",
       "3         Object2  Property3  217264  Source1\n",
       "4         Object3  Property5  274376  Source1\n",
       "...           ...        ...     ...      ...\n",
       "59995   Object996  Property1  978533  Source8\n",
       "59996   Object997  Property1  591492  Source8\n",
       "59997   Object998  Property1  542462  Source8\n",
       "59998   Object999  Property1  983588  Source8\n",
       "59999  Object1000  Property1  964731  Source8\n",
       "\n",
       "[60000 rows x 4 columns]"
      ]
     },
     "execution_count": 14,
     "metadata": {},
     "output_type": "execute_result"
    }
   ],
   "source": [
    "My_data"
   ]
  },
  {
   "cell_type": "code",
   "execution_count": 15,
   "id": "b28a3d80",
   "metadata": {},
   "outputs": [],
   "source": [
    "read_ = sc.textFile(\"My_data.csv\")\n",
    "essai=read_.map(lambda line: line.split(\",\")).map(lambda line:(line[0],line[1],line[2],line[3]))"
   ]
  },
  {
   "cell_type": "code",
   "execution_count": 16,
   "id": "683d57af",
   "metadata": {},
   "outputs": [
    {
     "name": "stderr",
     "output_type": "stream",
     "text": [
      "                                                                                \r"
     ]
    },
    {
     "data": {
      "text/plain": [
       "[('Object', 'Property', 'Value', 'Source')]"
      ]
     },
     "execution_count": 16,
     "metadata": {},
     "output_type": "execute_result"
    }
   ],
   "source": [
    "essai.take(1)"
   ]
  },
  {
   "cell_type": "code",
   "execution_count": 17,
   "id": "58055e84",
   "metadata": {},
   "outputs": [],
   "source": [
    "# essai.collect()"
   ]
  },
  {
   "cell_type": "code",
   "execution_count": null,
   "id": "7ec40765",
   "metadata": {},
   "outputs": [],
   "source": []
  },
  {
   "cell_type": "code",
   "execution_count": null,
   "id": "02dfbb04",
   "metadata": {},
   "outputs": [],
   "source": []
  },
  {
   "cell_type": "code",
   "execution_count": 21,
   "id": "b8d4859f",
   "metadata": {},
   "outputs": [],
   "source": [
    "def mapfonction(x):\n",
    "    return ((x[0],x[1],x[2]),-ln(1-x[4]))"
   ]
  },
  {
   "cell_type": "code",
   "execution_count": 22,
   "id": "0690e387",
   "metadata": {},
   "outputs": [],
   "source": [
    "def reduceFonction(x,y):\n",
    "    return x+y"
   ]
  },
  {
   "cell_type": "code",
   "execution_count": 23,
   "id": "7ab6ed1a",
   "metadata": {},
   "outputs": [],
   "source": [
    "result=essai.map(mapfonction).reduceByKey(reduceFonction)"
   ]
  },
  {
   "cell_type": "code",
   "execution_count": 24,
   "id": "df46d532",
   "metadata": {},
   "outputs": [],
   "source": [
    "# result.saveAsTextFile(\"data_Res.csv/\")"
   ]
  },
  {
   "cell_type": "code",
   "execution_count": 25,
   "id": "37740958",
   "metadata": {},
   "outputs": [],
   "source": [
    "# parallelisation de truthfinder "
   ]
  },
  {
   "cell_type": "code",
   "execution_count": 26,
   "id": "127221b5",
   "metadata": {},
   "outputs": [],
   "source": [
    "# parallelisation de la fonction de confidence d'une valeur "
   ]
  },
  {
   "cell_type": "code",
   "execution_count": 18,
   "id": "7ee26b95",
   "metadata": {},
   "outputs": [],
   "source": [
    "# constitution de dataframe pour le travail\n",
    "My_data['TSInitial']=0.8\n",
    "My_data['C_v']=0.0"
   ]
  },
  {
   "cell_type": "code",
   "execution_count": 19,
   "id": "fb3bd87e",
   "metadata": {
    "scrolled": false
   },
   "outputs": [],
   "source": [
    "My_data.to_csv('data_T.csv',index=False)"
   ]
  },
  {
   "cell_type": "code",
   "execution_count": 20,
   "id": "1c28cbf2",
   "metadata": {},
   "outputs": [],
   "source": [
    "global data_T\n",
    "data_T=pd.read_csv('data_T.csv')"
   ]
  },
  {
   "cell_type": "code",
   "execution_count": 21,
   "id": "a29de43e",
   "metadata": {
    "scrolled": false
   },
   "outputs": [
    {
     "data": {
      "text/html": [
       "<div>\n",
       "<style scoped>\n",
       "    .dataframe tbody tr th:only-of-type {\n",
       "        vertical-align: middle;\n",
       "    }\n",
       "\n",
       "    .dataframe tbody tr th {\n",
       "        vertical-align: top;\n",
       "    }\n",
       "\n",
       "    .dataframe thead th {\n",
       "        text-align: right;\n",
       "    }\n",
       "</style>\n",
       "<table border=\"1\" class=\"dataframe\">\n",
       "  <thead>\n",
       "    <tr style=\"text-align: right;\">\n",
       "      <th></th>\n",
       "      <th>Object</th>\n",
       "      <th>Property</th>\n",
       "      <th>Value</th>\n",
       "      <th>Source</th>\n",
       "      <th>TSInitial</th>\n",
       "      <th>C_v</th>\n",
       "    </tr>\n",
       "  </thead>\n",
       "  <tbody>\n",
       "    <tr>\n",
       "      <th>0</th>\n",
       "      <td>Object1</td>\n",
       "      <td>Property5</td>\n",
       "      <td>234041</td>\n",
       "      <td>Source1</td>\n",
       "      <td>0.8</td>\n",
       "      <td>0.0</td>\n",
       "    </tr>\n",
       "    <tr>\n",
       "      <th>1</th>\n",
       "      <td>Object1</td>\n",
       "      <td>Property3</td>\n",
       "      <td>476627</td>\n",
       "      <td>Source1</td>\n",
       "      <td>0.8</td>\n",
       "      <td>0.0</td>\n",
       "    </tr>\n",
       "    <tr>\n",
       "      <th>2</th>\n",
       "      <td>Object2</td>\n",
       "      <td>Property5</td>\n",
       "      <td>360789</td>\n",
       "      <td>Source1</td>\n",
       "      <td>0.8</td>\n",
       "      <td>0.0</td>\n",
       "    </tr>\n",
       "    <tr>\n",
       "      <th>3</th>\n",
       "      <td>Object2</td>\n",
       "      <td>Property3</td>\n",
       "      <td>217264</td>\n",
       "      <td>Source1</td>\n",
       "      <td>0.8</td>\n",
       "      <td>0.0</td>\n",
       "    </tr>\n",
       "    <tr>\n",
       "      <th>4</th>\n",
       "      <td>Object3</td>\n",
       "      <td>Property5</td>\n",
       "      <td>274376</td>\n",
       "      <td>Source1</td>\n",
       "      <td>0.8</td>\n",
       "      <td>0.0</td>\n",
       "    </tr>\n",
       "    <tr>\n",
       "      <th>...</th>\n",
       "      <td>...</td>\n",
       "      <td>...</td>\n",
       "      <td>...</td>\n",
       "      <td>...</td>\n",
       "      <td>...</td>\n",
       "      <td>...</td>\n",
       "    </tr>\n",
       "    <tr>\n",
       "      <th>59995</th>\n",
       "      <td>Object996</td>\n",
       "      <td>Property1</td>\n",
       "      <td>978533</td>\n",
       "      <td>Source8</td>\n",
       "      <td>0.8</td>\n",
       "      <td>0.0</td>\n",
       "    </tr>\n",
       "    <tr>\n",
       "      <th>59996</th>\n",
       "      <td>Object997</td>\n",
       "      <td>Property1</td>\n",
       "      <td>591492</td>\n",
       "      <td>Source8</td>\n",
       "      <td>0.8</td>\n",
       "      <td>0.0</td>\n",
       "    </tr>\n",
       "    <tr>\n",
       "      <th>59997</th>\n",
       "      <td>Object998</td>\n",
       "      <td>Property1</td>\n",
       "      <td>542462</td>\n",
       "      <td>Source8</td>\n",
       "      <td>0.8</td>\n",
       "      <td>0.0</td>\n",
       "    </tr>\n",
       "    <tr>\n",
       "      <th>59998</th>\n",
       "      <td>Object999</td>\n",
       "      <td>Property1</td>\n",
       "      <td>983588</td>\n",
       "      <td>Source8</td>\n",
       "      <td>0.8</td>\n",
       "      <td>0.0</td>\n",
       "    </tr>\n",
       "    <tr>\n",
       "      <th>59999</th>\n",
       "      <td>Object1000</td>\n",
       "      <td>Property1</td>\n",
       "      <td>964731</td>\n",
       "      <td>Source8</td>\n",
       "      <td>0.8</td>\n",
       "      <td>0.0</td>\n",
       "    </tr>\n",
       "  </tbody>\n",
       "</table>\n",
       "<p>60000 rows × 6 columns</p>\n",
       "</div>"
      ],
      "text/plain": [
       "           Object   Property   Value   Source  TSInitial  C_v\n",
       "0         Object1  Property5  234041  Source1        0.8  0.0\n",
       "1         Object1  Property3  476627  Source1        0.8  0.0\n",
       "2         Object2  Property5  360789  Source1        0.8  0.0\n",
       "3         Object2  Property3  217264  Source1        0.8  0.0\n",
       "4         Object3  Property5  274376  Source1        0.8  0.0\n",
       "...           ...        ...     ...      ...        ...  ...\n",
       "59995   Object996  Property1  978533  Source8        0.8  0.0\n",
       "59996   Object997  Property1  591492  Source8        0.8  0.0\n",
       "59997   Object998  Property1  542462  Source8        0.8  0.0\n",
       "59998   Object999  Property1  983588  Source8        0.8  0.0\n",
       "59999  Object1000  Property1  964731  Source8        0.8  0.0\n",
       "\n",
       "[60000 rows x 6 columns]"
      ]
     },
     "execution_count": 21,
     "metadata": {},
     "output_type": "execute_result"
    }
   ],
   "source": [
    "data_T"
   ]
  },
  {
   "cell_type": "code",
   "execution_count": 22,
   "id": "be7b75d5",
   "metadata": {},
   "outputs": [],
   "source": [
    "# data_T['C_v']"
   ]
  },
  {
   "cell_type": "code",
   "execution_count": 23,
   "id": "79bc99df",
   "metadata": {},
   "outputs": [],
   "source": [
    "# Definition de la matice de similarite\n",
    "def similarity(dataframe):\n",
    "    dict_sim = {}\n",
    "    for key, df in dataframe.groupby(by=['Object','Property']):\n",
    "        Values = df['Value'].unique()\n",
    "        row = key[0]+key[1]\n",
    "        for  i in range(len(Values)):\n",
    "            w1 = Values[i]\n",
    "            for  u in range(len(Values)):\n",
    "                w2 = Values[u]\n",
    "                sim = 1\n",
    "                if w1!=w2:\n",
    "                    t = abs(w1-w2)\n",
    "                    sim = 1/t\n",
    "                dict_sim[row+str(w1)+str(w2)] = sim\n",
    "                dict_sim[row+str(w2)+str(w1)] = sim\n",
    "    return dict_sim"
   ]
  },
  {
   "cell_type": "code",
   "execution_count": 24,
   "id": "9aec2498",
   "metadata": {},
   "outputs": [],
   "source": [
    "# Definition des fonctions globales de l'algorithme\n",
    "global rho\n",
    "rho=0.7\n",
    "global lam\n",
    "lam=0.5\n",
    "global dict_sim\n",
    "global read_rdd"
   ]
  },
  {
   "cell_type": "markdown",
   "id": "1aaf78fc",
   "metadata": {},
   "source": [
    "Fonction de confiance d'une source"
   ]
  },
  {
   "cell_type": "code",
   "execution_count": 25,
   "id": "3a6ff399",
   "metadata": {},
   "outputs": [],
   "source": [
    "# Convertissons notre dataFrame en RDD\n",
    "read_ = sc.textFile(\"data_T.csv\")\n",
    "# Spliter selon les lignes de notre dataFrame\n",
    "read_rdd=read_.map(lambda line: line.split(\",\")).map(lambda line:(line[0],line[1],line[2],line[3],line[4],line[5])).filter(lambda x: x[0]!='Object')"
   ]
  },
  {
   "cell_type": "code",
   "execution_count": 26,
   "id": "2e559810",
   "metadata": {},
   "outputs": [
    {
     "data": {
      "text/plain": [
       "[('Object1', 'Property5', '234041', 'Source1', '0.8', '0.0'),\n",
       " ('Object1', 'Property3', '476627', 'Source1', '0.8', '0.0'),\n",
       " ('Object2', 'Property5', '360789', 'Source1', '0.8', '0.0'),\n",
       " ('Object2', 'Property3', '217264', 'Source1', '0.8', '0.0'),\n",
       " ('Object3', 'Property5', '274376', 'Source1', '0.8', '0.0')]"
      ]
     },
     "execution_count": 26,
     "metadata": {},
     "output_type": "execute_result"
    }
   ],
   "source": [
    "# Lecture de notre RDD\n",
    "read_rdd.take(5)"
   ]
  },
  {
   "cell_type": "code",
   "execution_count": 27,
   "id": "174ce3e4",
   "metadata": {},
   "outputs": [
    {
     "data": {
      "text/plain": [
       "[('Object1', 'Property3', '476627', 'Source1', '0.8', '0.0')]"
      ]
     },
     "execution_count": 27,
     "metadata": {},
     "output_type": "execute_result"
    }
   ],
   "source": [
    "read_rdd.filter(lambda x: x[0]== 'Object1' and x[1]== 'Property3' and x[2]== '476627').take(1)"
   ]
  },
  {
   "cell_type": "code",
   "execution_count": 28,
   "id": "88628103",
   "metadata": {},
   "outputs": [],
   "source": [
    "import numpy as np\n",
    "import math as m"
   ]
  },
  {
   "cell_type": "code",
   "execution_count": 29,
   "id": "4f3126c2",
   "metadata": {},
   "outputs": [],
   "source": [
    "# la fonction Map\n",
    "# (input x est un quatriplet constitutue de (object,property,valeur, TSinitial) et le renvoie \n",
    "# la cle(object,property,valeur) et la valeur sigma_v)\n",
    "def MapFunction(x):\n",
    "    return ((x[0],x[1],x[2]), (-m.log(1-float(x[4])), [(x[3],x[4])] ) )"
   ]
  },
  {
   "cell_type": "code",
   "execution_count": 30,
   "id": "aae4532c",
   "metadata": {},
   "outputs": [
    {
     "data": {
      "text/plain": [
       "[(('Object1', 'Property5', '234041'),\n",
       "  (1.6094379124341005, [('Source1', '0.8')])),\n",
       " (('Object1', 'Property3', '476627'),\n",
       "  (1.6094379124341005, [('Source1', '0.8')]))]"
      ]
     },
     "execution_count": 30,
     "metadata": {},
     "output_type": "execute_result"
    }
   ],
   "source": [
    "# la sortie de la fonction Map\n",
    "retourMap=read_rdd.map(MapFunction)\n",
    "retourMap.take(2)"
   ]
  },
  {
   "cell_type": "code",
   "execution_count": 31,
   "id": "82baf701",
   "metadata": {},
   "outputs": [],
   "source": [
    "retour=read_rdd.map(MapFunction)"
   ]
  },
  {
   "cell_type": "code",
   "execution_count": 32,
   "id": "7382980e",
   "metadata": {},
   "outputs": [],
   "source": [
    "# definition de la fonction reduce\n",
    "# la fonction reduce prend en entree x qui est la cle et Y qui est de valeur dans le output du map\n",
    "def ReduceFunction(x,y):\n",
    "    return x[0]+y[0],x[1]+y[1]"
   ]
  },
  {
   "cell_type": "code",
   "execution_count": 34,
   "id": "41189790",
   "metadata": {},
   "outputs": [
    {
     "data": {
      "text/plain": [
       "[(('Object1', 'Property3', '476627'),\n",
       "  (4.8283137373023015,\n",
       "   [('Source1', '0.8'), ('Source5', '0.8'), ('Source9', '0.8')])),\n",
       " (('Object2', 'Property3', '217264'),\n",
       "  (4.8283137373023015,\n",
       "   [('Source1', '0.8'), ('Source5', '0.8'), ('Source9', '0.8')]))]"
      ]
     },
     "execution_count": 34,
     "metadata": {},
     "output_type": "execute_result"
    }
   ],
   "source": [
    "retourMap.reduceByKey(ReduceFunction).take(2)"
   ]
  },
  {
   "cell_type": "code",
   "execution_count": 35,
   "id": "3079facc",
   "metadata": {},
   "outputs": [],
   "source": [
    "# output=read_rdd.map(MapFunction)\n",
    "output=read_rdd.map(MapFunction).reduceByKey(ReduceFunction)"
   ]
  },
  {
   "cell_type": "code",
   "execution_count": 36,
   "id": "5aece12b",
   "metadata": {
    "scrolled": true
   },
   "outputs": [
    {
     "name": "stderr",
     "output_type": "stream",
     "text": [
      "\r",
      "[Stage 8:=============================>                             (1 + 1) / 2]\r",
      "\r",
      "                                                                                \r"
     ]
    },
    {
     "data": {
      "text/plain": [
       "[(('Object1', 'Property3', '476627'),\n",
       "  (4.8283137373023015,\n",
       "   [('Source1', '0.8'), ('Source5', '0.8'), ('Source9', '0.8')])),\n",
       " (('Object2', 'Property3', '217264'),\n",
       "  (4.8283137373023015,\n",
       "   [('Source1', '0.8'), ('Source5', '0.8'), ('Source9', '0.8')]))]"
      ]
     },
     "execution_count": 36,
     "metadata": {},
     "output_type": "execute_result"
    }
   ],
   "source": [
    "output.take(2)"
   ]
  },
  {
   "cell_type": "code",
   "execution_count": 46,
   "id": "abcec0b4",
   "metadata": {},
   "outputs": [],
   "source": [
    "# output.take(100).foreach(println)"
   ]
  },
  {
   "cell_type": "code",
   "execution_count": 47,
   "id": "aede1aca",
   "metadata": {},
   "outputs": [],
   "source": [
    "# def maps(x):\n",
    "#     X=(x[0][0],x[0][1]),[(x[0][2],x[1])]\n",
    "#     Z=X[0]\n",
    "#     Y=X[1]\n",
    "#     for i in X[0]:\n",
    "#         lis=[]\n",
    "#         for j in X[0]:\n",
    "#             if i==j:\n",
    "                \n",
    "            "
   ]
  },
  {
   "cell_type": "code",
   "execution_count": 48,
   "id": "1049c140",
   "metadata": {},
   "outputs": [],
   "source": [
    "# output.map(essai).take(2)"
   ]
  },
  {
   "cell_type": "markdown",
   "id": "0ec07ea7",
   "metadata": {},
   "source": [
    "Debut de la fonction ajustement"
   ]
  },
  {
   "cell_type": "code",
   "execution_count": 37,
   "id": "6f706f56",
   "metadata": {},
   "outputs": [
    {
     "data": {
      "text/plain": [
       "[(('Object1', 'Property3', '476627'),\n",
       "  (4.8283137373023015,\n",
       "   [('Source1', '0.8'), ('Source5', '0.8'), ('Source9', '0.8')])),\n",
       " (('Object2', 'Property3', '217264'),\n",
       "  (4.8283137373023015,\n",
       "   [('Source1', '0.8'), ('Source5', '0.8'), ('Source9', '0.8')])),\n",
       " (('Object3', 'Property5', '274376'),\n",
       "  (4.8283137373023015,\n",
       "   [('Source1', '0.8'), ('Source5', '0.8'), ('Source9', '0.8')])),\n",
       " (('Object3', 'Property3', '293465'),\n",
       "  (4.8283137373023015,\n",
       "   [('Source1', '0.8'), ('Source5', '0.8'), ('Source9', '0.8')]))]"
      ]
     },
     "execution_count": 37,
     "metadata": {},
     "output_type": "execute_result"
    }
   ],
   "source": [
    "output.take(4)"
   ]
  },
  {
   "cell_type": "code",
   "execution_count": 38,
   "id": "9de7d299",
   "metadata": {},
   "outputs": [],
   "source": [
    "\n",
    "def Mapelement(x):\n",
    "    return (x[0][0],x[0][1]),[(x[0][2],x[1][0],x[1][1])]  "
   ]
  },
  {
   "cell_type": "code",
   "execution_count": 39,
   "id": "e6e0b130",
   "metadata": {},
   "outputs": [],
   "source": [
    "def ReduceShuffling(x,y):\n",
    "    return x+y"
   ]
  },
  {
   "cell_type": "code",
   "execution_count": 40,
   "id": "d1372dc1",
   "metadata": {
    "scrolled": true
   },
   "outputs": [],
   "source": [
    "transf=output.map(Mapelement).reduceByKey(ReduceShuffling)"
   ]
  },
  {
   "cell_type": "code",
   "execution_count": 41,
   "id": "8df70cfe",
   "metadata": {
    "scrolled": true
   },
   "outputs": [
    {
     "data": {
      "text/plain": [
       "[(('Object1', 'Property3'),\n",
       "  [('476627',\n",
       "    4.8283137373023015,\n",
       "    [('Source1', '0.8'), ('Source5', '0.8'), ('Source9', '0.8')]),\n",
       "   ('614710', 3.218875824868201, [('Source2', '0.8'), ('Source6', '0.8')]),\n",
       "   ('921796', 1.6094379124341005, [('Source3', '0.8')]),\n",
       "   ('940859', 1.6094379124341005, [('Source7', '0.8')]),\n",
       "   ('568214', 1.6094379124341005, [('Source10', '0.8')]),\n",
       "   ('979204', 1.6094379124341005, [('Source4', '0.8')]),\n",
       "   ('583144', 1.6094379124341005, [('Source8', '0.8')])])]"
      ]
     },
     "execution_count": 41,
     "metadata": {},
     "output_type": "execute_result"
    }
   ],
   "source": [
    "transf.take(1)"
   ]
  },
  {
   "cell_type": "code",
   "execution_count": 42,
   "id": "4bf03f60",
   "metadata": {},
   "outputs": [],
   "source": [
    "dict_sim=similarity(data_T)\n",
    "\n",
    "def reduceFonction(x):\n",
    "    out=(x[0],[])\n",
    "    for v in x[1]:\n",
    "        c_v=v[1]\n",
    "        l=0\n",
    "        for v_ in x[1]:\n",
    "            if v[0]!=v_[0]:\n",
    "                Key_sim=x[0][0]+x[0][1]+str(v[0])+str(v_[0])\n",
    "                c_v+=rho*(v_[1]*dict_sim[Key_sim])\n",
    "        \n",
    "        CV=1/(1+np.exp(-lam*c_v))\n",
    "        \n",
    "        out[1].append((v[0],CV,v[2]))\n",
    "        \n",
    "    return out"
   ]
  },
  {
   "cell_type": "code",
   "execution_count": 43,
   "id": "6a1d8c57",
   "metadata": {},
   "outputs": [
    {
     "data": {
      "text/html": [
       "<div>\n",
       "<style scoped>\n",
       "    .dataframe tbody tr th:only-of-type {\n",
       "        vertical-align: middle;\n",
       "    }\n",
       "\n",
       "    .dataframe tbody tr th {\n",
       "        vertical-align: top;\n",
       "    }\n",
       "\n",
       "    .dataframe thead th {\n",
       "        text-align: right;\n",
       "    }\n",
       "</style>\n",
       "<table border=\"1\" class=\"dataframe\">\n",
       "  <thead>\n",
       "    <tr style=\"text-align: right;\">\n",
       "      <th></th>\n",
       "      <th>Object</th>\n",
       "      <th>Property</th>\n",
       "      <th>Value</th>\n",
       "      <th>Source</th>\n",
       "      <th>TSInitial</th>\n",
       "      <th>C_v</th>\n",
       "    </tr>\n",
       "  </thead>\n",
       "  <tbody>\n",
       "    <tr>\n",
       "      <th>1</th>\n",
       "      <td>Object1</td>\n",
       "      <td>Property3</td>\n",
       "      <td>476627</td>\n",
       "      <td>Source1</td>\n",
       "      <td>0.8</td>\n",
       "      <td>0.0</td>\n",
       "    </tr>\n",
       "    <tr>\n",
       "      <th>2001</th>\n",
       "      <td>Object1</td>\n",
       "      <td>Property3</td>\n",
       "      <td>476627</td>\n",
       "      <td>Source5</td>\n",
       "      <td>0.8</td>\n",
       "      <td>0.0</td>\n",
       "    </tr>\n",
       "    <tr>\n",
       "      <th>4001</th>\n",
       "      <td>Object1</td>\n",
       "      <td>Property3</td>\n",
       "      <td>476627</td>\n",
       "      <td>Source9</td>\n",
       "      <td>0.8</td>\n",
       "      <td>0.0</td>\n",
       "    </tr>\n",
       "  </tbody>\n",
       "</table>\n",
       "</div>"
      ],
      "text/plain": [
       "       Object   Property   Value   Source  TSInitial  C_v\n",
       "1     Object1  Property3  476627  Source1        0.8  0.0\n",
       "2001  Object1  Property3  476627  Source5        0.8  0.0\n",
       "4001  Object1  Property3  476627  Source9        0.8  0.0"
      ]
     },
     "execution_count": 43,
     "metadata": {},
     "output_type": "execute_result"
    }
   ],
   "source": [
    "\n",
    "data_T[(data_T['Object']=='Object1') & (data_T['Property']=='Property3') & (data_T['Value']==476627)]"
   ]
  },
  {
   "cell_type": "code",
   "execution_count": 44,
   "id": "e958476b",
   "metadata": {},
   "outputs": [
    {
     "data": {
      "text/plain": [
       "Object        object\n",
       "Property      object\n",
       "Value          int64\n",
       "Source        object\n",
       "TSInitial    float64\n",
       "C_v          float64\n",
       "dtype: object"
      ]
     },
     "execution_count": 44,
     "metadata": {},
     "output_type": "execute_result"
    }
   ],
   "source": [
    "data_T.dtypes"
   ]
  },
  {
   "cell_type": "code",
   "execution_count": null,
   "id": "5e31fdf2",
   "metadata": {},
   "outputs": [],
   "source": [
    "transf.reduceByKey(reduceFonction).take(1)"
   ]
  },
  {
   "cell_type": "code",
   "execution_count": 146,
   "id": "a9762589",
   "metadata": {
    "scrolled": false
   },
   "outputs": [],
   "source": [
    "# output.map(Mapelement).map(reduceFonction).reduceByKey(ReduceShuffling).take(3)"
   ]
  },
  {
   "cell_type": "code",
   "execution_count": 113,
   "id": "18105859",
   "metadata": {
    "scrolled": false
   },
   "outputs": [
    {
     "data": {
      "text/plain": [
       "[('Object1', 'Property3', '476627', 'Source1', '0.8', 0.9179022328966988),\n",
       " ('Object1', 'Property3', '476627', 'Source5', '0.8', 0.9179022328966988),\n",
       " ('Object1', 'Property3', '476627', 'Source9', '0.8', 0.9179022328966988)]"
      ]
     },
     "execution_count": 113,
     "metadata": {},
     "output_type": "execute_result"
    }
   ],
   "source": [
    "rdd_cv = sc.parallelize(transf.map(reduceFonction).map(mapT).reduceByKey(lambda x,y: x+y ).collect()[0][1])\n",
    "rdd_cv.take(3)"
   ]
  },
  {
   "cell_type": "code",
   "execution_count": 90,
   "id": "909ac613",
   "metadata": {},
   "outputs": [],
   "source": [
    "def mapT(x):\n",
    "    out=[]\n",
    "    for v in x[1]:\n",
    "        for s in v[2]:\n",
    "            out.append((x[0][0],x[0][1],v[0],s[0],s[1],v[1]))\n",
    "    return (1,out)"
   ]
  },
  {
   "cell_type": "code",
   "execution_count": null,
   "id": "527b454c",
   "metadata": {},
   "outputs": [],
   "source": []
  },
  {
   "cell_type": "code",
   "execution_count": 121,
   "id": "fdb49986",
   "metadata": {},
   "outputs": [],
   "source": [
    "def mapTS(x):\n",
    "    return x[3],x[5]\n",
    "\n",
    "\n",
    "source_ts =  list(rdd_cv.map(mapTS).groupByKey().mapValues(lambda x: sum(x) / len(x)).collect())"
   ]
  },
  {
   "cell_type": "code",
   "execution_count": 122,
   "id": "b826206d",
   "metadata": {},
   "outputs": [
    {
     "data": {
      "text/plain": [
       "[('Source1', 0.8140327150387757),\n",
       " ('Source9', 0.8160091964483454),\n",
       " ('Source3', 0.781366248617352),\n",
       " ('Source6', 0.8183560479640399),\n",
       " ('Source8', 0.7804586494724102),\n",
       " ('Source2', 0.8173371623646567),\n",
       " ('Source7', 0.7817807764920789),\n",
       " ('Source10', 0.8166928854732832),\n",
       " ('Source4', 0.7800489196831838),\n",
       " ('Source5', 0.8168634337980661)]"
      ]
     },
     "execution_count": 122,
     "metadata": {},
     "output_type": "execute_result"
    }
   ],
   "source": [
    "source_ts"
   ]
  },
  {
   "cell_type": "code",
   "execution_count": 123,
   "id": "6f5cad53",
   "metadata": {},
   "outputs": [],
   "source": [
    "def mapReconstruit(x):\n",
    "    ts = 0\n",
    "    for s in source_ts:\n",
    "        if x[3]==s[0]:\n",
    "            ts = s[1]\n",
    "            break\n",
    "    return x[0],x[1],x[2],x[3],ts,x[5]"
   ]
  },
  {
   "cell_type": "code",
   "execution_count": 124,
   "id": "cac937ea",
   "metadata": {},
   "outputs": [
    {
     "data": {
      "text/plain": [
       "[('Object1',\n",
       "  'Property3',\n",
       "  '476627',\n",
       "  'Source1',\n",
       "  0.8140327150387757,\n",
       "  0.9179022328966988),\n",
       " ('Object1',\n",
       "  'Property3',\n",
       "  '476627',\n",
       "  'Source5',\n",
       "  0.8168634337980661,\n",
       "  0.9179022328966988)]"
      ]
     },
     "execution_count": 124,
     "metadata": {},
     "output_type": "execute_result"
    }
   ],
   "source": [
    "rdd_cv.map(mapReconstruit).take(2)\n",
    "rdd_read = "
   ]
  },
  {
   "cell_type": "code",
   "execution_count": 462,
   "id": "98350fd7",
   "metadata": {},
   "outputs": [
    {
     "data": {
      "text/plain": [
       "[(('Object2', 'Property3'),\n",
       "  [('217264', 0.8588736550867768),\n",
       "   ('503996', 0.7692337326001029),\n",
       "   ('702571', 0.6461169830155514),\n",
       "   ('573432', 0.6461162082646716),\n",
       "   ('738270', 0.6461172788920387),\n",
       "   ('992156', 0.6461128391499741),\n",
       "   ('798250', 0.64611532343505)])]"
      ]
     },
     "execution_count": 462,
     "metadata": {},
     "output_type": "execute_result"
    }
   ],
   "source": [
    "# def fonc(donnee,objet,propert):\n",
    "#     return donnee.filter(lambda x:x[0]==('Object2','Property3'))\n",
    "list(donnee.filter(lambda x:x[0]==('Object2','Property3')).take(1))"
   ]
  },
  {
   "cell_type": "code",
   "execution_count": 501,
   "id": "39de1350",
   "metadata": {},
   "outputs": [],
   "source": [
    "# MapFor(dict(list(donnee.collect())))"
   ]
  },
  {
   "cell_type": "code",
   "execution_count": 502,
   "id": "3cbdfd72",
   "metadata": {},
   "outputs": [],
   "source": [
    "# result.take(1)"
   ]
  },
  {
   "cell_type": "code",
   "execution_count": 483,
   "id": "b4d87194",
   "metadata": {},
   "outputs": [],
   "source": [
    "# re=result.map(lambda x:x)"
   ]
  },
  {
   "cell_type": "code",
   "execution_count": 490,
   "id": "9a6fdc1c",
   "metadata": {},
   "outputs": [],
   "source": [
    "# re.take(1)"
   ]
  },
  {
   "cell_type": "code",
   "execution_count": 491,
   "id": "a6f4e6fd",
   "metadata": {
    "scrolled": true
   },
   "outputs": [],
   "source": [
    "# MapFor(('Object1', 'Property5', '234041', 'Source1', '0.7'))"
   ]
  },
  {
   "cell_type": "code",
   "execution_count": 478,
   "id": "046c1b50",
   "metadata": {},
   "outputs": [
    {
     "data": {
      "text/plain": [
       "[('Object1', 'Property5', '234041', 'Source1', '0.7')]"
      ]
     },
     "execution_count": 478,
     "metadata": {},
     "output_type": "execute_result"
    }
   ],
   "source": [
    "read_rdd.take(1)"
   ]
  },
  {
   "cell_type": "code",
   "execution_count": 362,
   "id": "7f000a3f",
   "metadata": {},
   "outputs": [],
   "source": [
    "# data_essai.shape"
   ]
  },
  {
   "cell_type": "code",
   "execution_count": 357,
   "id": "c106526c",
   "metadata": {
    "scrolled": false
   },
   "outputs": [],
   "source": [
    "# col(df, 'B')"
   ]
  },
  {
   "cell_type": "code",
   "execution_count": 358,
   "id": "fe73c44e",
   "metadata": {},
   "outputs": [],
   "source": [
    "# data_essai\n"
   ]
  },
  {
   "cell_type": "code",
   "execution_count": 359,
   "id": "f1dc12c4",
   "metadata": {},
   "outputs": [],
   "source": [
    "# data_fin=data_essai['C-v']=col(df, 'B')"
   ]
  },
  {
   "cell_type": "code",
   "execution_count": 503,
   "id": "4a1ce5ef",
   "metadata": {},
   "outputs": [],
   "source": [
    "# t=donnee.filter(lambda x:x[0]==('Object2','Property3'))\n"
   ]
  },
  {
   "cell_type": "code",
   "execution_count": 421,
   "id": "dffbcd14",
   "metadata": {},
   "outputs": [
    {
     "name": "stderr",
     "output_type": "stream",
     "text": [
      "/Users/admin/spark-3.0.3/python/lib/pyspark.zip/pyspark/shuffle.py:60: UserWarning: Please install psutil to have better support with spilling\n"
     ]
    },
    {
     "data": {
      "text/plain": [
       "[(('Object2', 'Property3'),\n",
       "  [('217264', 0.8588736550867768),\n",
       "   ('503996', 0.7692337326001029),\n",
       "   ('702571', 0.6461169830155514),\n",
       "   ('573432', 0.6461162082646716),\n",
       "   ('738270', 0.6461172788920387),\n",
       "   ('992156', 0.6461128391499741),\n",
       "   ('798250', 0.64611532343505)])]"
      ]
     },
     "execution_count": 421,
     "metadata": {},
     "output_type": "execute_result"
    }
   ],
   "source": [
    "t.take(10)"
   ]
  },
  {
   "cell_type": "code",
   "execution_count": null,
   "id": "ba311143",
   "metadata": {},
   "outputs": [],
   "source": [
    "key="
   ]
  },
  {
   "cell_type": "code",
   "execution_count": null,
   "id": "df16204a",
   "metadata": {},
   "outputs": [],
   "source": []
  },
  {
   "cell_type": "code",
   "execution_count": 1,
   "id": "4011f61e",
   "metadata": {},
   "outputs": [
    {
     "name": "stdout",
     "output_type": "stream",
     "text": [
      "Name: pandas\n",
      "Version: 1.1.3\n",
      "Summary: Powerful data structures for data analysis, time series, and statistics\n",
      "Home-page: https://pandas.pydata.orgNote: you may need to restart the kernel to use updated packages.\n",
      "Author: None\n",
      "Author-email: None\n",
      "License: BSD\n",
      "Location: c:\\users\\admin\\anaconda3\\lib\\site-packages\n",
      "Requires: numpy, pytz, python-dateutil\n",
      "Required-by: statsmodels, seaborn, glue-core, catboost\n",
      "\n"
     ]
    }
   ],
   "source": [
    "pip show pandas"
   ]
  },
  {
   "cell_type": "code",
   "execution_count": null,
   "id": "ed55b87c",
   "metadata": {},
   "outputs": [],
   "source": []
  }
 ],
 "metadata": {
  "kernelspec": {
   "display_name": "Python 3 (ipykernel)",
   "language": "python",
   "name": "python3"
  },
  "language_info": {
   "codemirror_mode": {
    "name": "ipython",
    "version": 3
   },
   "file_extension": ".py",
   "mimetype": "text/x-python",
   "name": "python",
   "nbconvert_exporter": "python",
   "pygments_lexer": "ipython3",
   "version": "3.9.5"
  }
 },
 "nbformat": 4,
 "nbformat_minor": 5
}

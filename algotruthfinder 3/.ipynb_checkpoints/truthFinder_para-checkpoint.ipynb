{
 "cells": [
  {
   "cell_type": "code",
   "execution_count": 1,
   "id": "e66b8ab9",
   "metadata": {},
   "outputs": [],
   "source": [
    "import findspark\n",
    "findspark.init('/Users/admin/spark-3.2.0')"
   ]
  },
  {
   "cell_type": "code",
   "execution_count": 2,
   "id": "e9448157",
   "metadata": {},
   "outputs": [],
   "source": [
    "import pyspark\n",
    "from pyspark import SparkContext,SparkConf"
   ]
  },
  {
   "cell_type": "code",
   "execution_count": 3,
   "id": "f5a6af7f",
   "metadata": {},
   "outputs": [
    {
     "name": "stderr",
     "output_type": "stream",
     "text": [
      "Using Spark's default log4j profile: org/apache/spark/log4j-defaults.properties\n",
      "Setting default log level to \"WARN\".\n",
      "To adjust logging level use sc.setLogLevel(newLevel). For SparkR, use setLogLevel(newLevel).\n",
      "21/12/08 00:44:32 WARN NativeCodeLoader: Unable to load native-hadoop library for your platform... using builtin-java classes where applicable\n",
      "21/12/08 00:44:38 WARN Utils: Service 'SparkUI' could not bind on port 4040. Attempting port 4041.\n",
      "21/12/08 00:44:38 WARN Utils: Service 'SparkUI' could not bind on port 4041. Attempting port 4042.\n",
      "21/12/08 00:44:38 WARN Utils: Service 'SparkUI' could not bind on port 4042. Attempting port 4043.\n",
      "21/12/08 00:44:38 WARN Utils: Service 'SparkUI' could not bind on port 4043. Attempting port 4044.\n"
     ]
    }
   ],
   "source": [
    "from pyspark import  SparkContext,SparkConf\n",
    "conf = SparkConf().setAll([('spark.driver.host','localhost'), ('spark.executor.cores', '4'), ('spark.cores.max', '4'), ('spark.driver.memory','8g')])\n",
    "sc = SparkContext(conf=conf)"
   ]
  },
  {
   "cell_type": "code",
   "execution_count": 4,
   "id": "f8608c81",
   "metadata": {},
   "outputs": [],
   "source": [
    "import pandas as pd\n",
    "import numpy as np\n",
    "import math as m"
   ]
  },
  {
   "cell_type": "code",
   "execution_count": 5,
   "id": "fcc10700",
   "metadata": {},
   "outputs": [
    {
     "data": {
      "text/html": [
       "<div>\n",
       "<style scoped>\n",
       "    .dataframe tbody tr th:only-of-type {\n",
       "        vertical-align: middle;\n",
       "    }\n",
       "\n",
       "    .dataframe tbody tr th {\n",
       "        vertical-align: top;\n",
       "    }\n",
       "\n",
       "    .dataframe thead th {\n",
       "        text-align: right;\n",
       "    }\n",
       "</style>\n",
       "<table border=\"1\" class=\"dataframe\">\n",
       "  <thead>\n",
       "    <tr style=\"text-align: right;\">\n",
       "      <th></th>\n",
       "      <th>Object</th>\n",
       "      <th>Property</th>\n",
       "      <th>Value</th>\n",
       "      <th>Source</th>\n",
       "    </tr>\n",
       "  </thead>\n",
       "  <tbody>\n",
       "    <tr>\n",
       "      <th>0</th>\n",
       "      <td>Object1</td>\n",
       "      <td>Property1</td>\n",
       "      <td>179475</td>\n",
       "      <td>Source1</td>\n",
       "    </tr>\n",
       "    <tr>\n",
       "      <th>1</th>\n",
       "      <td>Object1</td>\n",
       "      <td>Property3</td>\n",
       "      <td>371893</td>\n",
       "      <td>Source1</td>\n",
       "    </tr>\n",
       "    <tr>\n",
       "      <th>2</th>\n",
       "      <td>Object2</td>\n",
       "      <td>Property1</td>\n",
       "      <td>422854</td>\n",
       "      <td>Source1</td>\n",
       "    </tr>\n",
       "    <tr>\n",
       "      <th>3</th>\n",
       "      <td>Object2</td>\n",
       "      <td>Property3</td>\n",
       "      <td>324512</td>\n",
       "      <td>Source1</td>\n",
       "    </tr>\n",
       "    <tr>\n",
       "      <th>4</th>\n",
       "      <td>Object3</td>\n",
       "      <td>Property1</td>\n",
       "      <td>489481</td>\n",
       "      <td>Source1</td>\n",
       "    </tr>\n",
       "    <tr>\n",
       "      <th>...</th>\n",
       "      <td>...</td>\n",
       "      <td>...</td>\n",
       "      <td>...</td>\n",
       "      <td>...</td>\n",
       "    </tr>\n",
       "    <tr>\n",
       "      <th>145</th>\n",
       "      <td>Object6</td>\n",
       "      <td>Property2</td>\n",
       "      <td>319997</td>\n",
       "      <td>Source4</td>\n",
       "    </tr>\n",
       "    <tr>\n",
       "      <th>146</th>\n",
       "      <td>Object7</td>\n",
       "      <td>Property2</td>\n",
       "      <td>269456</td>\n",
       "      <td>Source4</td>\n",
       "    </tr>\n",
       "    <tr>\n",
       "      <th>147</th>\n",
       "      <td>Object8</td>\n",
       "      <td>Property2</td>\n",
       "      <td>323152</td>\n",
       "      <td>Source4</td>\n",
       "    </tr>\n",
       "    <tr>\n",
       "      <th>148</th>\n",
       "      <td>Object9</td>\n",
       "      <td>Property2</td>\n",
       "      <td>286530</td>\n",
       "      <td>Source4</td>\n",
       "    </tr>\n",
       "    <tr>\n",
       "      <th>149</th>\n",
       "      <td>Object10</td>\n",
       "      <td>Property2</td>\n",
       "      <td>856218</td>\n",
       "      <td>Source4</td>\n",
       "    </tr>\n",
       "  </tbody>\n",
       "</table>\n",
       "<p>150 rows × 4 columns</p>\n",
       "</div>"
      ],
      "text/plain": [
       "       Object   Property   Value   Source\n",
       "0     Object1  Property1  179475  Source1\n",
       "1     Object1  Property3  371893  Source1\n",
       "2     Object2  Property1  422854  Source1\n",
       "3     Object2  Property3  324512  Source1\n",
       "4     Object3  Property1  489481  Source1\n",
       "..        ...        ...     ...      ...\n",
       "145   Object6  Property2  319997  Source4\n",
       "146   Object7  Property2  269456  Source4\n",
       "147   Object8  Property2  323152  Source4\n",
       "148   Object9  Property2  286530  Source4\n",
       "149  Object10  Property2  856218  Source4\n",
       "\n",
       "[150 rows x 4 columns]"
      ]
     },
     "execution_count": 5,
     "metadata": {},
     "output_type": "execute_result"
    }
   ],
   "source": [
    "data=pd.read_csv('data.csv')\n",
    "data_T=pd.DataFrame(data, columns= ['Object','Property','Value','Source'])\n",
    "data_T"
   ]
  },
  {
   "cell_type": "code",
   "execution_count": 6,
   "id": "e5e09ba1",
   "metadata": {},
   "outputs": [
    {
     "data": {
      "text/html": [
       "<div>\n",
       "<style scoped>\n",
       "    .dataframe tbody tr th:only-of-type {\n",
       "        vertical-align: middle;\n",
       "    }\n",
       "\n",
       "    .dataframe tbody tr th {\n",
       "        vertical-align: top;\n",
       "    }\n",
       "\n",
       "    .dataframe thead th {\n",
       "        text-align: right;\n",
       "    }\n",
       "</style>\n",
       "<table border=\"1\" class=\"dataframe\">\n",
       "  <thead>\n",
       "    <tr style=\"text-align: right;\">\n",
       "      <th></th>\n",
       "      <th>Object</th>\n",
       "      <th>Property</th>\n",
       "      <th>Value</th>\n",
       "      <th>Source</th>\n",
       "      <th>TSInitial</th>\n",
       "      <th>C_v</th>\n",
       "    </tr>\n",
       "  </thead>\n",
       "  <tbody>\n",
       "    <tr>\n",
       "      <th>0</th>\n",
       "      <td>Object1</td>\n",
       "      <td>Property1</td>\n",
       "      <td>179475</td>\n",
       "      <td>Source1</td>\n",
       "      <td>0.8</td>\n",
       "      <td>0.0</td>\n",
       "    </tr>\n",
       "    <tr>\n",
       "      <th>1</th>\n",
       "      <td>Object1</td>\n",
       "      <td>Property3</td>\n",
       "      <td>371893</td>\n",
       "      <td>Source1</td>\n",
       "      <td>0.8</td>\n",
       "      <td>0.0</td>\n",
       "    </tr>\n",
       "    <tr>\n",
       "      <th>2</th>\n",
       "      <td>Object2</td>\n",
       "      <td>Property1</td>\n",
       "      <td>422854</td>\n",
       "      <td>Source1</td>\n",
       "      <td>0.8</td>\n",
       "      <td>0.0</td>\n",
       "    </tr>\n",
       "    <tr>\n",
       "      <th>3</th>\n",
       "      <td>Object2</td>\n",
       "      <td>Property3</td>\n",
       "      <td>324512</td>\n",
       "      <td>Source1</td>\n",
       "      <td>0.8</td>\n",
       "      <td>0.0</td>\n",
       "    </tr>\n",
       "    <tr>\n",
       "      <th>4</th>\n",
       "      <td>Object3</td>\n",
       "      <td>Property1</td>\n",
       "      <td>489481</td>\n",
       "      <td>Source1</td>\n",
       "      <td>0.8</td>\n",
       "      <td>0.0</td>\n",
       "    </tr>\n",
       "  </tbody>\n",
       "</table>\n",
       "</div>"
      ],
      "text/plain": [
       "    Object   Property   Value   Source  TSInitial  C_v\n",
       "0  Object1  Property1  179475  Source1        0.8  0.0\n",
       "1  Object1  Property3  371893  Source1        0.8  0.0\n",
       "2  Object2  Property1  422854  Source1        0.8  0.0\n",
       "3  Object2  Property3  324512  Source1        0.8  0.0\n",
       "4  Object3  Property1  489481  Source1        0.8  0.0"
      ]
     },
     "execution_count": 6,
     "metadata": {},
     "output_type": "execute_result"
    }
   ],
   "source": [
    "# constitution de dataframe pour le travail\n",
    "data_T['TSInitial']=0.8\n",
    "data_T['C_v']=0.0\n",
    "data_T.head(5)"
   ]
  },
  {
   "cell_type": "code",
   "execution_count": 7,
   "id": "899b6dac",
   "metadata": {},
   "outputs": [
    {
     "name": "stderr",
     "output_type": "stream",
     "text": [
      "                                                                                \r"
     ]
    },
    {
     "data": {
      "text/plain": [
       "[('Object1', 'Property1', '179475', 'Source1', '0.8', '0.0'),\n",
       " ('Object1', 'Property3', '371893', 'Source1', '0.8', '0.0'),\n",
       " ('Object2', 'Property1', '422854', 'Source1', '0.8', '0.0'),\n",
       " ('Object2', 'Property3', '324512', 'Source1', '0.8', '0.0'),\n",
       " ('Object3', 'Property1', '489481', 'Source1', '0.8', '0.0')]"
      ]
     },
     "execution_count": 7,
     "metadata": {},
     "output_type": "execute_result"
    }
   ],
   "source": [
    "# Convertissons notre dataFrame en RDD\n",
    "data_T.to_csv('data_T.csv',index=False)\n",
    "read_ = sc.textFile(\"data_T.csv\")\n",
    "# Spliter selon les lignes de notre dataFrame\n",
    "read_rdd=read_.map(lambda line: line.split(\",\")).map(lambda line:(line[0],line[1],line[2],line[3],line[4],line[5])).filter(lambda x: x[0]!='Object')\n",
    "# Lecture de notre RDD\n",
    "read_rdd.take(5)"
   ]
  },
  {
   "cell_type": "code",
   "execution_count": 8,
   "id": "248109e7",
   "metadata": {},
   "outputs": [],
   "source": [
    "# Definition de la matice de similarite\n",
    "def similarity(dataframe):\n",
    "    dict_sim = {}\n",
    "    for key, df in dataframe.groupby(by=['Object','Property']):\n",
    "        Values = df['Value'].unique()\n",
    "        row = key[0]+key[1]\n",
    "        for  i in range(len(Values)):\n",
    "            w1 = Values[i]\n",
    "            for  u in range(len(Values)):\n",
    "                w2 = Values[u]\n",
    "                sim = 1\n",
    "                if w1!=w2:\n",
    "                    t = abs(w1-w2)\n",
    "                    sim = 1/t\n",
    "                dict_sim[row+str(w1)+str(w2)] = sim\n",
    "                dict_sim[row+str(w2)+str(w1)] = sim\n",
    "    return dict_sim"
   ]
  },
  {
   "cell_type": "code",
   "execution_count": 9,
   "id": "30a46bde",
   "metadata": {},
   "outputs": [],
   "source": [
    "# Declaration des variables globales\n",
    "global data_T\n",
    "data_T=pd.read_csv('data_T.csv')\n",
    "global rho\n",
    "rho=0.7\n",
    "global lam\n",
    "lam=0.5\n",
    "global dict_sim\n",
    "global read_rdd\n",
    "\n"
   ]
  },
  {
   "cell_type": "code",
   "execution_count": 10,
   "id": "454c42cc",
   "metadata": {},
   "outputs": [],
   "source": [
    "dict_sim=similarity(data)\n",
    "\n",
    "\n",
    "# la fonction Map\n",
    "# (input x est un quatriplet constitutue de (object,property,valeur, TSinitial) et le renvoie \n",
    "# la cle(object,property,valeur) et la valeur sigma_v)\n",
    "def MapFunction(x):\n",
    "    return ((x[0],x[1],x[2]), (-m.log(1-float(x[4])), [(x[3],x[4])] ) )\n",
    "def ReduceFunction(x,y):\n",
    "    return x[0]+y[0],x[1]+y[1]\n",
    "def Mapelement(x):\n",
    "    return (x[0][0],x[0][1]),[(x[0][2],x[1][0],x[1][1])]\n",
    "def ReduceShuffling(x,y):\n",
    "    return x+y\n",
    "\n",
    "def reduceFonction(x):\n",
    "\n",
    "    out=(x[0],[])\n",
    "    for v in x[1]:\n",
    "        c_v=v[1]\n",
    "        l=0\n",
    "        for v_ in x[1]:\n",
    "            if v[0]!=v_[0]:\n",
    "                Key_sim=x[0][0]+x[0][1]+str(v[0])+str(v_[0])\n",
    "                c_v+=rho*(v_[1]*dict_sim[Key_sim])\n",
    "\n",
    "        CV=1/(1+np.exp(-lam*c_v))\n",
    "\n",
    "        out[1].append((v[0],CV,v[2]))\n",
    "\n",
    "    return out\n",
    "# rdd_cv = sc.parallelize(transf.map(reduceFonction).map(mapT).reduceByKey(lambda x,y: x+y ).collect()[0][1])\n",
    "def mapT(x):\n",
    "    out=[]\n",
    "    for v in x[1]:\n",
    "        for s in v[2]:\n",
    "            out.append((x[0][0],x[0][1],v[0],s[0],s[1],v[1]))\n",
    "    return (1,out)\n",
    "def mapTS(x):\n",
    "    return x[3],x[5]\n",
    "def mapReconstruit(x):\n",
    "    ts = 0\n",
    "    for s in source_ts:\n",
    "        if x[3]==s[0]:\n",
    "            ts = s[1]\n",
    "            break\n",
    "    return x[0],x[1],x[2],x[3],ts,x[5]\n",
    "\n",
    "\n",
    "def mapTS_(x):\n",
    "    return x[3],x[4]\n",
    "\n",
    "\n",
    "def cos_sim(a,b):\n",
    "    return float(np.dot(a, b) / (np.linalg.norm(a) * np.linalg.norm(b)))"
   ]
  },
  {
   "cell_type": "code",
   "execution_count": 11,
   "id": "acdd2759",
   "metadata": {},
   "outputs": [],
   "source": [
    "import time as t\n",
    "def truthF(data_T):\n",
    "    read_ = sc.textFile(\"data_T.csv\")\n",
    "    # Spliter selon les lignes de notre dataFrame\n",
    "    read_rdd=read_.map(lambda line: line.split(\",\")).map(lambda line:(line[0],line[1],line[2],line[3],line[4],line[5])).filter(lambda x: x[0]!='Object')\n",
    "    ni=5\n",
    "    trustold = 0.00001\n",
    "    global source_ts \n",
    "    source_ts = []\n",
    "    start = t.time()\n",
    "    nb_iter_do = 0\n",
    "    for i in range(ni):\n",
    "        \n",
    "        ts1 = list(read_rdd.map(mapTS_).reduceByKey(lambda x,y: x).sortBy(lambda x: x[0]).map(lambda x: float(x[1])).collect())\n",
    "        \n",
    "        fonc=read_rdd.map(MapFunction).reduceByKey(ReduceFunction)\n",
    "        foncajust=fonc.map(Mapelement).reduceByKey(ReduceShuffling).map(reduceFonction)\n",
    "        \n",
    "        transf=sc.parallelize(foncajust.map(mapT).reduceByKey(lambda x,y: x+y ).collect()[0][1])\n",
    "        \n",
    "        source_ts = list(transf.map(mapTS).groupByKey().mapValues(lambda x: sum(x) / len(x)).collect())\n",
    "        \n",
    "        read_rdd = transf.map(mapReconstruit)\n",
    "        \n",
    "        ts2 = list(read_rdd.map(mapTS_).reduceByKey(lambda x,y: x).sortBy(lambda x: x[0]).map(lambda x: float(x[1])).collect())\n",
    "        \n",
    "        print('Itération : ',i+1)\n",
    "        print(1-abs(cos_sim(ts1,ts2)))\n",
    "        nb_iter_do = i+1\n",
    "        if 1-abs(cos_sim(ts1,ts2)) < trustold:\n",
    "            break\n",
    "    end = t.time()\n",
    "    \n",
    "    \n",
    "    return read_rdd,end-start,nb_iter_do\n",
    "    \n",
    "    \n",
    "    "
   ]
  },
  {
   "cell_type": "code",
   "execution_count": 14,
   "id": "6d29a169",
   "metadata": {},
   "outputs": [
    {
     "name": "stdout",
     "output_type": "stream",
     "text": [
      "Itération :  1\n",
      "0.001083795431621959\n",
      "Itération :  2\n",
      "0.0003308620801112383\n",
      "Itération :  3\n",
      "7.63023128548257e-05\n",
      "Itération :  4\n",
      "1.5614884195214174e-05\n",
      "Itération :  5\n",
      "3.0793252884242506e-06\n"
     ]
    },
    {
     "data": {
      "text/plain": [
       "(PythonRDD[626] at RDD at PythonRDD.scala:53, 3.794365167617798, 5)"
      ]
     },
     "execution_count": 14,
     "metadata": {},
     "output_type": "execute_result"
    }
   ],
   "source": [
    "out = truthF(data_T)\n",
    "out"
   ]
  },
  {
   "cell_type": "code",
   "execution_count": 15,
   "id": "9057b4b4",
   "metadata": {},
   "outputs": [
    {
     "data": {
      "text/plain": [
       "[('Object1',\n",
       "  'Property3',\n",
       "  '745886',\n",
       "  'Source2',\n",
       "  0.6724265387159437,\n",
       "  0.6370540400061349),\n",
       " ('Object1',\n",
       "  'Property3',\n",
       "  '953423',\n",
       "  'Source4',\n",
       "  0.6724225416310106,\n",
       "  0.6370522329664958)]"
      ]
     },
     "execution_count": 15,
     "metadata": {},
     "output_type": "execute_result"
    }
   ],
   "source": [
    "out[0].take(2)"
   ]
  },
  {
   "cell_type": "code",
   "execution_count": 16,
   "id": "e6c5d355",
   "metadata": {},
   "outputs": [],
   "source": [
    "def mapGetResult(x):\n",
    "    return ((x[0],x[1]),(x[2],x[5]))\n",
    "def reduceGetResult(x,y):\n",
    "    return y\n",
    "def reduceVote(x,y):\n",
    "    if x[1] > y[1]:\n",
    "        return x\n",
    "    return y"
   ]
  },
  {
   "cell_type": "code",
   "execution_count": 17,
   "id": "63dbde1f",
   "metadata": {},
   "outputs": [
    {
     "data": {
      "text/plain": [
       "PythonRDD[628] at RDD at PythonRDD.scala:53"
      ]
     },
     "execution_count": 17,
     "metadata": {},
     "output_type": "execute_result"
    }
   ],
   "source": [
    "out[0].map(mapGetResult)"
   ]
  },
  {
   "cell_type": "code",
   "execution_count": 18,
   "id": "f644f421",
   "metadata": {},
   "outputs": [
    {
     "name": "stderr",
     "output_type": "stream",
     "text": [
      "/Users/admin/spark-3.2.0/python/lib/pyspark.zip/pyspark/shuffle.py:60: UserWarning: Please install psutil to have better support with spilling\n"
     ]
    }
   ],
   "source": [
    "list_A =out[0].map(mapGetResult).reduceByKey(reduceVote).map(lambda x: (x[0][0],x[0][1],x[1][0])).collect()"
   ]
  },
  {
   "cell_type": "code",
   "execution_count": 19,
   "id": "34bfba00",
   "metadata": {},
   "outputs": [
    {
     "data": {
      "text/plain": [
       "[('Object1', 'Property3', '371893'),\n",
       " ('Object4', 'Property3', '292202'),\n",
       " ('Object7', 'Property2', '269456'),\n",
       " ('Object9', 'Property2', '286530'),\n",
       " ('Object10', 'Property2', '631083'),\n",
       " ('Object10', 'Property1', '786290'),\n",
       " ('Object7', 'Property1', '337793'),\n",
       " ('Object9', 'Property1', '663325'),\n",
       " ('Object2', 'Property3', '324512'),\n",
       " ('Object5', 'Property3', '205622'),\n",
       " ('Object4', 'Property1', '433866'),\n",
       " ('Object5', 'Property1', '230773'),\n",
       " ('Object7', 'Property3', '361249'),\n",
       " ('Object1', 'Property1', '179475'),\n",
       " ('Object9', 'Property3', '895064'),\n",
       " ('Object1', 'Property2', '168208'),\n",
       " ('Object5', 'Property2', '388816'),\n",
       " ('Object10', 'Property3', '724616'),\n",
       " ('Object2', 'Property2', '432090'),\n",
       " ('Object4', 'Property2', '475263'),\n",
       " ('Object2', 'Property1', '422854'),\n",
       " ('Object3', 'Property3', '122120'),\n",
       " ('Object6', 'Property3', '327221'),\n",
       " ('Object8', 'Property1', '433516'),\n",
       " ('Object8', 'Property2', '323152'),\n",
       " ('Object8', 'Property3', '977818'),\n",
       " ('Object3', 'Property1', '489481'),\n",
       " ('Object3', 'Property2', '152970'),\n",
       " ('Object6', 'Property1', '195647'),\n",
       " ('Object6', 'Property2', '319997')]"
      ]
     },
     "execution_count": 19,
     "metadata": {},
     "output_type": "execute_result"
    }
   ],
   "source": [
    "list_A"
   ]
  },
  {
   "cell_type": "code",
   "execution_count": 20,
   "id": "6c621cbc",
   "metadata": {},
   "outputs": [],
   "source": [
    "list_B = read_rdd.collect()"
   ]
  },
  {
   "cell_type": "code",
   "execution_count": 21,
   "id": "d49ce76a",
   "metadata": {},
   "outputs": [],
   "source": [
    "data_truth=pd.read_csv('data_truth.csv')\n",
    "data_truth_=pd.DataFrame(data_truth, columns= ['Object','Property','Value'])\n",
    "data_truth_.to_csv('data_truth_.csv',index=False)\n",
    "read_truth = sc.textFile(\"data_truth_.csv\")\n",
    "truth_rdd=read_truth.map(lambda line: line.split(\",\")).map(lambda line:(line[0],line[1],line[2]))"
   ]
  },
  {
   "cell_type": "code",
   "execution_count": 22,
   "id": "1021dfec",
   "metadata": {},
   "outputs": [],
   "source": [
    "list_truth=truth_rdd.collect()"
   ]
  },
  {
   "cell_type": "code",
   "execution_count": 23,
   "id": "f044a061",
   "metadata": {},
   "outputs": [],
   "source": [
    "def function(list_A,list_B):\n",
    "    binary=[]\n",
    "    search_list = [tuple(li[:-3]) for li in list_B]\n",
    "    for ser_item in search_list:\n",
    "        if ser_item in list_A:\n",
    "            binary.append(1)\n",
    "        else:\n",
    "            binary.append(0)\n",
    "    return binary\n",
    "        \n",
    "    "
   ]
  },
  {
   "cell_type": "code",
   "execution_count": 24,
   "id": "8c9297bb",
   "metadata": {},
   "outputs": [
    {
     "data": {
      "text/plain": [
       "[1,\n",
       " 1,\n",
       " 1,\n",
       " 1,\n",
       " 1,\n",
       " 1,\n",
       " 1,\n",
       " 1,\n",
       " 1,\n",
       " 1,\n",
       " 1,\n",
       " 1,\n",
       " 1,\n",
       " 1,\n",
       " 1,\n",
       " 1,\n",
       " 1,\n",
       " 1,\n",
       " 1,\n",
       " 1,\n",
       " 1,\n",
       " 1,\n",
       " 1,\n",
       " 1,\n",
       " 1,\n",
       " 1,\n",
       " 1,\n",
       " 1,\n",
       " 1,\n",
       " 1,\n",
       " 1,\n",
       " 1,\n",
       " 1,\n",
       " 1,\n",
       " 1,\n",
       " 0,\n",
       " 0,\n",
       " 0,\n",
       " 0,\n",
       " 0,\n",
       " 1,\n",
       " 1,\n",
       " 1,\n",
       " 1,\n",
       " 1,\n",
       " 1,\n",
       " 1,\n",
       " 1,\n",
       " 1,\n",
       " 1,\n",
       " 1,\n",
       " 1,\n",
       " 1,\n",
       " 1,\n",
       " 1,\n",
       " 0,\n",
       " 0,\n",
       " 0,\n",
       " 0,\n",
       " 0,\n",
       " 0,\n",
       " 0,\n",
       " 0,\n",
       " 0,\n",
       " 0,\n",
       " 0,\n",
       " 0,\n",
       " 0,\n",
       " 0,\n",
       " 0,\n",
       " 0,\n",
       " 0,\n",
       " 0,\n",
       " 0,\n",
       " 0,\n",
       " 0,\n",
       " 0,\n",
       " 0,\n",
       " 0,\n",
       " 0,\n",
       " 0,\n",
       " 0,\n",
       " 0,\n",
       " 0,\n",
       " 0,\n",
       " 0,\n",
       " 0,\n",
       " 0,\n",
       " 0,\n",
       " 0,\n",
       " 0,\n",
       " 0,\n",
       " 0,\n",
       " 0,\n",
       " 0,\n",
       " 0,\n",
       " 0,\n",
       " 0,\n",
       " 0,\n",
       " 0,\n",
       " 0,\n",
       " 0,\n",
       " 0,\n",
       " 0,\n",
       " 0,\n",
       " 0,\n",
       " 0,\n",
       " 0,\n",
       " 0,\n",
       " 0,\n",
       " 0,\n",
       " 0,\n",
       " 0,\n",
       " 0,\n",
       " 0,\n",
       " 0,\n",
       " 0,\n",
       " 0,\n",
       " 0,\n",
       " 0,\n",
       " 0,\n",
       " 0,\n",
       " 0,\n",
       " 0,\n",
       " 0,\n",
       " 0,\n",
       " 0,\n",
       " 0,\n",
       " 0,\n",
       " 0,\n",
       " 1,\n",
       " 1,\n",
       " 1,\n",
       " 1,\n",
       " 1,\n",
       " 1,\n",
       " 1,\n",
       " 1,\n",
       " 1,\n",
       " 1,\n",
       " 1,\n",
       " 1,\n",
       " 1,\n",
       " 1,\n",
       " 1,\n",
       " 1,\n",
       " 1,\n",
       " 1,\n",
       " 1,\n",
       " 0]"
      ]
     },
     "execution_count": 24,
     "metadata": {},
     "output_type": "execute_result"
    }
   ],
   "source": [
    "res = function(list_A, list_B)\n",
    "res_truth=function(list_truth, list_B)\n",
    "res\n",
    "res_truth"
   ]
  },
  {
   "cell_type": "code",
   "execution_count": 25,
   "id": "9b91dd4f",
   "metadata": {},
   "outputs": [
    {
     "name": "stdout",
     "output_type": "stream",
     "text": [
      "Requirement already satisfied: scikit-learn in /Users/admin/miniconda3/lib/python3.9/site-packages (0.24.2)\n",
      "Requirement already satisfied: numpy>=1.13.3 in /Users/admin/miniconda3/lib/python3.9/site-packages (from scikit-learn) (1.20.3)\n",
      "Requirement already satisfied: joblib>=0.11 in /Users/admin/miniconda3/lib/python3.9/site-packages (from scikit-learn) (1.0.1)\n",
      "Requirement already satisfied: threadpoolctl>=2.0.0 in /Users/admin/miniconda3/lib/python3.9/site-packages (from scikit-learn) (2.2.0)\n",
      "Requirement already satisfied: scipy>=0.19.1 in /Users/admin/miniconda3/lib/python3.9/site-packages (from scikit-learn) (1.7.1)\n"
     ]
    }
   ],
   "source": [
    "!pip install scikit-learn\n",
    "import sklearn"
   ]
  },
  {
   "cell_type": "code",
   "execution_count": 26,
   "id": "18df7b86",
   "metadata": {},
   "outputs": [],
   "source": [
    "from sklearn.metrics import precision_score\n",
    "from sklearn.metrics import accuracy_score\n",
    "from sklearn.metrics import recall_score\n",
    "from sklearn.metrics import f1_score"
   ]
  },
  {
   "cell_type": "code",
   "execution_count": 27,
   "id": "1c5b7ae2",
   "metadata": {},
   "outputs": [
    {
     "data": {
      "text/plain": [
       "0.9"
      ]
     },
     "execution_count": 27,
     "metadata": {},
     "output_type": "execute_result"
    }
   ],
   "source": [
    "precision_score(res_truth,res)"
   ]
  },
  {
   "cell_type": "code",
   "execution_count": 40,
   "id": "57bd5c4b",
   "metadata": {},
   "outputs": [
    {
     "data": {
      "text/plain": [
       "0.8466666666666667"
      ]
     },
     "execution_count": 40,
     "metadata": {},
     "output_type": "execute_result"
    }
   ],
   "source": [
    "accuracy_score(res_truth,res)"
   ]
  },
  {
   "cell_type": "code",
   "execution_count": 43,
   "id": "5db0d7a8",
   "metadata": {},
   "outputs": [
    {
     "data": {
      "text/plain": [
       "0.8412698412698413"
      ]
     },
     "execution_count": 43,
     "metadata": {},
     "output_type": "execute_result"
    }
   ],
   "source": [
    "recall_score(res_truth,res)"
   ]
  },
  {
   "cell_type": "code",
   "execution_count": 44,
   "id": "ae7c49d8",
   "metadata": {},
   "outputs": [
    {
     "data": {
      "text/plain": [
       "0.8217054263565892"
      ]
     },
     "execution_count": 44,
     "metadata": {},
     "output_type": "execute_result"
    }
   ],
   "source": [
    "f1_score(res_truth,res)"
   ]
  },
  {
   "cell_type": "code",
   "execution_count": null,
   "id": "e6618d99",
   "metadata": {},
   "outputs": [],
   "source": []
  }
 ],
 "metadata": {
  "kernelspec": {
   "display_name": "Python 3 (ipykernel)",
   "language": "python",
   "name": "python3"
  },
  "language_info": {
   "codemirror_mode": {
    "name": "ipython",
    "version": 3
   },
   "file_extension": ".py",
   "mimetype": "text/x-python",
   "name": "python",
   "nbconvert_exporter": "python",
   "pygments_lexer": "ipython3",
   "version": "3.9.5"
  }
 },
 "nbformat": 4,
 "nbformat_minor": 5
}

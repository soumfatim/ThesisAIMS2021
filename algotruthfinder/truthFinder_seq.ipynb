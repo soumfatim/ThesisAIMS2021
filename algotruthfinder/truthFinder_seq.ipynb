{
 "cells": [
  {
   "cell_type": "code",
   "execution_count": 3,
   "id": "12f97479",
   "metadata": {},
   "outputs": [],
   "source": [
    "import pandas as pd\n",
    "import numpy as np\n",
    "import math as m"
   ]
  },
  {
   "cell_type": "code",
   "execution_count": null,
   "id": "35eb3a8a",
   "metadata": {
    "scrolled": true
   },
   "outputs": [],
   "source": []
  },
  {
   "cell_type": "code",
   "execution_count": 27,
   "id": "7f182e0b",
   "metadata": {},
   "outputs": [
    {
     "data": {
      "text/html": [
       "<div>\n",
       "<style scoped>\n",
       "    .dataframe tbody tr th:only-of-type {\n",
       "        vertical-align: middle;\n",
       "    }\n",
       "\n",
       "    .dataframe tbody tr th {\n",
       "        vertical-align: top;\n",
       "    }\n",
       "\n",
       "    .dataframe thead th {\n",
       "        text-align: right;\n",
       "    }\n",
       "</style>\n",
       "<table border=\"1\" class=\"dataframe\">\n",
       "  <thead>\n",
       "    <tr style=\"text-align: right;\">\n",
       "      <th></th>\n",
       "      <th>Object</th>\n",
       "      <th>Property</th>\n",
       "      <th>Value</th>\n",
       "      <th>Source</th>\n",
       "    </tr>\n",
       "  </thead>\n",
       "  <tbody>\n",
       "    <tr>\n",
       "      <th>0</th>\n",
       "      <td>sial</td>\n",
       "      <td>Change %</td>\n",
       "      <td>1.170000e+00</td>\n",
       "      <td>advfn</td>\n",
       "    </tr>\n",
       "    <tr>\n",
       "      <th>1</th>\n",
       "      <td>sial</td>\n",
       "      <td>Last trading price</td>\n",
       "      <td>7.424000e+01</td>\n",
       "      <td>advfn</td>\n",
       "    </tr>\n",
       "    <tr>\n",
       "      <th>2</th>\n",
       "      <td>sial</td>\n",
       "      <td>Open price</td>\n",
       "      <td>7.354000e+01</td>\n",
       "      <td>advfn</td>\n",
       "    </tr>\n",
       "    <tr>\n",
       "      <th>3</th>\n",
       "      <td>sial</td>\n",
       "      <td>Change $</td>\n",
       "      <td>8.600000e-01</td>\n",
       "      <td>advfn</td>\n",
       "    </tr>\n",
       "    <tr>\n",
       "      <th>4</th>\n",
       "      <td>sial</td>\n",
       "      <td>Volume</td>\n",
       "      <td>6.746630e+05</td>\n",
       "      <td>advfn</td>\n",
       "    </tr>\n",
       "    <tr>\n",
       "      <th>...</th>\n",
       "      <td>...</td>\n",
       "      <td>...</td>\n",
       "      <td>...</td>\n",
       "      <td>...</td>\n",
       "    </tr>\n",
       "    <tr>\n",
       "      <th>56987</th>\n",
       "      <td>shld</td>\n",
       "      <td>Today's low</td>\n",
       "      <td>6.965000e+01</td>\n",
       "      <td>zacks</td>\n",
       "    </tr>\n",
       "    <tr>\n",
       "      <th>56988</th>\n",
       "      <td>shld</td>\n",
       "      <td>52wk High</td>\n",
       "      <td>9.479000e+01</td>\n",
       "      <td>zacks</td>\n",
       "    </tr>\n",
       "    <tr>\n",
       "      <th>56989</th>\n",
       "      <td>shld</td>\n",
       "      <td>52wk Low</td>\n",
       "      <td>5.921000e+01</td>\n",
       "      <td>zacks</td>\n",
       "    </tr>\n",
       "    <tr>\n",
       "      <th>56990</th>\n",
       "      <td>shld</td>\n",
       "      <td>Market cap</td>\n",
       "      <td>7.750000e+09</td>\n",
       "      <td>zacks</td>\n",
       "    </tr>\n",
       "    <tr>\n",
       "      <th>56991</th>\n",
       "      <td>shld</td>\n",
       "      <td>EPS</td>\n",
       "      <td>1.200000e-01</td>\n",
       "      <td>zacks</td>\n",
       "    </tr>\n",
       "  </tbody>\n",
       "</table>\n",
       "<p>56992 rows × 4 columns</p>\n",
       "</div>"
      ],
      "text/plain": [
       "      Object            Property         Value Source\n",
       "0       sial            Change %  1.170000e+00  advfn\n",
       "1       sial  Last trading price  7.424000e+01  advfn\n",
       "2       sial          Open price  7.354000e+01  advfn\n",
       "3       sial            Change $  8.600000e-01  advfn\n",
       "4       sial              Volume  6.746630e+05  advfn\n",
       "...      ...                 ...           ...    ...\n",
       "56987   shld         Today's low  6.965000e+01  zacks\n",
       "56988   shld           52wk High  9.479000e+01  zacks\n",
       "56989   shld            52wk Low  5.921000e+01  zacks\n",
       "56990   shld          Market cap  7.750000e+09  zacks\n",
       "56991   shld                 EPS  1.200000e-01  zacks\n",
       "\n",
       "[56992 rows x 4 columns]"
      ]
     },
     "execution_count": 27,
     "metadata": {},
     "output_type": "execute_result"
    }
   ],
   "source": [
    "data=pd.read_csv('stock/stock_clean.csv')\n",
    "data_T=pd.DataFrame(data, columns= ['Object','Property','Value','Source'])\n",
    "data_T"
   ]
  },
  {
   "cell_type": "code",
   "execution_count": 28,
   "id": "ec874dd0",
   "metadata": {
    "scrolled": true
   },
   "outputs": [
    {
     "data": {
      "text/html": [
       "<div>\n",
       "<style scoped>\n",
       "    .dataframe tbody tr th:only-of-type {\n",
       "        vertical-align: middle;\n",
       "    }\n",
       "\n",
       "    .dataframe tbody tr th {\n",
       "        vertical-align: top;\n",
       "    }\n",
       "\n",
       "    .dataframe thead th {\n",
       "        text-align: right;\n",
       "    }\n",
       "</style>\n",
       "<table border=\"1\" class=\"dataframe\">\n",
       "  <thead>\n",
       "    <tr style=\"text-align: right;\">\n",
       "      <th></th>\n",
       "      <th>Object</th>\n",
       "      <th>Property</th>\n",
       "      <th>Value</th>\n",
       "      <th>Source</th>\n",
       "      <th>TSInitial</th>\n",
       "      <th>C_v</th>\n",
       "    </tr>\n",
       "  </thead>\n",
       "  <tbody>\n",
       "    <tr>\n",
       "      <th>0</th>\n",
       "      <td>sial</td>\n",
       "      <td>Change %</td>\n",
       "      <td>1.17</td>\n",
       "      <td>advfn</td>\n",
       "      <td>0.8</td>\n",
       "      <td>0.0</td>\n",
       "    </tr>\n",
       "    <tr>\n",
       "      <th>1</th>\n",
       "      <td>sial</td>\n",
       "      <td>Last trading price</td>\n",
       "      <td>74.24</td>\n",
       "      <td>advfn</td>\n",
       "      <td>0.8</td>\n",
       "      <td>0.0</td>\n",
       "    </tr>\n",
       "    <tr>\n",
       "      <th>2</th>\n",
       "      <td>sial</td>\n",
       "      <td>Open price</td>\n",
       "      <td>73.54</td>\n",
       "      <td>advfn</td>\n",
       "      <td>0.8</td>\n",
       "      <td>0.0</td>\n",
       "    </tr>\n",
       "    <tr>\n",
       "      <th>3</th>\n",
       "      <td>sial</td>\n",
       "      <td>Change $</td>\n",
       "      <td>0.86</td>\n",
       "      <td>advfn</td>\n",
       "      <td>0.8</td>\n",
       "      <td>0.0</td>\n",
       "    </tr>\n",
       "    <tr>\n",
       "      <th>4</th>\n",
       "      <td>sial</td>\n",
       "      <td>Volume</td>\n",
       "      <td>674663.00</td>\n",
       "      <td>advfn</td>\n",
       "      <td>0.8</td>\n",
       "      <td>0.0</td>\n",
       "    </tr>\n",
       "  </tbody>\n",
       "</table>\n",
       "</div>"
      ],
      "text/plain": [
       "  Object            Property      Value Source  TSInitial  C_v\n",
       "0   sial            Change %       1.17  advfn        0.8  0.0\n",
       "1   sial  Last trading price      74.24  advfn        0.8  0.0\n",
       "2   sial          Open price      73.54  advfn        0.8  0.0\n",
       "3   sial            Change $       0.86  advfn        0.8  0.0\n",
       "4   sial              Volume  674663.00  advfn        0.8  0.0"
      ]
     },
     "execution_count": 28,
     "metadata": {},
     "output_type": "execute_result"
    }
   ],
   "source": [
    "data_T['TSInitial']=0.8\n",
    "data_T['C_v']=0.0\n",
    "data_T.head(5)"
   ]
  },
  {
   "cell_type": "code",
   "execution_count": 29,
   "id": "5e671e51",
   "metadata": {},
   "outputs": [],
   "source": [
    "def word2vec(word):\n",
    "    from collections import Counter\n",
    "    from math import sqrt\n",
    "\n",
    "    # count the characters in word\n",
    "    cw = Counter(word)\n",
    "\n",
    "    # precomputes a set of the different characters\n",
    "    sw = set(cw)\n",
    "    # precomputes the \"length\" of the word vector\n",
    "    lw = sqrt(sum(c*c for c in cw.values()))\n",
    "\n",
    "    # return a tuple\n",
    "    return cw, sw, lw\n",
    "\n",
    "def cosdis(a, b):\n",
    "    v1 = word2vec(a)\n",
    "    v2 = word2vec(b)\n",
    "    # which characters are common to the two words?\n",
    "    common = v1[1].intersection(v2[1])\n",
    "    # by definition of cosine distance we have\n",
    "    return sum(v1[0][ch]*v2[0][ch] for ch in common)/v1[2]/v2[2]"
   ]
  },
  {
   "cell_type": "code",
   "execution_count": 30,
   "id": "12183e26",
   "metadata": {},
   "outputs": [],
   "source": [
    "# Definition de la matice de similarite\n",
    "def similarity(dataframe):\n",
    "    dict_sim = {}\n",
    "    for key, df in dataframe.groupby(by=['Object','Property']):\n",
    "        Values = df['Value'].unique()\n",
    "        row = key[0]+key[1]\n",
    "        for  i in range(len(Values)):\n",
    "            w1 = Values[i]\n",
    "            for  u in range(len(Values)):\n",
    "                w2 = Values[u]\n",
    "                sim = 1\n",
    "                if w1!=w2:\n",
    "                    t = abs(w1-w2)\n",
    "                    sim = 1/t\n",
    "                dict_sim[row+str(w1)+str(w2)] = sim\n",
    "                dict_sim[row+str(w2)+str(w1)] = sim\n",
    "    return dict_sim\n",
    "\n",
    "\n",
    "# def similarity(dataframe):\n",
    "#     dict_sim = {}\n",
    "#     for key, df in dataframe.groupby(by=['Object','Property']):\n",
    "#         Values = df['Value'].unique()\n",
    "#         row = key[0]+key[1]\n",
    "#         for  i in range(len(Values)):\n",
    "#             w1 = Values[i]\n",
    "#             for  u in range(len(Values)):\n",
    "#                 w2 = Values[u]\n",
    "#                 sim = 1\n",
    "#                 if w1!=w2:\n",
    "#                     sim = cosdis(w1,w2)\n",
    "#                 dict_sim[row+str(w1)+str(w2)] = sim\n",
    "#                 dict_sim[row+str(w2)+str(w1)] = sim\n",
    "#     return dict_sim"
   ]
  },
  {
   "cell_type": "code",
   "execution_count": 31,
   "id": "f881008e",
   "metadata": {},
   "outputs": [],
   "source": [
    "import os\n",
    "import psutil\n",
    "\n",
    "\n",
    "\n",
    "def get_process_memory():\n",
    "    process = psutil.Process(os.getpid())\n",
    "    return process.memory_info().rss"
   ]
  },
  {
   "cell_type": "code",
   "execution_count": 32,
   "id": "a28fccb3",
   "metadata": {},
   "outputs": [],
   "source": [
    "import math\n",
    "def Ts(df):\n",
    "    ts_list = df['TSInitial'].to_list()\n",
    "    return sum([-math.log(1-ts) for ts in ts_list])\n",
    "def cos_sim(a,b):\n",
    "    return float(np.dot(a, b) / (np.linalg.norm(a) * np.linalg.norm(b)))"
   ]
  },
  {
   "cell_type": "code",
   "execution_count": 33,
   "id": "9ab784c0",
   "metadata": {},
   "outputs": [],
   "source": [
    "import time as t\n",
    "from natsort import index_natsorted, order_by_index\n",
    "def TruthFinder_seq(data_T):\n",
    "    mem_before = get_process_memory()\n",
    "    ni=5\n",
    "    trustold = 0.00001\n",
    "    start = t.time()\n",
    "    nb_iter_do = 0\n",
    "    rho=0.7\n",
    "    lam=0.5\n",
    "    dict_sim=similarity(data_T)\n",
    "    for i in range(ni):\n",
    "        df = data_T[['Source', 'TSInitial']].drop_duplicates().reindex(index=order_by_index(data_T[['Source', 'TSInitial']].drop_duplicates().index, index_natsorted(data_T[['Source', 'TSInitial']].drop_duplicates()['Source'], reverse=False)))\n",
    "        ts1=df['TSInitial']\n",
    "        grouped_df = data_T.groupby([\"Object\", \"Property\",\"Value\"])\n",
    "        for key,item in grouped_df:\n",
    "            sum_ = Ts(item)\n",
    "            data_T.loc[((data_T[\"Object\"] == key[0]) & (data_T[\"Property\"]==key[1]) & (data_T[\"Value\"]==key[2])), \"C_v\"]=sum_\n",
    "        grouped_df=data_T.groupby([\"Object\", \"Property\",\"Value\"])\n",
    "        for key ,item in grouped_df:\n",
    "            cv=data_T.loc[((data_T[\"Object\"] == key[0]) & (data_T[\"Property\"]==key[1]) & (data_T[\"Value\"]==key[2])), \"C_v\"].values[0]\n",
    "#             print(cv)\n",
    "\n",
    "            data_d=data_T.loc[((data_T[\"Object\"] == key[0]) & (data_T[\"Property\"]==key[1]) & (data_T[\"Value\"]!=key[2])), [\"Value\",\"C_v\"]]\n",
    "            for row in data_d.values:\n",
    "                Key_sim=key[0]+key[1]+str(key[2])+str((row[0]))\n",
    "#                 Key_sim=key[0]+key[1]+str(key[2])+str(int(row[0]))\n",
    "                cv+=rho*(row[1]*dict_sim[Key_sim])\n",
    "            cv=1/(1+np.exp(-lam*cv))\n",
    "        #     print(cv)\n",
    "            data_T.loc[((data_T[\"Object\"] == key[0]) & (data_T[\"Property\"]==key[1]) & (data_T[\"Value\"]==key[2])), \"C_v\"]=cv\n",
    "        groupe_ts=data_T.groupby(['Source'])\n",
    "        for key,item in groupe_ts:\n",
    "            ts_=item['C_v'].mean()\n",
    "            if ts_ >=1:\n",
    "                ts_ = 1-0.0001\n",
    "            elif ts_ <= 0:\n",
    "                ts_ = 0 + 0.0001\n",
    "            data_T.loc[((data_T[\"Source\"] == key)), \"TSInitial\"]=ts_\n",
    "        df = data_T[['Source', 'TSInitial']].drop_duplicates().reindex(index=order_by_index(data_T[['Source', 'TSInitial']].drop_duplicates().index, index_natsorted(data_T[['Source', 'TSInitial']].drop_duplicates()['Source'], reverse=False)))\n",
    "        ts2=df['TSInitial']\n",
    "        print('Itération : ',i+1)\n",
    "        print(1-abs(cos_sim(ts1,ts2)))\n",
    "        nb_iter_do = i+1\n",
    "        if 1-abs(cos_sim(ts1,ts2)) < trustold:\n",
    "            break\n",
    "    end = t.time()\n",
    "    mem_after = get_process_memory()\n",
    "\n",
    "    return data_T,end-start,nb_iter_do,mem_after,mem_before,mem_after-mem_before\n",
    "\n"
   ]
  },
  {
   "cell_type": "code",
   "execution_count": 34,
   "id": "29ce84c1",
   "metadata": {},
   "outputs": [
    {
     "name": "stdout",
     "output_type": "stream",
     "text": [
      "Itération :  1\n",
      "0.00019296684140013287\n",
      "Itération :  2\n",
      "4.1943600496252564e-05\n",
      "Itération :  3\n",
      "3.680384619508814e-06\n"
     ]
    }
   ],
   "source": [
    "result_=TruthFinder_seq(data_T)"
   ]
  },
  {
   "cell_type": "code",
   "execution_count": 35,
   "id": "88b561d4",
   "metadata": {},
   "outputs": [
    {
     "data": {
      "text/plain": [
       "(      Object            Property         Value Source  TSInitial       C_v\n",
       " 0       sial            Change %  1.170000e+00  advfn   0.999147  1.000000\n",
       " 1       sial  Last trading price  7.424000e+01  advfn   0.999147  1.000000\n",
       " 2       sial          Open price  7.354000e+01  advfn   0.999147  1.000000\n",
       " 3       sial            Change $  8.600000e-01  advfn   0.999147  1.000000\n",
       " 4       sial              Volume  6.746630e+05  advfn   0.999147  0.999258\n",
       " ...      ...                 ...           ...    ...        ...       ...\n",
       " 56987   shld         Today's low  6.965000e+01  zacks   0.991433  1.000000\n",
       " 56988   shld           52wk High  9.479000e+01  zacks   0.991433  1.000000\n",
       " 56989   shld            52wk Low  5.921000e+01  zacks   0.991433  1.000000\n",
       " 56990   shld          Market cap  7.750000e+09  zacks   0.991433  0.899305\n",
       " 56991   shld                 EPS  1.200000e-01  zacks   0.991433  1.000000\n",
       " \n",
       " [56992 rows x 6 columns],\n",
       " 853.9828717708588,\n",
       " 3,\n",
       " 149061632,\n",
       " 138903552,\n",
       " 10158080)"
      ]
     },
     "execution_count": 35,
     "metadata": {},
     "output_type": "execute_result"
    }
   ],
   "source": [
    "result_"
   ]
  },
  {
   "cell_type": "code",
   "execution_count": 37,
   "id": "afa90b14",
   "metadata": {},
   "outputs": [],
   "source": [
    "# def res(result):\n",
    "#     gr=result.groupby([\"Object\", \"Property\"])\n",
    "#     data_out={'Object':[],'Property':[],'Value':[]}\n",
    "#     for key,item in gr:\n",
    "# #         print(item.values)\n",
    "#         cv_max=0\n",
    "#         value_pred=None\n",
    "#         for line in item.values:\n",
    "# #             print(line[5])\n",
    "#             if cv_max<line[5]:\n",
    "#                 cv_max=line[5]\n",
    "#                 value_pred=line[2]\n",
    "#         data_out['Object'].append(key[0])\n",
    "#         data_out['Property'].append(key[1])\n",
    "#         data_out['Value'].append(value_pred)\n",
    "#     return pd.DataFrame(data_out)\n",
    "        \n",
    "def res(result):\n",
    "    gr=result.groupby([\"Object\", \"Property\"])\n",
    "    data_out={'Object':[],'Property':[],'Value':[]}\n",
    "    for key,item in gr:\n",
    "#         print(item.values)\n",
    "        cv_max=0\n",
    "        value_pred=None\n",
    "        for line in item.values:\n",
    "#             print(line[5])\n",
    "            if cv_max<line[5]:\n",
    "                cv_max=line[5]\n",
    "                if value_pred==None:\n",
    "                    value_pred=line[2]\n",
    "            else:\n",
    "                value_pred=max(value_pred,line[2])\n",
    "        data_out['Object'].append(key[0])\n",
    "        data_out['Property'].append(key[1])\n",
    "        data_out['Value'].append(value_pred)\n",
    "    return pd.DataFrame(data_out)"
   ]
  },
  {
   "cell_type": "code",
   "execution_count": 38,
   "id": "ebf0b10c",
   "metadata": {},
   "outputs": [
    {
     "data": {
      "text/plain": [
       "548"
      ]
     },
     "execution_count": 38,
     "metadata": {},
     "output_type": "execute_result"
    }
   ],
   "source": [
    "res_=res(result_[0])\n",
    "len(res_)"
   ]
  },
  {
   "cell_type": "code",
   "execution_count": 39,
   "id": "ba44f342",
   "metadata": {},
   "outputs": [],
   "source": [
    "list_ = res_.to_numpy()"
   ]
  },
  {
   "cell_type": "code",
   "execution_count": 40,
   "id": "60971851",
   "metadata": {},
   "outputs": [
    {
     "data": {
      "text/html": [
       "<div>\n",
       "<style scoped>\n",
       "    .dataframe tbody tr th:only-of-type {\n",
       "        vertical-align: middle;\n",
       "    }\n",
       "\n",
       "    .dataframe tbody tr th {\n",
       "        vertical-align: top;\n",
       "    }\n",
       "\n",
       "    .dataframe thead th {\n",
       "        text-align: right;\n",
       "    }\n",
       "</style>\n",
       "<table border=\"1\" class=\"dataframe\">\n",
       "  <thead>\n",
       "    <tr style=\"text-align: right;\">\n",
       "      <th></th>\n",
       "      <th>Object</th>\n",
       "      <th>Property</th>\n",
       "      <th>Value</th>\n",
       "    </tr>\n",
       "  </thead>\n",
       "  <tbody>\n",
       "    <tr>\n",
       "      <th>0</th>\n",
       "      <td>AA-1221-MCO-ORD</td>\n",
       "      <td>Scheduled departure</td>\n",
       "      <td>2011-12-01 8:00 PM</td>\n",
       "    </tr>\n",
       "    <tr>\n",
       "      <th>1</th>\n",
       "      <td>AA-1221-MCO-ORD</td>\n",
       "      <td>Actual departure</td>\n",
       "      <td>2011-12-01 8:23 PM</td>\n",
       "    </tr>\n",
       "    <tr>\n",
       "      <th>2</th>\n",
       "      <td>AA-1221-MCO-ORD</td>\n",
       "      <td>Departure gate</td>\n",
       "      <td>17</td>\n",
       "    </tr>\n",
       "    <tr>\n",
       "      <th>3</th>\n",
       "      <td>AA-1221-MCO-ORD</td>\n",
       "      <td>Scheduled arrival</td>\n",
       "      <td>2011-12-01 9:45 PM</td>\n",
       "    </tr>\n",
       "    <tr>\n",
       "      <th>4</th>\n",
       "      <td>AA-1221-MCO-ORD</td>\n",
       "      <td>Actual arrival</td>\n",
       "      <td>2011-12-01 9:53 PM</td>\n",
       "    </tr>\n",
       "    <tr>\n",
       "      <th>...</th>\n",
       "      <td>...</td>\n",
       "      <td>...</td>\n",
       "      <td>...</td>\n",
       "    </tr>\n",
       "    <tr>\n",
       "      <th>543</th>\n",
       "      <td>CO-89-IAH-EWR</td>\n",
       "      <td>Actual arrival</td>\n",
       "      <td>2011-12-01 10:27 AM</td>\n",
       "    </tr>\n",
       "    <tr>\n",
       "      <th>544</th>\n",
       "      <td>CO-1090-BOS-IAH</td>\n",
       "      <td>Scheduled departure</td>\n",
       "      <td>2011-12-01 9:45 AM</td>\n",
       "    </tr>\n",
       "    <tr>\n",
       "      <th>545</th>\n",
       "      <td>CO-1090-BOS-IAH</td>\n",
       "      <td>Actual departure</td>\n",
       "      <td>2011-12-01 10:19 AM</td>\n",
       "    </tr>\n",
       "    <tr>\n",
       "      <th>546</th>\n",
       "      <td>CO-1090-BOS-IAH</td>\n",
       "      <td>Scheduled arrival</td>\n",
       "      <td>2011-12-01 1:16 PM</td>\n",
       "    </tr>\n",
       "    <tr>\n",
       "      <th>547</th>\n",
       "      <td>CO-1090-BOS-IAH</td>\n",
       "      <td>Actual arrival</td>\n",
       "      <td>2011-12-01 1:19 PM</td>\n",
       "    </tr>\n",
       "  </tbody>\n",
       "</table>\n",
       "<p>548 rows × 3 columns</p>\n",
       "</div>"
      ],
      "text/plain": [
       "              Object             Property                Value\n",
       "0    AA-1221-MCO-ORD  Scheduled departure   2011-12-01 8:00 PM\n",
       "1    AA-1221-MCO-ORD     Actual departure   2011-12-01 8:23 PM\n",
       "2    AA-1221-MCO-ORD       Departure gate                   17\n",
       "3    AA-1221-MCO-ORD    Scheduled arrival   2011-12-01 9:45 PM\n",
       "4    AA-1221-MCO-ORD       Actual arrival   2011-12-01 9:53 PM\n",
       "..               ...                  ...                  ...\n",
       "543    CO-89-IAH-EWR       Actual arrival  2011-12-01 10:27 AM\n",
       "544  CO-1090-BOS-IAH  Scheduled departure   2011-12-01 9:45 AM\n",
       "545  CO-1090-BOS-IAH     Actual departure  2011-12-01 10:19 AM\n",
       "546  CO-1090-BOS-IAH    Scheduled arrival   2011-12-01 1:16 PM\n",
       "547  CO-1090-BOS-IAH       Actual arrival   2011-12-01 1:19 PM\n",
       "\n",
       "[548 rows x 3 columns]"
      ]
     },
     "execution_count": 40,
     "metadata": {},
     "output_type": "execute_result"
    }
   ],
   "source": [
    "data_truth=pd.read_csv('flight/flight_truth.csv')\n",
    "data_truth_=pd.DataFrame(data_truth, columns= ['Object','Property','Value'])\n",
    "data_truth"
   ]
  },
  {
   "cell_type": "code",
   "execution_count": 41,
   "id": "f837adc0",
   "metadata": {},
   "outputs": [
    {
     "data": {
      "text/plain": [
       "548"
      ]
     },
     "execution_count": 41,
     "metadata": {},
     "output_type": "execute_result"
    }
   ],
   "source": [
    "len(data_truth_)"
   ]
  },
  {
   "cell_type": "code",
   "execution_count": 42,
   "id": "a2eea98b",
   "metadata": {},
   "outputs": [],
   "source": [
    "list__=data_T.to_numpy()\n",
    "# list__"
   ]
  },
  {
   "cell_type": "code",
   "execution_count": 43,
   "id": "2fe935b4",
   "metadata": {},
   "outputs": [],
   "source": [
    "list_1=data_truth_.to_numpy()\n"
   ]
  },
  {
   "cell_type": "code",
   "execution_count": 44,
   "id": "51123377",
   "metadata": {},
   "outputs": [],
   "source": [
    "# def function(list_A,list_B):\n",
    "#     binary=[]\n",
    "#     search_list = [tuple(li[:-3]) for li in list_B]\n",
    "#     for ser_item in search_list:\n",
    "#         if ser_item in list_A:\n",
    "#             binary.append(1)\n",
    "#         else:\n",
    "#             binary.append(0)\n",
    "#     return binary"
   ]
  },
  {
   "cell_type": "code",
   "execution_count": 45,
   "id": "f969108b",
   "metadata": {},
   "outputs": [],
   "source": [
    "def function(list_A,list_B):\n",
    "    binary=[]\n",
    "    search_list = [tuple(li[:-3]) for li in list_B]\n",
    "    list_A = [tuple(li) for li in list_A]\n",
    "    for ser_item in search_list:\n",
    "        if ser_item in list_A:\n",
    "            binary.append(1)\n",
    "        else:\n",
    "            binary.append(0)\n",
    "    return binary"
   ]
  },
  {
   "cell_type": "code",
   "execution_count": 46,
   "id": "3d2953e4",
   "metadata": {},
   "outputs": [],
   "source": [
    "res = function(list_, list__)\n",
    "res_truth=function(list_1, list__)\n",
    "# res\n",
    "# res_truth"
   ]
  },
  {
   "cell_type": "code",
   "execution_count": 47,
   "id": "1d83b956",
   "metadata": {},
   "outputs": [],
   "source": [
    "# !pip install scikit-learn\n",
    "import sklearn"
   ]
  },
  {
   "cell_type": "code",
   "execution_count": 48,
   "id": "511abe5e",
   "metadata": {},
   "outputs": [],
   "source": [
    "from sklearn.metrics import precision_score\n",
    "from sklearn.metrics import accuracy_score\n",
    "from sklearn.metrics import recall_score\n",
    "from sklearn.metrics import f1_score"
   ]
  },
  {
   "cell_type": "code",
   "execution_count": 49,
   "id": "174f1429",
   "metadata": {},
   "outputs": [
    {
     "data": {
      "text/plain": [
       "0.8222988505747126"
      ]
     },
     "execution_count": 49,
     "metadata": {},
     "output_type": "execute_result"
    }
   ],
   "source": [
    "precision_score(res_truth,res)"
   ]
  },
  {
   "cell_type": "code",
   "execution_count": 50,
   "id": "d6594b3e",
   "metadata": {},
   "outputs": [
    {
     "data": {
      "text/plain": [
       "0.7431307718618173"
      ]
     },
     "execution_count": 50,
     "metadata": {},
     "output_type": "execute_result"
    }
   ],
   "source": [
    "accuracy_score(res_truth,res)"
   ]
  },
  {
   "cell_type": "code",
   "execution_count": 51,
   "id": "f54d10f5",
   "metadata": {},
   "outputs": [
    {
     "data": {
      "text/plain": [
       "0.7073363654340518"
      ]
     },
     "execution_count": 51,
     "metadata": {},
     "output_type": "execute_result"
    }
   ],
   "source": [
    "recall_score(res_truth,res)"
   ]
  },
  {
   "cell_type": "code",
   "execution_count": 52,
   "id": "16cab142",
   "metadata": {},
   "outputs": [
    {
     "data": {
      "text/plain": [
       "0.7604975018603166"
      ]
     },
     "execution_count": 52,
     "metadata": {},
     "output_type": "execute_result"
    }
   ],
   "source": [
    "f1_score(res_truth,res)"
   ]
  },
  {
   "cell_type": "code",
   "execution_count": null,
   "id": "7ebdafc6",
   "metadata": {},
   "outputs": [],
   "source": []
  }
 ],
 "metadata": {
  "kernelspec": {
   "display_name": "Python 3 (ipykernel)",
   "language": "python",
   "name": "python3"
  },
  "language_info": {
   "codemirror_mode": {
    "name": "ipython",
    "version": 3
   },
   "file_extension": ".py",
   "mimetype": "text/x-python",
   "name": "python",
   "nbconvert_exporter": "python",
   "pygments_lexer": "ipython3",
   "version": "3.9.5"
  }
 },
 "nbformat": 4,
 "nbformat_minor": 5
}

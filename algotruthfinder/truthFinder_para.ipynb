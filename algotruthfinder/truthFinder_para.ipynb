{
 "cells": [
  {
   "cell_type": "code",
   "execution_count": 1,
   "id": "e66b8ab9",
   "metadata": {},
   "outputs": [],
   "source": [
    "import findspark\n",
    "findspark.init('/Users/admin/spark-3.2.0')"
   ]
  },
  {
   "cell_type": "code",
   "execution_count": 2,
   "id": "e9448157",
   "metadata": {},
   "outputs": [],
   "source": [
    "import pyspark\n",
    "from pyspark import SparkContext,SparkConf"
   ]
  },
  {
   "cell_type": "code",
   "execution_count": 3,
   "id": "f5a6af7f",
   "metadata": {
    "scrolled": true
   },
   "outputs": [
    {
     "name": "stderr",
     "output_type": "stream",
     "text": [
      "Using Spark's default log4j profile: org/apache/spark/log4j-defaults.properties\n",
      "Setting default log level to \"WARN\".\n",
      "To adjust logging level use sc.setLogLevel(newLevel). For SparkR, use setLogLevel(newLevel).\n",
      "22/04/09 18:50:19 WARN NativeCodeLoader: Unable to load native-hadoop library for your platform... using builtin-java classes where applicable\n"
     ]
    }
   ],
   "source": [
    "from pyspark import  SparkContext,SparkConf\n",
    "conf = SparkConf().setAll([('spark.driver.host','localhost'), ('spark.executor.cores', '4'), ('spark.cores.max', '4'), ('spark.driver.memory','8g')])\n",
    "sc = SparkContext(conf=conf)"
   ]
  },
  {
   "cell_type": "code",
   "execution_count": 4,
   "id": "c1bbd26e",
   "metadata": {},
   "outputs": [
    {
     "data": {
      "text/html": [
       "\n",
       "        <div>\n",
       "            <p><b>SparkContext</b></p>\n",
       "\n",
       "            <p><a href=\"http://localhost:4040\">Spark UI</a></p>\n",
       "\n",
       "            <dl>\n",
       "              <dt>Version</dt>\n",
       "                <dd><code>v3.2.0</code></dd>\n",
       "              <dt>Master</dt>\n",
       "                <dd><code>local[*]</code></dd>\n",
       "              <dt>AppName</dt>\n",
       "                <dd><code>pyspark-shell</code></dd>\n",
       "            </dl>\n",
       "        </div>\n",
       "        "
      ],
      "text/plain": [
       "<SparkContext master=local[*] appName=pyspark-shell>"
      ]
     },
     "execution_count": 4,
     "metadata": {},
     "output_type": "execute_result"
    }
   ],
   "source": [
    "sc"
   ]
  },
  {
   "cell_type": "code",
   "execution_count": 5,
   "id": "f8608c81",
   "metadata": {},
   "outputs": [],
   "source": [
    "import pandas as pd\n",
    "import numpy as np\n",
    "import math as m"
   ]
  },
  {
   "cell_type": "code",
   "execution_count": 21,
   "id": "fcc10700",
   "metadata": {},
   "outputs": [
    {
     "data": {
      "text/html": [
       "<div>\n",
       "<style scoped>\n",
       "    .dataframe tbody tr th:only-of-type {\n",
       "        vertical-align: middle;\n",
       "    }\n",
       "\n",
       "    .dataframe tbody tr th {\n",
       "        vertical-align: top;\n",
       "    }\n",
       "\n",
       "    .dataframe thead th {\n",
       "        text-align: right;\n",
       "    }\n",
       "</style>\n",
       "<table border=\"1\" class=\"dataframe\">\n",
       "  <thead>\n",
       "    <tr style=\"text-align: right;\">\n",
       "      <th></th>\n",
       "      <th>Object</th>\n",
       "      <th>Property</th>\n",
       "      <th>Value</th>\n",
       "      <th>Source</th>\n",
       "    </tr>\n",
       "  </thead>\n",
       "  <tbody>\n",
       "    <tr>\n",
       "      <th>0</th>\n",
       "      <td>sial</td>\n",
       "      <td>Change %</td>\n",
       "      <td>1.170000e+00</td>\n",
       "      <td>advfn</td>\n",
       "    </tr>\n",
       "    <tr>\n",
       "      <th>1</th>\n",
       "      <td>sial</td>\n",
       "      <td>Last trading price</td>\n",
       "      <td>7.424000e+01</td>\n",
       "      <td>advfn</td>\n",
       "    </tr>\n",
       "    <tr>\n",
       "      <th>2</th>\n",
       "      <td>sial</td>\n",
       "      <td>Open price</td>\n",
       "      <td>7.354000e+01</td>\n",
       "      <td>advfn</td>\n",
       "    </tr>\n",
       "    <tr>\n",
       "      <th>3</th>\n",
       "      <td>sial</td>\n",
       "      <td>Change $</td>\n",
       "      <td>8.600000e-01</td>\n",
       "      <td>advfn</td>\n",
       "    </tr>\n",
       "    <tr>\n",
       "      <th>4</th>\n",
       "      <td>sial</td>\n",
       "      <td>Volume</td>\n",
       "      <td>6.746630e+05</td>\n",
       "      <td>advfn</td>\n",
       "    </tr>\n",
       "    <tr>\n",
       "      <th>...</th>\n",
       "      <td>...</td>\n",
       "      <td>...</td>\n",
       "      <td>...</td>\n",
       "      <td>...</td>\n",
       "    </tr>\n",
       "    <tr>\n",
       "      <th>56987</th>\n",
       "      <td>shld</td>\n",
       "      <td>Today's low</td>\n",
       "      <td>6.965000e+01</td>\n",
       "      <td>zacks</td>\n",
       "    </tr>\n",
       "    <tr>\n",
       "      <th>56988</th>\n",
       "      <td>shld</td>\n",
       "      <td>52wk High</td>\n",
       "      <td>9.479000e+01</td>\n",
       "      <td>zacks</td>\n",
       "    </tr>\n",
       "    <tr>\n",
       "      <th>56989</th>\n",
       "      <td>shld</td>\n",
       "      <td>52wk Low</td>\n",
       "      <td>5.921000e+01</td>\n",
       "      <td>zacks</td>\n",
       "    </tr>\n",
       "    <tr>\n",
       "      <th>56990</th>\n",
       "      <td>shld</td>\n",
       "      <td>Market cap</td>\n",
       "      <td>7.750000e+09</td>\n",
       "      <td>zacks</td>\n",
       "    </tr>\n",
       "    <tr>\n",
       "      <th>56991</th>\n",
       "      <td>shld</td>\n",
       "      <td>EPS</td>\n",
       "      <td>1.200000e-01</td>\n",
       "      <td>zacks</td>\n",
       "    </tr>\n",
       "  </tbody>\n",
       "</table>\n",
       "<p>56992 rows × 4 columns</p>\n",
       "</div>"
      ],
      "text/plain": [
       "      Object            Property         Value Source\n",
       "0       sial            Change %  1.170000e+00  advfn\n",
       "1       sial  Last trading price  7.424000e+01  advfn\n",
       "2       sial          Open price  7.354000e+01  advfn\n",
       "3       sial            Change $  8.600000e-01  advfn\n",
       "4       sial              Volume  6.746630e+05  advfn\n",
       "...      ...                 ...           ...    ...\n",
       "56987   shld         Today's low  6.965000e+01  zacks\n",
       "56988   shld           52wk High  9.479000e+01  zacks\n",
       "56989   shld            52wk Low  5.921000e+01  zacks\n",
       "56990   shld          Market cap  7.750000e+09  zacks\n",
       "56991   shld                 EPS  1.200000e-01  zacks\n",
       "\n",
       "[56992 rows x 4 columns]"
      ]
     },
     "execution_count": 21,
     "metadata": {},
     "output_type": "execute_result"
    }
   ],
   "source": [
    "data=pd.read_csv('stock/stock_clean.csv')\n",
    "data_T=pd.DataFrame(data, columns= ['Object','Property','Value','Source'])\n",
    "data_T"
   ]
  },
  {
   "cell_type": "code",
   "execution_count": 22,
   "id": "1ca5ba3c",
   "metadata": {},
   "outputs": [
    {
     "data": {
      "text/plain": [
       "(56992,)"
      ]
     },
     "execution_count": 22,
     "metadata": {},
     "output_type": "execute_result"
    }
   ],
   "source": [
    "data_T.Property.shape"
   ]
  },
  {
   "cell_type": "code",
   "execution_count": 23,
   "id": "8c2c957c",
   "metadata": {},
   "outputs": [
    {
     "data": {
      "text/plain": [
       "Last trading price    5490\n",
       "Change %              5298\n",
       "Change $              5273\n",
       "Volume                4993\n",
       "Today's high          4763\n",
       "Today's low           4762\n",
       "Open price            4717\n",
       "52wk High             4169\n",
       "52wk Low              4169\n",
       "Previous close        4067\n",
       "Market cap            2693\n",
       "Shares Outstanding    2690\n",
       "EPS                   2206\n",
       "Yield                  868\n",
       "Dividend               834\n",
       "Name: Property, dtype: int64"
      ]
     },
     "execution_count": 23,
     "metadata": {},
     "output_type": "execute_result"
    }
   ],
   "source": [
    "data_T.Property.value_counts()"
   ]
  },
  {
   "cell_type": "code",
   "execution_count": 24,
   "id": "e5e09ba1",
   "metadata": {},
   "outputs": [
    {
     "data": {
      "text/html": [
       "<div>\n",
       "<style scoped>\n",
       "    .dataframe tbody tr th:only-of-type {\n",
       "        vertical-align: middle;\n",
       "    }\n",
       "\n",
       "    .dataframe tbody tr th {\n",
       "        vertical-align: top;\n",
       "    }\n",
       "\n",
       "    .dataframe thead th {\n",
       "        text-align: right;\n",
       "    }\n",
       "</style>\n",
       "<table border=\"1\" class=\"dataframe\">\n",
       "  <thead>\n",
       "    <tr style=\"text-align: right;\">\n",
       "      <th></th>\n",
       "      <th>Object</th>\n",
       "      <th>Property</th>\n",
       "      <th>Value</th>\n",
       "      <th>Source</th>\n",
       "      <th>TSInitial</th>\n",
       "      <th>C_v</th>\n",
       "    </tr>\n",
       "  </thead>\n",
       "  <tbody>\n",
       "    <tr>\n",
       "      <th>0</th>\n",
       "      <td>sial</td>\n",
       "      <td>Change %</td>\n",
       "      <td>1.17</td>\n",
       "      <td>advfn</td>\n",
       "      <td>0.8</td>\n",
       "      <td>0.0</td>\n",
       "    </tr>\n",
       "    <tr>\n",
       "      <th>1</th>\n",
       "      <td>sial</td>\n",
       "      <td>Last trading price</td>\n",
       "      <td>74.24</td>\n",
       "      <td>advfn</td>\n",
       "      <td>0.8</td>\n",
       "      <td>0.0</td>\n",
       "    </tr>\n",
       "    <tr>\n",
       "      <th>2</th>\n",
       "      <td>sial</td>\n",
       "      <td>Open price</td>\n",
       "      <td>73.54</td>\n",
       "      <td>advfn</td>\n",
       "      <td>0.8</td>\n",
       "      <td>0.0</td>\n",
       "    </tr>\n",
       "    <tr>\n",
       "      <th>3</th>\n",
       "      <td>sial</td>\n",
       "      <td>Change $</td>\n",
       "      <td>0.86</td>\n",
       "      <td>advfn</td>\n",
       "      <td>0.8</td>\n",
       "      <td>0.0</td>\n",
       "    </tr>\n",
       "    <tr>\n",
       "      <th>4</th>\n",
       "      <td>sial</td>\n",
       "      <td>Volume</td>\n",
       "      <td>674663.00</td>\n",
       "      <td>advfn</td>\n",
       "      <td>0.8</td>\n",
       "      <td>0.0</td>\n",
       "    </tr>\n",
       "  </tbody>\n",
       "</table>\n",
       "</div>"
      ],
      "text/plain": [
       "  Object            Property      Value Source  TSInitial  C_v\n",
       "0   sial            Change %       1.17  advfn        0.8  0.0\n",
       "1   sial  Last trading price      74.24  advfn        0.8  0.0\n",
       "2   sial          Open price      73.54  advfn        0.8  0.0\n",
       "3   sial            Change $       0.86  advfn        0.8  0.0\n",
       "4   sial              Volume  674663.00  advfn        0.8  0.0"
      ]
     },
     "execution_count": 24,
     "metadata": {},
     "output_type": "execute_result"
    }
   ],
   "source": [
    "# constitution de dataframe pour le travail\n",
    "data_T['TSInitial']=0.8\n",
    "data_T['C_v']=0.0\n",
    "data_T.head(5)"
   ]
  },
  {
   "cell_type": "code",
   "execution_count": 25,
   "id": "899b6dac",
   "metadata": {},
   "outputs": [
    {
     "data": {
      "text/plain": [
       "[('sial', 'Change %', '1.17', 'advfn', '0.8', '0.0'),\n",
       " ('sial', 'Last trading price', '74.24', 'advfn', '0.8', '0.0'),\n",
       " ('sial', 'Open price', '73.54', 'advfn', '0.8', '0.0'),\n",
       " ('sial', 'Change $', '0.86', 'advfn', '0.8', '0.0'),\n",
       " ('sial', 'Volume', '674663.0', 'advfn', '0.8', '0.0')]"
      ]
     },
     "execution_count": 25,
     "metadata": {},
     "output_type": "execute_result"
    }
   ],
   "source": [
    "# Convertissons notre dataFrame en RDD\n",
    "data_T.to_csv('data_T.csv',index=False)\n",
    "read_ = sc.textFile(\"data_T.csv\")\n",
    "# Spliter selon les lignes de notre dataFrame\n",
    "read_rdd=read_.map(lambda line: line.split(\",\")).map(lambda line:(line[0],line[1],line[2],line[3],line[4],line[5])).filter(lambda x: x[0]!='Object')\n",
    "# Lecture de notre RDD\n",
    "read_rdd.take(5)"
   ]
  },
  {
   "cell_type": "code",
   "execution_count": 26,
   "id": "e3d83c9f",
   "metadata": {},
   "outputs": [],
   "source": [
    "def word2vec(word):\n",
    "    from collections import Counter\n",
    "    from math import sqrt\n",
    "\n",
    "    # count the characters in word\n",
    "    cw = Counter(word)\n",
    "\n",
    "    # precomputes a set of the different characters\n",
    "    sw = set(cw)\n",
    "    # precomputes the \"length\" of the word vector\n",
    "    lw = sqrt(sum(c*c for c in cw.values()))\n",
    "\n",
    "    # return a tuple\n",
    "    return cw, sw, lw\n",
    "\n",
    "def cosdis(a, b):\n",
    "    v1 = word2vec(a)\n",
    "    v2 = word2vec(b)\n",
    "    # which characters are common to the two words?\n",
    "    common = v1[1].intersection(v2[1])\n",
    "    # by definition of cosine distance we have\n",
    "    return sum(v1[0][ch]*v2[0][ch] for ch in common)/v1[2]/v2[2]\n",
    "\n"
   ]
  },
  {
   "cell_type": "code",
   "execution_count": 30,
   "id": "248109e7",
   "metadata": {},
   "outputs": [],
   "source": [
    "# Definition de la matice de similarite\n",
    "# def similarity(dataframe):\n",
    "#     dict_sim = {}\n",
    "#     for key, df in dataframe.groupby(by=['Object','Property']):\n",
    "#         Values = df['Value'].unique()\n",
    "#         row = key[0]+key[1]\n",
    "#         for  i in range(len(Values)):\n",
    "#             w1 = Values[i]\n",
    "#             for  u in range(len(Values)):\n",
    "#                 w2 = Values[u]\n",
    "#                 sim = 1\n",
    "#                 if w1!=w2:\n",
    "#                     sim = cosdis(w1,w2)\n",
    "#                 dict_sim[row+str(w1)+str(w2)] = sim\n",
    "#                 dict_sim[row+str(w2)+str(w1)] = sim\n",
    "#     return dict_sim\n",
    "def similarity(dataframe):\n",
    "    dict_sim = {}\n",
    "    for key, df in dataframe.groupby(by=['Object','Property']):\n",
    "        Values = df['Value'].unique()\n",
    "        row = key[0]+key[1]\n",
    "        for  i in range(len(Values)):\n",
    "            w1 = Values[i]\n",
    "            for  u in range(len(Values)):\n",
    "                w2 = Values[u]\n",
    "                sim = 1\n",
    "                if w1!=w2:\n",
    "                    t = abs(w1-w2)\n",
    "                    sim = 1/t\n",
    "                dict_sim[row+str(w1)+str(w2)] = sim\n",
    "                dict_sim[row+str(w2)+str(w1)] = sim\n",
    "    return dict_sim"
   ]
  },
  {
   "cell_type": "code",
   "execution_count": 31,
   "id": "30a46bde",
   "metadata": {},
   "outputs": [],
   "source": [
    "# Declaration des variables globales\n",
    "global data_T\n",
    "data_T=pd.read_csv('data_T.csv')\n",
    "global rho\n",
    "rho=0.7\n",
    "global lam\n",
    "lam=0.5\n",
    "global dict_sim\n",
    "global read_rdd\n",
    "\n"
   ]
  },
  {
   "cell_type": "code",
   "execution_count": 32,
   "id": "454c42cc",
   "metadata": {},
   "outputs": [],
   "source": [
    "dict_sim=similarity(data)\n",
    "\n",
    "\n",
    "# la fonction Map\n",
    "# (input x est un quatriplet constitutue de (object,property,valeur, TSinitial) et le renvoie \n",
    "# la cle(object,property,valeur) et la valeur sigma_v)\n",
    "def MapFunction(x):\n",
    "    return ((x[0],x[1],x[2]), (-m.log(1-float(x[4])), [(x[3],x[4])] ) )\n",
    "def ReduceFunction(x,y):\n",
    "    return x[0]+y[0],x[1]+y[1]\n",
    "def Mapelement(x):\n",
    "    return (x[0][0],x[0][1]),[(x[0][2],x[1][0],x[1][1])]\n",
    "def ReduceShuffling(x,y):\n",
    "    return x+y\n",
    "\n",
    "def reduceFonction(x):\n",
    "\n",
    "    out=(x[0],[])\n",
    "    for v in x[1]:\n",
    "        c_v=v[1]\n",
    "        l=0\n",
    "        for v_ in x[1]:\n",
    "            if v[0]!=v_[0]:\n",
    "                Key_sim=x[0][0]+x[0][1]+str(v[0])+str(v_[0])\n",
    "                c_v+=rho*(v_[1]*dict_sim[Key_sim])\n",
    "\n",
    "        CV=1/(1+np.exp(-lam*c_v))\n",
    "\n",
    "        out[1].append((v[0],CV,v[2]))\n",
    "\n",
    "    return out\n",
    "# rdd_cv = sc.parallelize(transf.map(reduceFonction).map(mapT).reduceByKey(lambda x,y: x+y ).collect()[0][1])\n",
    "def mapT(x):\n",
    "    out=[]\n",
    "    for v in x[1]:\n",
    "        for s in v[2]:\n",
    "            out.append((x[0][0],x[0][1],v[0],s[0],s[1],v[1]))\n",
    "    return (1,out)\n",
    "def mapTS(x):\n",
    "    return x[3],x[5]\n",
    "def mapReconstruit(x):\n",
    "    ts = 0\n",
    "    for s in source_ts:\n",
    "        if x[3]==s[0]:\n",
    "            ts = s[1]\n",
    "            if ts >=1:\n",
    "                ts = 1-0.0001\n",
    "            elif ts <= 0:\n",
    "                ts = 0 + 0.0001\n",
    "            break\n",
    "    return x[0],x[1],x[2],x[3],ts,x[5]\n",
    "\n",
    "\n",
    "def mapTS_(x):\n",
    "    return x[3],x[4]\n",
    "\n",
    "\n",
    "def cos_sim(a,b):\n",
    "    return float(np.dot(a, b) / (np.linalg.norm(a) * np.linalg.norm(b)))"
   ]
  },
  {
   "cell_type": "code",
   "execution_count": 33,
   "id": "b7dc2f39",
   "metadata": {},
   "outputs": [],
   "source": [
    "# !pip install psutil"
   ]
  },
  {
   "cell_type": "code",
   "execution_count": 34,
   "id": "2932afb5",
   "metadata": {},
   "outputs": [],
   "source": [
    "import os\n",
    "import psutil\n",
    "def get_process_memory():\n",
    "    process = psutil.Process(os.getpid())\n",
    "    return process.memory_info().rss\n"
   ]
  },
  {
   "cell_type": "code",
   "execution_count": 40,
   "id": "acdd2759",
   "metadata": {},
   "outputs": [],
   "source": [
    "import time as t\n",
    "def truthF(data_T):\n",
    "    mem_before = get_process_memory()\n",
    "    read_ = sc.textFile(\"data_T.csv\")\n",
    "    # Spliter selon les lignes de notre dataFrame\n",
    "    read_rdd=read_.map(lambda line: line.split(\",\")).map(lambda line:(line[0],line[1],line[2],line[3],line[4],line[5])).filter(lambda x: x[0]!='Object')\n",
    "    ni=5\n",
    "    trustold = 0.00001\n",
    "    global source_ts \n",
    "    source_ts = []\n",
    "    start = t.time()\n",
    "#     mem_before = get_process_memory()\n",
    "    nb_iter_do = 0\n",
    "    for i in range(ni):\n",
    "        \n",
    "        ts1 = list(read_rdd.map(mapTS_).reduceByKey(lambda x,y: x).sortBy(lambda x: x[0]).map(lambda x: float(x[1])).collect())\n",
    "        \n",
    "        fonc=read_rdd.map(MapFunction).reduceByKey(ReduceFunction)\n",
    "        foncajust=fonc.map(Mapelement).reduceByKey(ReduceShuffling).map(reduceFonction)\n",
    "        \n",
    "        transf=sc.parallelize(foncajust.map(mapT).reduceByKey(lambda x,y: x+y ).collect()[0][1])\n",
    "        \n",
    "        source_ts = list(transf.map(mapTS).groupByKey().mapValues(lambda x: sum(x) / len(x)).collect())\n",
    "        \n",
    "        read_rdd = transf.map(mapReconstruit)\n",
    "        \n",
    "        ts2 = list(read_rdd.map(mapTS_).reduceByKey(lambda x,y: x).sortBy(lambda x: x[0]).map(lambda x: float(x[1])).collect())\n",
    "        \n",
    "        print('Itération : ',i+1)\n",
    "        print(1-abs(cos_sim(ts1,ts2)))\n",
    "        nb_iter_do = i+1\n",
    "        if 1-abs(cos_sim(ts1,ts2)) < trustold:\n",
    "            break\n",
    "    end = t.time()\n",
    "    mem_after = get_process_memory()\n",
    "    \n",
    "    \n",
    "    return read_rdd,end-start,nb_iter_do,mem_after,mem_before,mem_after-mem_before\n",
    "    \n",
    "    \n",
    "    "
   ]
  },
  {
   "cell_type": "code",
   "execution_count": 41,
   "id": "6d29a169",
   "metadata": {
    "scrolled": true
   },
   "outputs": [
    {
     "name": "stdout",
     "output_type": "stream",
     "text": [
      "Itération :  1\n",
      "0.00020895331199655143\n",
      "Itération :  2\n",
      "5.0105988475435126e-05\n",
      "Itération :  3\n",
      "4.0803437263425835e-06\n"
     ]
    },
    {
     "data": {
      "text/plain": [
       "(PythonRDD[761] at RDD at PythonRDD.scala:53,\n",
       " 8.869157075881958,\n",
       " 3,\n",
       " 174198784,\n",
       " 173391872,\n",
       " 806912)"
      ]
     },
     "execution_count": 41,
     "metadata": {},
     "output_type": "execute_result"
    }
   ],
   "source": [
    "out = truthF(data_T)\n",
    "out"
   ]
  },
  {
   "cell_type": "code",
   "execution_count": 19,
   "id": "9057b4b4",
   "metadata": {},
   "outputs": [
    {
     "data": {
      "text/plain": [
       "[('sial', '52wk High', '74.26', 'barchart', 0.9872666088575536, 1.0),\n",
       " ('sial', '52wk High', '74.26', 'bloomberg', 0.9890036779028116, 1.0)]"
      ]
     },
     "execution_count": 19,
     "metadata": {},
     "output_type": "execute_result"
    }
   ],
   "source": [
    "out[0].take(2)"
   ]
  },
  {
   "cell_type": "code",
   "execution_count": 63,
   "id": "e6c5d355",
   "metadata": {},
   "outputs": [],
   "source": [
    "def mapGetResult(x):\n",
    "    return ((x[0],x[1]),(x[2],x[5]))\n",
    "def reduceGetResult(x,y):\n",
    "    return y\n",
    "# def reduceVote(x,y):\n",
    "#     if x[1] > y[1]:\n",
    "#         return x\n",
    "#     return y\n",
    "def reduceVote(x,y):\n",
    "    if x[1] > y[1]:\n",
    "        return x\n",
    "    elif x[1] == y[1]:\n",
    "        return (max(x[0],y[0]),y[1])\n",
    "    return y"
   ]
  },
  {
   "cell_type": "code",
   "execution_count": 64,
   "id": "63dbde1f",
   "metadata": {},
   "outputs": [
    {
     "data": {
      "text/plain": [
       "PythonRDD[534] at RDD at PythonRDD.scala:53"
      ]
     },
     "execution_count": 64,
     "metadata": {},
     "output_type": "execute_result"
    }
   ],
   "source": [
    "out[0].map(mapGetResult)"
   ]
  },
  {
   "cell_type": "code",
   "execution_count": 65,
   "id": "f644f421",
   "metadata": {},
   "outputs": [
    {
     "name": "stderr",
     "output_type": "stream",
     "text": [
      "/Users/admin/spark-3.2.0/python/lib/pyspark.zip/pyspark/shuffle.py:60: UserWarning: Please install psutil to have better support with spilling\n",
      "/Users/admin/spark-3.2.0/python/lib/pyspark.zip/pyspark/shuffle.py:60: UserWarning: Please install psutil to have better support with spilling\n",
      "/Users/admin/spark-3.2.0/python/lib/pyspark.zip/pyspark/shuffle.py:60: UserWarning: Please install psutil to have better support with spilling\n",
      "/Users/admin/spark-3.2.0/python/lib/pyspark.zip/pyspark/shuffle.py:60: UserWarning: Please install psutil to have better support with spilling\n"
     ]
    }
   ],
   "source": [
    "list_A =out[0].map(mapGetResult).reduceByKey(reduceVote).map(lambda x: (x[0][0],x[0][1],x[1][0])).collect()"
   ]
  },
  {
   "cell_type": "code",
   "execution_count": 66,
   "id": "34bfba00",
   "metadata": {},
   "outputs": [
    {
     "data": {
      "text/plain": [
       "548"
      ]
     },
     "execution_count": 66,
     "metadata": {},
     "output_type": "execute_result"
    }
   ],
   "source": [
    "len(list_A)"
   ]
  },
  {
   "cell_type": "code",
   "execution_count": 67,
   "id": "6c621cbc",
   "metadata": {},
   "outputs": [
    {
     "data": {
      "text/plain": [
       "8771"
      ]
     },
     "execution_count": 67,
     "metadata": {},
     "output_type": "execute_result"
    }
   ],
   "source": [
    "list_B = read_rdd.collect()\n",
    "len(list_B)"
   ]
  },
  {
   "cell_type": "code",
   "execution_count": 58,
   "id": "d49ce76a",
   "metadata": {},
   "outputs": [],
   "source": [
    "data_truth=pd.read_csv('DS3/data_truth.csv')\n",
    "data_truth_=pd.DataFrame(data_truth, columns= ['Object','Property','Value'])\n",
    "data_truth_.to_csv('data_truth2_.csv',index=False)\n",
    "read_truth = sc.textFile(\"data_truth2_.csv\")\n",
    "truth_rdd=read_truth.map(lambda line: line.split(\",\")).map(lambda line:(line[0],line[1],line[2])).filter(lambda x: x[0]!='Object')"
   ]
  },
  {
   "cell_type": "code",
   "execution_count": 59,
   "id": "fdc03455",
   "metadata": {},
   "outputs": [
    {
     "data": {
      "text/html": [
       "<div>\n",
       "<style scoped>\n",
       "    .dataframe tbody tr th:only-of-type {\n",
       "        vertical-align: middle;\n",
       "    }\n",
       "\n",
       "    .dataframe tbody tr th {\n",
       "        vertical-align: top;\n",
       "    }\n",
       "\n",
       "    .dataframe thead th {\n",
       "        text-align: right;\n",
       "    }\n",
       "</style>\n",
       "<table border=\"1\" class=\"dataframe\">\n",
       "  <thead>\n",
       "    <tr style=\"text-align: right;\">\n",
       "      <th></th>\n",
       "      <th>Object</th>\n",
       "      <th>Property</th>\n",
       "      <th>Value</th>\n",
       "      <th>False</th>\n",
       "    </tr>\n",
       "  </thead>\n",
       "  <tbody>\n",
       "    <tr>\n",
       "      <th>0</th>\n",
       "      <td>Object1</td>\n",
       "      <td>Property1</td>\n",
       "      <td>187624</td>\n",
       "      <td>[578072, 572409, 684020, 864960, 557219, 95500...</td>\n",
       "    </tr>\n",
       "    <tr>\n",
       "      <th>1</th>\n",
       "      <td>Object1</td>\n",
       "      <td>Property2</td>\n",
       "      <td>224546</td>\n",
       "      <td>[651553, 878885, 625249, 782443, 939105, 85409...</td>\n",
       "    </tr>\n",
       "    <tr>\n",
       "      <th>2</th>\n",
       "      <td>Object1</td>\n",
       "      <td>Property3</td>\n",
       "      <td>396265</td>\n",
       "      <td>[524438, 603730, 910565, 588245, 716213, 59698...</td>\n",
       "    </tr>\n",
       "    <tr>\n",
       "      <th>3</th>\n",
       "      <td>Object1</td>\n",
       "      <td>Property4</td>\n",
       "      <td>373418</td>\n",
       "      <td>[956307, 536143, 820641, 996561, 668847, 51247...</td>\n",
       "    </tr>\n",
       "    <tr>\n",
       "      <th>4</th>\n",
       "      <td>Object1</td>\n",
       "      <td>Property5</td>\n",
       "      <td>210163</td>\n",
       "      <td>[809108, 635049, 688158, 917234, 910901, 68376...</td>\n",
       "    </tr>\n",
       "    <tr>\n",
       "      <th>...</th>\n",
       "      <td>...</td>\n",
       "      <td>...</td>\n",
       "      <td>...</td>\n",
       "      <td>...</td>\n",
       "    </tr>\n",
       "    <tr>\n",
       "      <th>19995</th>\n",
       "      <td>Object2000</td>\n",
       "      <td>Property6</td>\n",
       "      <td>435825</td>\n",
       "      <td>[805931, 742582, 664464, 868393, 633566, 75195...</td>\n",
       "    </tr>\n",
       "    <tr>\n",
       "      <th>19996</th>\n",
       "      <td>Object2000</td>\n",
       "      <td>Property7</td>\n",
       "      <td>195253</td>\n",
       "      <td>[943016, 707972, 684410, 925215, 813877, 61989...</td>\n",
       "    </tr>\n",
       "    <tr>\n",
       "      <th>19997</th>\n",
       "      <td>Object2000</td>\n",
       "      <td>Property8</td>\n",
       "      <td>288447</td>\n",
       "      <td>[671303, 952863, 852256, 820746, 798688, 90676...</td>\n",
       "    </tr>\n",
       "    <tr>\n",
       "      <th>19998</th>\n",
       "      <td>Object2000</td>\n",
       "      <td>Property9</td>\n",
       "      <td>369764</td>\n",
       "      <td>[815147, 882568, 505130, 930011, 558329, 65413...</td>\n",
       "    </tr>\n",
       "    <tr>\n",
       "      <th>19999</th>\n",
       "      <td>Object2000</td>\n",
       "      <td>Property10</td>\n",
       "      <td>437146</td>\n",
       "      <td>[632113, 731602, 851500, 671193, 583931, 79698...</td>\n",
       "    </tr>\n",
       "  </tbody>\n",
       "</table>\n",
       "<p>20000 rows × 4 columns</p>\n",
       "</div>"
      ],
      "text/plain": [
       "           Object    Property   Value  \\\n",
       "0         Object1   Property1  187624   \n",
       "1         Object1   Property2  224546   \n",
       "2         Object1   Property3  396265   \n",
       "3         Object1   Property4  373418   \n",
       "4         Object1   Property5  210163   \n",
       "...           ...         ...     ...   \n",
       "19995  Object2000   Property6  435825   \n",
       "19996  Object2000   Property7  195253   \n",
       "19997  Object2000   Property8  288447   \n",
       "19998  Object2000   Property9  369764   \n",
       "19999  Object2000  Property10  437146   \n",
       "\n",
       "                                                   False  \n",
       "0      [578072, 572409, 684020, 864960, 557219, 95500...  \n",
       "1      [651553, 878885, 625249, 782443, 939105, 85409...  \n",
       "2      [524438, 603730, 910565, 588245, 716213, 59698...  \n",
       "3      [956307, 536143, 820641, 996561, 668847, 51247...  \n",
       "4      [809108, 635049, 688158, 917234, 910901, 68376...  \n",
       "...                                                  ...  \n",
       "19995  [805931, 742582, 664464, 868393, 633566, 75195...  \n",
       "19996  [943016, 707972, 684410, 925215, 813877, 61989...  \n",
       "19997  [671303, 952863, 852256, 820746, 798688, 90676...  \n",
       "19998  [815147, 882568, 505130, 930011, 558329, 65413...  \n",
       "19999  [632113, 731602, 851500, 671193, 583931, 79698...  \n",
       "\n",
       "[20000 rows x 4 columns]"
      ]
     },
     "execution_count": 59,
     "metadata": {},
     "output_type": "execute_result"
    },
    {
     "name": "stderr",
     "output_type": "stream",
     "text": [
      "22/03/30 17:55:43 WARN HeartbeatReceiver: Removing executor driver with no recent heartbeats: 1107783 ms exceeds timeout 120000 ms\n",
      "22/03/30 17:55:43 WARN SparkContext: Killing executors is not supported by current scheduler.\n"
     ]
    }
   ],
   "source": [
    "data_truth"
   ]
  },
  {
   "cell_type": "code",
   "execution_count": 69,
   "id": "1021dfec",
   "metadata": {},
   "outputs": [
    {
     "data": {
      "text/plain": [
       "548"
      ]
     },
     "execution_count": 69,
     "metadata": {},
     "output_type": "execute_result"
    }
   ],
   "source": [
    "list_truth=truth_rdd.collect()\n",
    "len(list_truth)"
   ]
  },
  {
   "cell_type": "code",
   "execution_count": 70,
   "id": "f044a061",
   "metadata": {},
   "outputs": [],
   "source": [
    "def function(list_A,list_B):\n",
    "    binary=[]\n",
    "    search_list = [tuple(li[:-3]) for li in list_B]\n",
    "    for ser_item in search_list:\n",
    "        if ser_item in list_A:\n",
    "            binary.append(1)\n",
    "        else:\n",
    "            binary.append(0)\n",
    "    return binary\n",
    "        \n",
    "    "
   ]
  },
  {
   "cell_type": "code",
   "execution_count": 71,
   "id": "8c9297bb",
   "metadata": {},
   "outputs": [],
   "source": [
    "res = function(list_A, list_B)\n",
    "res_truth=function(list_truth, list_B)\n",
    "# res\n",
    "# res_truth"
   ]
  },
  {
   "cell_type": "code",
   "execution_count": 72,
   "id": "9b91dd4f",
   "metadata": {},
   "outputs": [],
   "source": [
    "# !pip install scikit-learn\n",
    "import sklearn"
   ]
  },
  {
   "cell_type": "code",
   "execution_count": 73,
   "id": "18df7b86",
   "metadata": {},
   "outputs": [],
   "source": [
    "from sklearn.metrics import precision_score\n",
    "from sklearn.metrics import accuracy_score\n",
    "from sklearn.metrics import recall_score\n",
    "from sklearn.metrics import f1_score"
   ]
  },
  {
   "cell_type": "code",
   "execution_count": 74,
   "id": "1c5b7ae2",
   "metadata": {},
   "outputs": [
    {
     "data": {
      "text/plain": [
       "0.8403766148456318"
      ]
     },
     "execution_count": 74,
     "metadata": {},
     "output_type": "execute_result"
    }
   ],
   "source": [
    "precision_score(res_truth,res)"
   ]
  },
  {
   "cell_type": "code",
   "execution_count": 75,
   "id": "57bd5c4b",
   "metadata": {},
   "outputs": [
    {
     "data": {
      "text/plain": [
       "0.7779044578725345"
      ]
     },
     "execution_count": 75,
     "metadata": {},
     "output_type": "execute_result"
    }
   ],
   "source": [
    "accuracy_score(res_truth,res)"
   ]
  },
  {
   "cell_type": "code",
   "execution_count": 76,
   "id": "5db0d7a8",
   "metadata": {},
   "outputs": [
    {
     "data": {
      "text/plain": [
       "0.7589479928811549"
      ]
     },
     "execution_count": 76,
     "metadata": {},
     "output_type": "execute_result"
    }
   ],
   "source": [
    "recall_score(res_truth,res)"
   ]
  },
  {
   "cell_type": "code",
   "execution_count": 77,
   "id": "ae7c49d8",
   "metadata": {},
   "outputs": [
    {
     "data": {
      "text/plain": [
       "0.7975893599334997"
      ]
     },
     "execution_count": 77,
     "metadata": {},
     "output_type": "execute_result"
    }
   ],
   "source": [
    "f1_score(res_truth,res)"
   ]
  },
  {
   "cell_type": "code",
   "execution_count": null,
   "id": "5f6437cc",
   "metadata": {},
   "outputs": [],
   "source": []
  }
 ],
 "metadata": {
  "kernelspec": {
   "display_name": "Python 3 (ipykernel)",
   "language": "python",
   "name": "python3"
  },
  "language_info": {
   "codemirror_mode": {
    "name": "ipython",
    "version": 3
   },
   "file_extension": ".py",
   "mimetype": "text/x-python",
   "name": "python",
   "nbconvert_exporter": "python",
   "pygments_lexer": "ipython3",
   "version": "3.9.5"
  }
 },
 "nbformat": 4,
 "nbformat_minor": 5
}

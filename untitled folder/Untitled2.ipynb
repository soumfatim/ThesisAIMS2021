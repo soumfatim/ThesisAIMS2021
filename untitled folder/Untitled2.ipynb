{
 "cells": [
  {
   "cell_type": "code",
   "execution_count": 1,
   "id": "a26dcee5",
   "metadata": {},
   "outputs": [],
   "source": [
    "def word2vec(word):\n",
    "    from collections import Counter\n",
    "    from math import sqrt\n",
    "\n",
    "    # count the characters in word\n",
    "    cw = Counter(word)\n",
    "\n",
    "    # precomputes a set of the different characters\n",
    "    sw = set(cw)\n",
    "    # precomputes the \"length\" of the word vector\n",
    "    lw = sqrt(sum(c*c for c in cw.values()))\n",
    "\n",
    "    # return a tuple\n",
    "    return cw, sw, lw\n",
    "\n",
    "def cosdis(a, b):\n",
    "    v1 = word2vec(a)\n",
    "    v2 = word2vec(b)\n",
    "    # which characters are common to the two words?\n",
    "    common = v1[1].intersection(v2[1])\n",
    "    # by definition of cosine distance we have\n",
    "    return sum(v1[0][ch]*v2[0][ch] for ch in common)/v1[2]/v2[2]"
   ]
  },
  {
   "cell_type": "code",
   "execution_count": 2,
   "id": "5a0d4354",
   "metadata": {},
   "outputs": [
    {
     "ename": "NameError",
     "evalue": "name 'w1' is not defined",
     "output_type": "error",
     "traceback": [
      "\u001b[0;31m---------------------------------------------------------------------------\u001b[0m",
      "\u001b[0;31mNameError\u001b[0m                                 Traceback (most recent call last)",
      "\u001b[0;32m/var/folders/jm/xsstn31d4jv8my30vph7dpl00000gn/T/ipykernel_10774/3414242511.py\u001b[0m in \u001b[0;36m<module>\u001b[0;34m\u001b[0m\n\u001b[0;32m----> 1\u001b[0;31m \u001b[0msum\u001b[0m \u001b[0;34m=\u001b[0m \u001b[0mcosdis\u001b[0m\u001b[0;34m(\u001b[0m\u001b[0mw1\u001b[0m\u001b[0;34m,\u001b[0m\u001b[0mw2\u001b[0m\u001b[0;34m)\u001b[0m\u001b[0;34m\u001b[0m\u001b[0;34m\u001b[0m\u001b[0m\n\u001b[0m",
      "\u001b[0;31mNameError\u001b[0m: name 'w1' is not defined"
     ]
    }
   ],
   "source": [
    "sum = cosdis(w1,w2)"
   ]
  },
  {
   "cell_type": "code",
   "execution_count": null,
   "id": "a9ab5764",
   "metadata": {},
   "outputs": [],
   "source": [
    "def similarity(dataframe):\n",
    "    dict_sim = {}\n",
    "    for key, df in dataframe.groupby(by=['Object','Property']):\n",
    "        Values = df['Value'].unique()\n",
    "        row = key[0]+key[1]\n",
    "        for  i in range(len(Values)):\n",
    "            w1 = Values[i]\n",
    "            for  u in range(len(Values)):\n",
    "                w2 = Values[u]\n",
    "                sim = 1\n",
    "                if w1!=w2:\n",
    "                    t = abs(w1-w2)\n",
    "                    sim = 1/t\n",
    "                else:\n",
    "                    sim=cosdis(w1,w2)\n",
    "                dict_sim[row+str(w1)+str(w2)] = sim\n",
    "                dict_sim[row+str(w2)+str(w1)] = sim\n",
    "    return dict_sim"
   ]
  }
 ],
 "metadata": {
  "kernelspec": {
   "display_name": "Python 3 (ipykernel)",
   "language": "python",
   "name": "python3"
  },
  "language_info": {
   "codemirror_mode": {
    "name": "ipython",
    "version": 3
   },
   "file_extension": ".py",
   "mimetype": "text/x-python",
   "name": "python",
   "nbconvert_exporter": "python",
   "pygments_lexer": "ipython3",
   "version": "3.9.5"
  }
 },
 "nbformat": 4,
 "nbformat_minor": 5
}

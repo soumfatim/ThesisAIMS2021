{
 "cells": [
  {
   "cell_type": "code",
   "execution_count": 1,
   "id": "b0d8afbb",
   "metadata": {},
   "outputs": [],
   "source": [
    "K=(('Object1', 'Property3'),\n",
    "  [('476627', 3.6119184129778077),\n",
    "   ('614710', 2.407945608651872),\n",
    "   ('921796', 1.203972804325936),\n",
    "   ('940859', 1.203972804325936),\n",
    "   ('568214', 1.203972804325936),\n",
    "   ('979204', 1.203972804325936),\n",
    "   ('583144', 1.203972804325936)])\n",
    "rho=0.7\n",
    "lam=0.5\n",
    "def fon(K):\n",
    "    out=(K[0],[])\n",
    "    for v in K[1]:\n",
    "        c_v=v[1]\n",
    "        l=0\n",
    "        for v_ in K[1]:\n",
    "            if v[0]!=v_[0]:\n",
    "                Key_sim=K[0][0]+K[0][1]+str(v[0])+str(v_[0])\n",
    "                c_v+=rho*(v_[1]*dict_sim[Key_sim])\n",
    "        \n",
    "        CV=1/(1+np.exp(-lam*c_v))\n",
    "        out[1].append((v[0],CV))\n",
    "    return out"
   ]
  },
  {
   "cell_type": "code",
   "execution_count": null,
   "id": "19eb7615",
   "metadata": {},
   "outputs": [],
   "source": []
  }
 ],
 "metadata": {
  "kernelspec": {
   "display_name": "Python 3 (ipykernel)",
   "language": "python",
   "name": "python3"
  },
  "language_info": {
   "codemirror_mode": {
    "name": "ipython",
    "version": 3
   },
   "file_extension": ".py",
   "mimetype": "text/x-python",
   "name": "python",
   "nbconvert_exporter": "python",
   "pygments_lexer": "ipython3",
   "version": "3.9.5"
  }
 },
 "nbformat": 4,
 "nbformat_minor": 5
}
